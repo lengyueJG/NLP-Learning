{
 "cells": [
  {
   "cell_type": "markdown",
   "metadata": {},
   "source": [
    "# read_raw_data"
   ]
  },
  {
   "cell_type": "code",
   "execution_count": 1,
   "metadata": {
    "ExecuteTime": {
     "end_time": "2021-12-25T14:27:46.010456Z",
     "start_time": "2021-12-25T14:27:45.781356Z"
    }
   },
   "outputs": [],
   "source": [
    "import json\n",
    "import pandas as pd\n",
    "import re"
   ]
  },
  {
   "cell_type": "code",
   "execution_count": 2,
   "metadata": {
    "ExecuteTime": {
     "end_time": "2021-12-25T14:27:47.051111Z",
     "start_time": "2021-12-25T14:27:47.045693Z"
    }
   },
   "outputs": [],
   "source": [
    "filename = './data/weapon_raw.json'"
   ]
  },
  {
   "cell_type": "code",
   "execution_count": 3,
   "metadata": {
    "ExecuteTime": {
     "end_time": "2021-12-25T14:27:49.674628Z",
     "start_time": "2021-12-25T14:27:48.066760Z"
    },
    "scrolled": false
   },
   "outputs": [],
   "source": [
    "with open(filename,'r',encoding='utf-8') as f:\n",
    "    data = json.load(f)"
   ]
  },
  {
   "cell_type": "code",
   "execution_count": 4,
   "metadata": {
    "ExecuteTime": {
     "end_time": "2021-12-25T14:27:52.383796Z",
     "start_time": "2021-12-25T14:27:52.362271Z"
    }
   },
   "outputs": [
    {
     "data": {
      "text/plain": [
       "dict_keys(['link', 'catalog', 'name', 'country', 'data_info', 'module', 'text', 'info'])"
      ]
     },
     "execution_count": 4,
     "metadata": {},
     "output_type": "execute_result"
    }
   ],
   "source": [
    "line = data[0]\n",
    "line.keys()"
   ]
  },
  {
   "cell_type": "code",
   "execution_count": 6,
   "metadata": {
    "ExecuteTime": {
     "end_time": "2021-12-16T14:22:56.842354Z",
     "start_time": "2021-12-16T14:22:56.833809Z"
    }
   },
   "outputs": [
    {
     "data": {
      "text/plain": [
       "'飞行器'"
      ]
     },
     "execution_count": 6,
     "metadata": {},
     "output_type": "execute_result"
    }
   ],
   "source": [
    "line['catalog'][-1]"
   ]
  },
  {
   "cell_type": "code",
   "execution_count": 7,
   "metadata": {
    "ExecuteTime": {
     "end_time": "2021-12-16T14:22:57.533850Z",
     "start_time": "2021-12-16T14:22:57.525494Z"
    }
   },
   "outputs": [
    {
     "data": {
      "text/plain": [
       "[' ', '歼-20']"
      ]
     },
     "execution_count": 7,
     "metadata": {},
     "output_type": "execute_result"
    }
   ],
   "source": [
    "line['name'].split('> ')"
   ]
  },
  {
   "cell_type": "code",
   "execution_count": 9,
   "metadata": {
    "ExecuteTime": {
     "end_time": "2021-12-16T14:23:06.388323Z",
     "start_time": "2021-12-16T14:23:06.373662Z"
    }
   },
   "outputs": [
    {
     "data": {
      "text/plain": [
       "{'link': 'http://weapon.huanqiu.com/j_20',\n",
       " 'catalog': ['环球网', '环球军事', '全球 · 兵器库', '飞行器'],\n",
       " 'name': ' > 歼-20',\n",
       " 'country': '中国',\n",
       " 'data_info': ['名称：',\n",
       "  '歼-20战斗机',\n",
       "  '首飞时间：',\n",
       "  '2011年1月11日',\n",
       "  '研发单位：',\n",
       "  '成都飞机工业集团',\n",
       "  '关注度：',\n",
       "  '(4.8分)',\n",
       "  '武器装备',\n",
       "  '据推测，歼-20的可选装备如下：',\n",
       "  '（1）远程空对空导弹：霹雳-21，中程空对空导弹：霹雳-12D，近程空对空导弹：霹雳-10，近程空对空格斗导弹：霹雳-8；',\n",
       "  '（2）精确制导滑翔炸弹：雷石-6；',\n",
       "  '（3）机炮：一门23毫米双管航空机炮。',\n",
       "  '技术数据',\n",
       "  '乘员：',\n",
       "  '1人',\n",
       "  '机长：',\n",
       "  '20.3米',\n",
       "  '翼展：',\n",
       "  '12.88米',\n",
       "  '机高：',\n",
       "  '4.45米',\n",
       "  '空重：',\n",
       "  '17,000千克',\n",
       "  '发动机：',\n",
       "  '涡扇15发动机',\n",
       "  '最大起飞重量：',\n",
       "  '37,000千克',\n",
       "  '性能数据',\n",
       "  '最大飞行速度：',\n",
       "  '3,062.7千米每小时',\n",
       "  '最大航程：',\n",
       "  '6,000千米'],\n",
       " 'module': ['\\n\\t\\u3000\\u3000歼-20(J-20)，绰号“威龙”，北约代号“火牙”（FIRE FANG）。是成都飞机工业集团为中国人民解放军研制的最新一代（欧美旧标准为第四代，新标准以及俄罗斯标准为第五代）双发重型隐形战斗机，用于接替歼10、歼11等第三代空中优势/多用途歼击机的未来重型歼击机型号，该机将担负我军未来对空、对海的主权维护任务。预计歼-20将在2017~2019年间投入使用，2020年后逐步形成战斗力。首架原型机于2011年1月11日在成都实现首飞。\\n',\n",
       "  '结构特点',\n",
       "  '使用情况',\n",
       "  '结构特点',\n",
       "  '\\n\\t歼-20采用了单座、双发、全动双垂尾、DSI鼓包式进气道、上反鸭翼带尖拱边条的鸭式气动布局。机头、机身呈菱形，垂直尾翼向外倾斜，起落架舱门为锯齿边设计，机身以墨绿色涂装，远观近似于黑色。侧弹舱采用创新结构，可将导弹发射挂架预先封闭于外侧，同时配备国内最先进的新型格斗导弹。\\n',\n",
       "  '使用情况',\n",
       "  '\\n\\t用于接替歼10、歼11等第三代空中优势/多用途歼击机的未来重型歼击机型号，该机将担负我军未来对空、对海的主权维护任务。2011号歼20也已飞离成都前往其他地区进行更多试验。\\n',\n",
       "  '相关推荐',\n",
       "  '换一批',\n",
       "  '比一比',\n",
       "  'F-22“猛禽”',\n",
       "  '美国',\n",
       "  '比一比',\n",
       "  '歼-15',\n",
       "  '中国',\n",
       "  '比一比',\n",
       "  '歼-16',\n",
       "  '中国',\n",
       "  '\\n\\t\\t\\t\\t\\t\\t\\t\\t//条数大于5条时输出，小于等于5条不输出\\n\\t\\t\\t\\t\\t\\t\\t\\tvar weapon_listData = {\"bid\":\"26172\",\"data\":[{\"bid\":\"8636\",\"ename\":\"f_22\",\"img\":\"http://images.huanqiu.com/sarons/2013\\\\/08\\\\/8298b35542505ac1f30ad7f4350e1ead.jpg\",\"name\":\"F-22\\\\u201c\\\\u731b\\\\u79bd\\\\u201d\",\"c_id\":\"182\",\"country_ch\":\"\\\\u7f8e\\\\u56fd\",\"country_en\":\"america\"},{\"bid\":\"26185\",\"ename\":\"j_15\",\"img\":\"http://images.huanqiu.com/sarons/2014\\\\/05\\\\/9b7c9b7ddec98f0bb30f482b18736c49.jpg\",\"name\":\"\\\\u6b7c-15\",\"c_id\":\"1\",\"country_ch\":\"\\\\u4e2d\\\\u56fd\",\"country_en\":\"china\"},{\"bid\":\"26189\",\"ename\":\"j_16\",\"img\":\"http://images.huanqiu.com/sarons/2014\\\\/05\\\\/fbf9b50099fada940b43d269dbd3cd2f.jpg\",\"name\":\"\\\\u6b7c-16\",\"c_id\":\"1\",\"country_ch\":\"\\\\u4e2d\\\\u56fd\",\"country_en\":\"china\"},{\"bid\":\"6052\",\"ename\":\"j_10\",\"img\":\"http://images.huanqiu.com/sarons/2013\\\\/07\\\\/c1000104e0e043c220a00a39574d3fba.jpg\",\"name\":\"\\\\u6b7c-10\",\"c_id\":\"1\",\"country_ch\":\"\\\\u4e2d\\\\u56fd\",\"country_en\":\"china\"},{\"bid\":\"43698\",\"ename\":\"f_15_se\",\"img\":\"http://images.huanqiu.com/sarons/2014\\\\/01\\\\/7975ed833ac51f561eda325ba042328f.jpg\",\"name\":\"F-15SE\\\\u6c89\\\\u9ed8\\\\u9e70\",\"c_id\":\"182\",\"country_ch\":\"\\\\u7f8e\\\\u56fd\",\"country_en\":\"america\"},{\"bid\":\"1461\",\"ename\":\"f_15\",\"img\":\"http://images.huanqiu.com/sarons/2013\\\\/08\\\\/635e2eafa97826404b9697b51bd94175.jpg\",\"name\":\"F-15E\\\\u201c\\\\u6253\\\\u51fb\\\\u9e70\\\\u201d\",\"c_id\":\"182\",\"country_ch\":\"\\\\u7f8e\\\\u56fd\",\"country_en\":\"america\"},{\"bid\":\"8632\",\"ename\":\"f_35\",\"img\":\"http://images.huanqiu.com/sarons/2013\\\\/08\\\\/ce5f7cc703ddd7275271e467f92eabd0.jpg\",\"name\":\"F-35\\\\u201c\\\\u95ea\\\\u7535II\\\\u201d\",\"c_id\":\"182\",\"country_ch\":\"\\\\u7f8e\\\\u56fd\",\"country_en\":\"america\"},{\"bid\":\"1326\",\"ename\":\"f16\",\"img\":\"http://images.huanqiu.com/sarons/2013\\\\/08\\\\/b3f93d845af8b9dc4bdee6655b3aa75e.jpg\",\"name\":\"F-16\\\\u201c\\\\u6218\\\\u96bc\\\\u201d\",\"c_id\":\"182\",\"country_ch\":\"\\\\u7f8e\\\\u56fd\",\"country_en\":\"america\"},{\"bid\":\"26520\",\"ename\":\"annihilates_11_fighter\",\"img\":\"http://images.huanqiu.com/sarons/2013\\\\/11\\\\/238cef952c6d69c789ce8618ef945d84.jpg\",\"name\":\"\\\\u6b7c-11\\\\u6218\\\\u6597\\\\u673a\",\"c_id\":\"1\",\"country_ch\":\"\\\\u4e2d\\\\u56fd\",\"country_en\":\"china\"},{\"bid\":\"24509\",\"ename\":\"su_27_fighter\",\"img\":\"http://images.huanqiu.com/sarons/2013\\\\/11\\\\/eedee9952592436011104cd6313feafb.jpg\",\"name\":\"\\\\u82cf-27\\\\u6218\\\\u6597\\\\u673a\",\"c_id\":\"65\",\"country_ch\":\"\\\\u82cf\\\\/\\\\u4fc4\",\"country_en\":\"russia\"},{\"bid\":\"6124\",\"ename\":\"ef2000\",\"img\":\"http://images.huanqiu.com/sarons/2013\\\\/07\\\\/14848588e12a13643720f9746d368cd5.jpg\",\"name\":\" EF2000\\\\u201c\\\\u53f0\\\\u98ce\\\\u201d\",\"c_id\":\"76,72,91,95\",\"country_ch\":\"\\\\u82f1\\\\u56fd,\\\\u5fb7\\\\u56fd,\\\\u610f\\\\u5927\\\\u5229,\\\\u897f\\\\u73ed\\\\u7259\",\"country_en\":\"united_kingdom,germany,italy,spain\"},{\"bid\":\"6060\",\"ename\":\"su_30\",\"img\":\"http://images.huanqiu.com/sarons/2013\\\\/07\\\\/fffb36a67ad2362e3502dcb2a28e29e9.jpg\",\"name\":\"\\\\u82cf-30\\\\/\\\\u82cf-33\\\\u201c\\\\u4fa7\\\\u536b\\\\u201d \",\"c_id\":\"65\",\"country_ch\":\"\\\\u82cf\\\\/\\\\u4fc4\",\"country_en\":\"russia\"},{\"bid\":\"11770\",\"ename\":\"su_35_37\",\"img\":\"http://images.huanqiu.com/sarons/2013\\\\/08\\\\/bbacba6c7365b899cc681004b5031713.jpg\",\"name\":\"\\\\u82cf-35\\\\/\\\\u82cf-37\\\\u201c\\\\u4fa7\\\\u536b-E\\\\u201d\",\"c_id\":\"65\",\"country_ch\":\"\\\\u82cf\\\\/\\\\u4fc4\",\"country_en\":\"russia\"},{\"bid\":\"6083\",\"ename\":\"rafale\",\"img\":\"http://images.huanqiu.com/sarons/2013\\\\/07\\\\/5b2493b5e169feeb608f5f286651e964.jpg\",\"name\":\"\\\\u201c\\\\u9635\\\\u98ce\\\\u201d\",\"c_id\":\"81\",\"country_ch\":\"\\\\u6cd5\\\\u56fd\",\"country_en\":\"france\"},{\"bid\":\"6024\",\"ename\":\"f_18\",\"img\":\"http://images.huanqiu.com/sarons/2013\\\\/07\\\\/f5e9034205e258d90ae3a146a72560d5.jpg\",\"name\":\"F\\\\/A-18E\\\\/F\\\\/G\\\\u201c\\\\u8d85\\\\u7ea7\\\\u5927\\\\u9ec4\\\\u8702\\\\u201d\",\"c_id\":\"182\",\"country_ch\":\"\\\\u7f8e\\\\u56fd\",\"country_en\":\"america\"},{\"bid\":\"43653\",\"ename\":\"aut_18\",\"img\":\"http://images.huanqiu.com/sarons/2014\\\\/01\\\\/8cf012f8c1b6950cd876c7416507e274.jpg\",\"name\":\"AUT.18\",\"c_id\":\"91\",\"country_ch\":\"\\\\u610f\\\\u5927\\\\u5229\",\"country_en\":\"italy\"},{\"bid\":\"8404\",\"ename\":\"f_14\",\"img\":\"http://images.huanqiu.com/sarons/2013\\\\/08\\\\/dde91a3654511bea32d708e01becb987.jpg\",\"name\":\"F-14\\\\u201c\\\\u96c4\\\\u732b\\\\u201d\",\"c_id\":\"182\",\"country_ch\":\"\\\\u7f8e\\\\u56fd\",\"country_en\":\"america\"},{\"bid\":\"8334\",\"ename\":\"f_117\",\"img\":\"http://images.huanqiu.com/sarons/2013\\\\/08\\\\/9cab0fe2ad6c6d44c90707bf3bda1c95.jpg\",\"name\":\"F-117\\\\u201c\\\\u591c\\\\u9e70\\\\u201d\",\"c_id\":\"182\",\"country_ch\":\"\\\\u7f8e\\\\u56fd\",\"country_en\":\"america\"},{\"bid\":\"42719\",\"ename\":\"n1k2_j\",\"img\":\"http://images.huanqiu.com/sarons/2014\\\\/01\\\\/8695446ca6b8ab5a08db53e88154c0d7.jpg\",\"name\":\"N1K2-J\\\\u7d2b\\\\u7535\\\\u6539\",\"c_id\":\"12\",\"country_ch\":\"\\\\u65e5\\\\u672c\",\"country_en\":\"japan\"},{\"bid\":\"42728\",\"ename\":\"j6k1\",\"img\":\"http://images.huanqiu.com/sarons/2014\\\\/01\\\\/08a3aade33bfc7b6fc878c1ee920552e.jpg\",\"name\":\"J6K1\\\\u9635\\\\u98ce\",\"c_id\":\"12\",\"country_ch\":\"\\\\u65e5\\\\u672c\",\"country_en\":\"japan\"},{\"bid\":\"42731\",\"ename\":\"mxy7\",\"img\":\"http://images.huanqiu.com/sarons/2014\\\\/01\\\\/72595d74bcdfa5253a8e9a2bf33840ff.jpg\",\"name\":\"MXY7\\\\u6a31\\\\u82b1\",\"c_id\":\"12\",\"country_ch\":\"\\\\u65e5\\\\u672c\",\"country_en\":\"japan\"},{\"bid\":\"42859\",\"ename\":\"j4_m\",\"img\":\"http://images.huanqiu.com/sarons/2014\\\\/01\\\\/fe8aea639003f5ab7eb0e43e4680d121.jpg\",\"name\":\"J4M\\\\u6781\\\\u7535\\\\uff08\\\\u95ea\\\\u7535\\\\uff09\",\"c_id\":\"12\",\"country_ch\":\"\\\\u65e5\\\\u672c\",\"country_en\":\"japan\"},{\"bid\":\"43072\",\"ename\":\"skua\",\"img\":\"http://images.huanqiu.com/sarons/2014\\\\/01\\\\/a940a2e3b93ca464800ffef276abf0fc.jpg\",\"name\":\"B-24\\\\u8d3c\\\\u9e25\\\\u5f0f\\\\uff08Skua\\\\uff09\",\"c_id\":\"76\",\"country_ch\":\"\\\\u82f1\\\\u56fd\",\"country_en\":\"united_kingdom\"},{\"bid\":\"42708\",\"ename\":\"j2m\",\"img\":\"http://images.huanqiu.com/sarons/2014\\\\/01\\\\/4938814683ce5932e735879c51bd8ad0.jpg\",\"name\":\"J2M\\\\u96f7\\\\u7535\",\"c_id\":\"12\",\"country_ch\":\"\\\\u65e5\\\\u672c\",\"country_en\":\"japan\"},{\"bid\":\"42710\",\"ename\":\"j5n\",\"img\":\"http://images.huanqiu.com/sarons/2014\\\\/01\\\\/6c37c79dc616417c9888b8c3e5ce6c8c.jpg\",\"name\":\"J5N\\\\u5929\\\\u96f7\",\"c_id\":\"12\",\"country_ch\":\"\\\\u65e5\\\\u672c\",\"country_en\":\"japan\"},{\"bid\":\"42717\",\"ename\":\"n1k1_j\",\"img\":\"http://images.huanqiu.com/sarons/2014\\\\/01\\\\/b12cf7dac03c8ef738586a2ec9b25c65.jpg\",\"name\":\"N1K1-J\\\\u7d2b\\\\u7535\",\"c_id\":\"12\",\"country_ch\":\"\\\\u65e5\\\\u672c\",\"country_en\":\"japan\"},{\"bid\":\"42720\",\"ename\":\"j7w1\",\"img\":\"http://images.huanqiu.com/sarons/2014\\\\/01\\\\/91937bad8134049e5c2cc6db667eed5e.jpg\",\"name\":\"J7W1\\\\u9707\\\\u7535\",\"c_id\":\"12\",\"country_ch\":\"\\\\u65e5\\\\u672c\",\"country_en\":\"japan\"},{\"bid\":\"42724\",\"ename\":\"j8m1\",\"img\":\"http://images.huanqiu.com/sarons/2014\\\\/01\\\\/7776cac2a7b4a4d34691009c9d817eb1.jpg\",\"name\":\"J8M1\\\\u79cb\\\\u6c34\",\"c_id\":\"12\",\"country_ch\":\"\\\\u65e5\\\\u672c\",\"country_en\":\"japan\"},{\"bid\":\"42733\",\"ename\":\"plum_flower\",\"img\":\"http://images.huanqiu.com/sarons/2014\\\\/01\\\\/c0a89db5cd11e410ef490b4564893260.jpg\",\"name\":\"\\\\u6885\\\\u82b1\\\\u7279\\\\u6b8a\\\\u653b\\\\u51fb\\\\u673a\\\\uff08\\\\u6709\\\\u4ebaV1\\\\uff09\",\"c_id\":\"12\",\"country_ch\":\"\\\\u65e5\\\\u672c\",\"country_en\":\"japan\"},{\"bid\":\"42735\",\"ename\":\"orange\",\"img\":\"http://images.huanqiu.com/sarons/2014\\\\/01\\\\/e0f5ad4b8e464713356123cb8dab0653.jpg\",\"name\":\"\\\\u6a58\\\\u82b1\\\\u7279\\\\u6b8a\\\\u653b\\\\u51fb\\\\u673a\",\"c_id\":\"12\",\"country_ch\":\"\\\\u65e5\\\\u672c\",\"country_en\":\"japan\"}]}'],\n",
       " 'text': ['\\n\\t\\u3000\\u3000歼-20(J-20)，绰号“威龙”，北约代号“火牙”（FIRE FANG）。是成都飞机工业集团为中国人民解放军研制的最新一代（欧美旧标准为第四代，新标准以及俄罗斯标准为第五代）双发重型隐形战斗机，用于接替歼10、歼11等第三代空中优势/多用途歼击机的未来重型歼击机型号，该机将担负我军未来对空、对海的主权维护任务。预计歼-20将在2017~2019年间投入使用，2020年后逐步形成战斗力。首架原型机于2011年1月11日在成都实现首飞。\\n',\n",
       "  '\\n\\t歼-20采用了单座、双发、全动双垂尾、DSI鼓包式进气道、上反鸭翼带尖拱边条的鸭式气动布局。机头、机身呈菱形，垂直尾翼向外倾斜，起落架舱门为锯齿边设计，机身以墨绿色涂装，远观近似于黑色。侧弹舱采用创新结构，可将导弹发射挂架预先封闭于外侧，同时配备国内最先进的新型格斗导弹。\\n',\n",
       "  '\\n\\t用于接替歼10、歼11等第三代空中优势/多用途歼击机的未来重型歼击机型号，该机将担负我军未来对空、对海的主权维护任务。2011号歼20也已飞离成都前往其他地区进行更多试验。\\n'],\n",
       " 'info': ['结构特点',\n",
       "  '使用情况',\n",
       "  '结构特点',\n",
       "  '\\n\\t歼-20采用了单座、双发、全动双垂尾、DSI鼓包式进气道、上反鸭翼带尖拱边条的鸭式气动布局。机头、机身呈菱形，垂直尾翼向外倾斜，起落架舱门为锯齿边设计，机身以墨绿色涂装，远观近似于黑色。侧弹舱采用创新结构，可将导弹发射挂架预先封闭于外侧，同时配备国内最先进的新型格斗导弹。\\n',\n",
       "  '使用情况',\n",
       "  '\\n\\t用于接替歼10、歼11等第三代空中优势/多用途歼击机的未来重型歼击机型号，该机将担负我军未来对空、对海的主权维护任务。2011号歼20也已飞离成都前往其他地区进行更多试验。\\n']}"
      ]
     },
     "execution_count": 9,
     "metadata": {},
     "output_type": "execute_result"
    }
   ],
   "source": [
    "line"
   ]
  },
  {
   "cell_type": "code",
   "execution_count": 10,
   "metadata": {
    "ExecuteTime": {
     "end_time": "2021-12-16T14:23:10.953620Z",
     "start_time": "2021-12-16T14:23:10.946008Z"
    }
   },
   "outputs": [],
   "source": [
    "info = {}\n",
    "for i,inf in enumerate(line['info']):\n",
    "    if len(inf)>6 and len(line['info'][i-1])<6:\n",
    "        info[line['info'][i-1]]=inf"
   ]
  },
  {
   "cell_type": "code",
   "execution_count": 11,
   "metadata": {
    "ExecuteTime": {
     "end_time": "2021-12-16T14:23:12.033577Z",
     "start_time": "2021-12-16T14:23:12.025879Z"
    },
    "scrolled": true
   },
   "outputs": [
    {
     "data": {
      "text/plain": [
       "{'结构特点': '\\n\\t歼-20采用了单座、双发、全动双垂尾、DSI鼓包式进气道、上反鸭翼带尖拱边条的鸭式气动布局。机头、机身呈菱形，垂直尾翼向外倾斜，起落架舱门为锯齿边设计，机身以墨绿色涂装，远观近似于黑色。侧弹舱采用创新结构，可将导弹发射挂架预先封闭于外侧，同时配备国内最先进的新型格斗导弹。\\n',\n",
       " '使用情况': '\\n\\t用于接替歼10、歼11等第三代空中优势/多用途歼击机的未来重型歼击机型号，该机将担负我军未来对空、对海的主权维护任务。2011号歼20也已飞离成都前往其他地区进行更多试验。\\n'}"
      ]
     },
     "execution_count": 11,
     "metadata": {},
     "output_type": "execute_result"
    }
   ],
   "source": [
    "info"
   ]
  },
  {
   "cell_type": "code",
   "execution_count": 12,
   "metadata": {
    "ExecuteTime": {
     "end_time": "2021-12-16T14:23:12.897061Z",
     "start_time": "2021-12-16T14:23:12.888783Z"
    },
    "scrolled": true
   },
   "outputs": [
    {
     "data": {
      "text/plain": [
       "['结构特点',\n",
       " '使用情况',\n",
       " '结构特点',\n",
       " '\\n\\t歼-20采用了单座、双发、全动双垂尾、DSI鼓包式进气道、上反鸭翼带尖拱边条的鸭式气动布局。机头、机身呈菱形，垂直尾翼向外倾斜，起落架舱门为锯齿边设计，机身以墨绿色涂装，远观近似于黑色。侧弹舱采用创新结构，可将导弹发射挂架预先封闭于外侧，同时配备国内最先进的新型格斗导弹。\\n',\n",
       " '使用情况',\n",
       " '\\n\\t用于接替歼10、歼11等第三代空中优势/多用途歼击机的未来重型歼击机型号，该机将担负我军未来对空、对海的主权维护任务。2011号歼20也已飞离成都前往其他地区进行更多试验。\\n']"
      ]
     },
     "execution_count": 12,
     "metadata": {},
     "output_type": "execute_result"
    }
   ],
   "source": [
    "line['info']"
   ]
  },
  {
   "cell_type": "code",
   "execution_count": 13,
   "metadata": {
    "ExecuteTime": {
     "end_time": "2021-12-16T14:23:27.816374Z",
     "start_time": "2021-12-16T14:23:27.803262Z"
    }
   },
   "outputs": [],
   "source": [
    "def line_data_info(line):\n",
    "    info_dict = {}\n",
    "    info = line['data_info']\n",
    "    for i,x in enumerate(info):\n",
    "        if x=='武器装备':\n",
    "            lis = []\n",
    "            j = i\n",
    "            while True:\n",
    "                j+=1\n",
    "                if j<len(info):\n",
    "                    break                \n",
    "                if info[j].find('如下：')>-1:\n",
    "                    continue\n",
    "                elif re.match( r'（.*）', info[j]):\n",
    "                    lis.append(info[j])\n",
    "                else:\n",
    "                    info_dict['武器装备']=lis\n",
    "                    break        \n",
    "        elif x[-1] == '：' and x.find('如下：')==-1:\n",
    "            info_dict[x[:-1]] = info[i+1]\n",
    "    return info_dict"
   ]
  },
  {
   "cell_type": "code",
   "execution_count": 14,
   "metadata": {
    "ExecuteTime": {
     "end_time": "2021-12-16T14:23:28.611030Z",
     "start_time": "2021-12-16T14:23:28.600893Z"
    }
   },
   "outputs": [],
   "source": [
    "def line_info(line):\n",
    "    features=['结构特点', '型号演变', '使用情况','主要用户','研制历程']\n",
    "    info = line['info']\n",
    "    info_dict = {}\n",
    "    feature = None\n",
    "    for i,it in enumerate(info):\n",
    "        if it in features:\n",
    "            if feature:\n",
    "                info_dict[feature]=feature_data\n",
    "            feature = it\n",
    "            feature_data = []\n",
    "        else:\n",
    "            if feature:\n",
    "                feature_data.append(it)\n",
    "    if feature:\n",
    "        info_dict[feature]=feature_data\n",
    "    return info_dict"
   ]
  },
  {
   "cell_type": "code",
   "execution_count": 15,
   "metadata": {
    "ExecuteTime": {
     "end_time": "2021-12-16T14:23:30.313602Z",
     "start_time": "2021-12-16T14:23:30.305473Z"
    },
    "scrolled": true
   },
   "outputs": [
    {
     "data": {
      "text/plain": [
       "{'结构特点': ['\\n\\t歼-20采用了单座、双发、全动双垂尾、DSI鼓包式进气道、上反鸭翼带尖拱边条的鸭式气动布局。机头、机身呈菱形，垂直尾翼向外倾斜，起落架舱门为锯齿边设计，机身以墨绿色涂装，远观近似于黑色。侧弹舱采用创新结构，可将导弹发射挂架预先封闭于外侧，同时配备国内最先进的新型格斗导弹。\\n'],\n",
       " '使用情况': ['\\n\\t用于接替歼10、歼11等第三代空中优势/多用途歼击机的未来重型歼击机型号，该机将担负我军未来对空、对海的主权维护任务。2011号歼20也已飞离成都前往其他地区进行更多试验。\\n']}"
      ]
     },
     "execution_count": 15,
     "metadata": {},
     "output_type": "execute_result"
    }
   ],
   "source": [
    "line_info(data[0])"
   ]
  },
  {
   "cell_type": "code",
   "execution_count": 16,
   "metadata": {
    "ExecuteTime": {
     "end_time": "2021-12-16T14:23:33.115426Z",
     "start_time": "2021-12-16T14:23:33.106406Z"
    }
   },
   "outputs": [],
   "source": [
    "def line_dict(line):\n",
    "    line_dict={}\n",
    "    line_dict['link'] = line['link']\n",
    "    line_dict['catalog'] = line['catalog'][-1]\n",
    "    line_dict['name'] = line['name'].replace(' > ','')\n",
    "    line_dict['country'] = line['country']\n",
    "    line_dict['data_info'] = line_data_info(line)\n",
    "    line_dict['text'] = line['text']\n",
    "    line_dict['info'] = line_info(line)\n",
    "    return line_dict"
   ]
  },
  {
   "cell_type": "code",
   "execution_count": 17,
   "metadata": {
    "ExecuteTime": {
     "end_time": "2021-12-16T14:23:50.747713Z",
     "start_time": "2021-12-16T14:23:35.072089Z"
    }
   },
   "outputs": [],
   "source": [
    "df = pd.DataFrame()\n",
    "for i,line in enumerate(data):\n",
    "#     print(i)\n",
    "    line_dic = line_dict(line)\n",
    "    df=df.append(line_dic,ignore_index=True)"
   ]
  },
  {
   "cell_type": "markdown",
   "metadata": {
    "ExecuteTime": {
     "end_time": "2020-05-08T13:19:07.522648Z",
     "start_time": "2020-05-08T13:19:07.483516Z"
    }
   },
   "source": [
    "    # 大致查看一下info中有哪些特征\n",
    "info_set = set()\n",
    "for i,line in enumerate(data):\n",
    "    for j,it in enumerate(line['info']):\n",
    "        if len(it)==4:\n",
    "            info_set.add(it)\n",
    "        # 查看了几个词的上下文内容\n",
    "        # if it== '第一批次':\n",
    "            # print(line['info'])\n",
    "        if j>5:\n",
    "            break\n",
    "info_set"
   ]
  },
  {
   "cell_type": "code",
   "execution_count": 18,
   "metadata": {
    "ExecuteTime": {
     "end_time": "2021-12-16T14:23:50.773701Z",
     "start_time": "2021-12-16T14:23:50.749660Z"
    },
    "scrolled": false
   },
   "outputs": [
    {
     "data": {
      "text/html": [
       "<div>\n",
       "<style scoped>\n",
       "    .dataframe tbody tr th:only-of-type {\n",
       "        vertical-align: middle;\n",
       "    }\n",
       "\n",
       "    .dataframe tbody tr th {\n",
       "        vertical-align: top;\n",
       "    }\n",
       "\n",
       "    .dataframe thead th {\n",
       "        text-align: right;\n",
       "    }\n",
       "</style>\n",
       "<table border=\"1\" class=\"dataframe\">\n",
       "  <thead>\n",
       "    <tr style=\"text-align: right;\">\n",
       "      <th></th>\n",
       "      <th>catalog</th>\n",
       "      <th>country</th>\n",
       "      <th>data_info</th>\n",
       "      <th>info</th>\n",
       "      <th>link</th>\n",
       "      <th>name</th>\n",
       "      <th>text</th>\n",
       "    </tr>\n",
       "  </thead>\n",
       "  <tbody>\n",
       "    <tr>\n",
       "      <th>0</th>\n",
       "      <td>飞行器</td>\n",
       "      <td>中国</td>\n",
       "      <td>{'名称': '歼-20战斗机', '首飞时间': '2011年1月11日', '研发单位'...</td>\n",
       "      <td>{'结构特点': ['\n",
       "\t歼-20采用了单座、双发、全动双垂尾、DSI鼓包式进气道、上反鸭翼...</td>\n",
       "      <td>http://weapon.huanqiu.com/j_20</td>\n",
       "      <td>歼-20</td>\n",
       "      <td>[\\n\\t　　歼-20(J-20)，绰号“威龙”，北约代号“火牙”（FIRE FANG）。是...</td>\n",
       "    </tr>\n",
       "    <tr>\n",
       "      <th>1</th>\n",
       "      <td>飞行器</td>\n",
       "      <td>美国</td>\n",
       "      <td>{'名称': 'B-58“盗贼”', '首飞时间': '1956年11月11日', '服役时...</td>\n",
       "      <td>{'结构特点': ['\n",
       "\t三角翼；翼下吊挂四台涡轮喷气式发动机；无水平尾翼；细长的尖头机身；...</td>\n",
       "      <td>http://weapon.huanqiu.com/b_58</td>\n",
       "      <td>B-58“盗贼”</td>\n",
       "      <td>[\\n\\t三角翼；翼下吊挂四台涡轮喷气式发动机；无水平尾翼；细长的尖头机身；机身下的大有效钱...</td>\n",
       "    </tr>\n",
       "    <tr>\n",
       "      <th>2</th>\n",
       "      <td>飞行器</td>\n",
       "      <td>美国</td>\n",
       "      <td>{'名称': 'O3U/SU“海盗”', '首飞时间': '1930年', '生产单位': ...</td>\n",
       "      <td>{'结构特点': ['\n",
       "\t双翼，带有上翼翻角、下翼翻角和后掠角；星形发动机（带整流罩或不带整...</td>\n",
       "      <td>http://weapon.huanqiu.com/o3u_su</td>\n",
       "      <td>O3U/SU“海盗”</td>\n",
       "      <td>[\\n\\t　　沃特公司的新“海盗”是基于O2U观察机／通用机的成功发展出来的，它和O2U的机...</td>\n",
       "    </tr>\n",
       "    <tr>\n",
       "      <th>3</th>\n",
       "      <td>飞行器</td>\n",
       "      <td>美国</td>\n",
       "      <td>{'名称': 'BC/AT-6/SNJ“德克萨斯人”', '首飞时间': '1936年4月（...</td>\n",
       "      <td>{'结构特点': ['\n",
       "\t单翼；收放式起落架；被整流罩严密包裹的星形发动机；固定尾轮。\n",
       "']...</td>\n",
       "      <td>http://weapon.huanqiu.com/bc_at_6_snj</td>\n",
       "      <td>BC/AT-6/SNJ“德克萨斯人”</td>\n",
       "      <td>[\\n\\t单翼；收放式起落架；被整流罩严密包裹的星形发动机；固定尾轮。\\n, \\n\\t数十年...</td>\n",
       "    </tr>\n",
       "    <tr>\n",
       "      <th>4</th>\n",
       "      <td>飞行器</td>\n",
       "      <td>美国</td>\n",
       "      <td>{'名称': '18型“北极星”', '首飞时间': '1939年9月21日', '研发单位...</td>\n",
       "      <td>{'结构特点': ['\n",
       "\t单翼；收放式起落架；被整流罩严密包裹的两台联装的星形发动机；双尾翼...</td>\n",
       "      <td>http://weapon.huanqiu.com/type_18</td>\n",
       "      <td>18型“北极星”</td>\n",
       "      <td>[\\n\\t单翼；收放式起落架；被整流罩严密包裹的两台联装的星形发动机；双尾翼。\\n, \\n\\...</td>\n",
       "    </tr>\n",
       "  </tbody>\n",
       "</table>\n",
       "</div>"
      ],
      "text/plain": [
       "  catalog country                                          data_info  \\\n",
       "0     飞行器      中国  {'名称': '歼-20战斗机', '首飞时间': '2011年1月11日', '研发单位'...   \n",
       "1     飞行器      美国  {'名称': 'B-58“盗贼”', '首飞时间': '1956年11月11日', '服役时...   \n",
       "2     飞行器      美国  {'名称': 'O3U/SU“海盗”', '首飞时间': '1930年', '生产单位': ...   \n",
       "3     飞行器      美国  {'名称': 'BC/AT-6/SNJ“德克萨斯人”', '首飞时间': '1936年4月（...   \n",
       "4     飞行器      美国  {'名称': '18型“北极星”', '首飞时间': '1939年9月21日', '研发单位...   \n",
       "\n",
       "                                                info  \\\n",
       "0  {'结构特点': ['\n",
       "\t歼-20采用了单座、双发、全动双垂尾、DSI鼓包式进气道、上反鸭翼...   \n",
       "1  {'结构特点': ['\n",
       "\t三角翼；翼下吊挂四台涡轮喷气式发动机；无水平尾翼；细长的尖头机身；...   \n",
       "2  {'结构特点': ['\n",
       "\t双翼，带有上翼翻角、下翼翻角和后掠角；星形发动机（带整流罩或不带整...   \n",
       "3  {'结构特点': ['\n",
       "\t单翼；收放式起落架；被整流罩严密包裹的星形发动机；固定尾轮。\n",
       "']...   \n",
       "4  {'结构特点': ['\n",
       "\t单翼；收放式起落架；被整流罩严密包裹的两台联装的星形发动机；双尾翼...   \n",
       "\n",
       "                                    link                name  \\\n",
       "0         http://weapon.huanqiu.com/j_20                歼-20   \n",
       "1         http://weapon.huanqiu.com/b_58            B-58“盗贼”   \n",
       "2       http://weapon.huanqiu.com/o3u_su          O3U/SU“海盗”   \n",
       "3  http://weapon.huanqiu.com/bc_at_6_snj  BC/AT-6/SNJ“德克萨斯人”   \n",
       "4      http://weapon.huanqiu.com/type_18            18型“北极星”   \n",
       "\n",
       "                                                text  \n",
       "0  [\\n\\t　　歼-20(J-20)，绰号“威龙”，北约代号“火牙”（FIRE FANG）。是...  \n",
       "1  [\\n\\t三角翼；翼下吊挂四台涡轮喷气式发动机；无水平尾翼；细长的尖头机身；机身下的大有效钱...  \n",
       "2  [\\n\\t　　沃特公司的新“海盗”是基于O2U观察机／通用机的成功发展出来的，它和O2U的机...  \n",
       "3  [\\n\\t单翼；收放式起落架；被整流罩严密包裹的星形发动机；固定尾轮。\\n, \\n\\t数十年...  \n",
       "4  [\\n\\t单翼；收放式起落架；被整流罩严密包裹的两台联装的星形发动机；双尾翼。\\n, \\n\\...  "
      ]
     },
     "execution_count": 18,
     "metadata": {},
     "output_type": "execute_result"
    }
   ],
   "source": [
    "df.head()"
   ]
  },
  {
   "cell_type": "code",
   "execution_count": 19,
   "metadata": {
    "ExecuteTime": {
     "end_time": "2021-12-16T14:24:58.732500Z",
     "start_time": "2021-12-16T14:24:58.720521Z"
    }
   },
   "outputs": [],
   "source": [
    "count= df['catalog'].value_counts()"
   ]
  },
  {
   "cell_type": "code",
   "execution_count": 20,
   "metadata": {
    "ExecuteTime": {
     "end_time": "2021-12-16T14:24:59.122864Z",
     "start_time": "2021-12-16T14:24:59.113129Z"
    }
   },
   "outputs": [
    {
     "data": {
      "text/plain": [
       "飞行器       1330\n",
       "舰船舰艇      1192\n",
       "枪械与单兵      966\n",
       "坦克装甲车辆     547\n",
       "火炮         540\n",
       "爆炸物        459\n",
       "导弹武器       445\n",
       "太空装备       366\n",
       "Name: catalog, dtype: int64"
      ]
     },
     "execution_count": 20,
     "metadata": {},
     "output_type": "execute_result"
    }
   ],
   "source": [
    "count"
   ]
  },
  {
   "cell_type": "code",
   "execution_count": 21,
   "metadata": {
    "ExecuteTime": {
     "end_time": "2021-12-16T14:25:05.158987Z",
     "start_time": "2021-12-16T14:25:05.148226Z"
    }
   },
   "outputs": [],
   "source": [
    "fil = re.compile(u'[^0-9a-zA-Z\\u4e00-\\u9fa5.， ,\\-。%《*》/•、&＆(—)（+）：？!！“”·]+', re.UNICODE)"
   ]
  },
  {
   "cell_type": "code",
   "execution_count": 24,
   "metadata": {
    "ExecuteTime": {
     "end_time": "2021-12-16T14:26:08.016614Z",
     "start_time": "2021-12-16T14:26:07.935229Z"
    }
   },
   "outputs": [],
   "source": [
    "labels = []\n",
    "texts = []\n",
    "for d in data:\n",
    "    labels.append(d['catalog'][-1])\n",
    "    text = ''.join(d['text'])\n",
    "    text = fil.sub('', text)\n",
    "    texts.append(text)"
   ]
  },
  {
   "cell_type": "code",
   "execution_count": 25,
   "metadata": {
    "ExecuteTime": {
     "end_time": "2021-12-16T14:26:09.446045Z",
     "start_time": "2021-12-16T14:26:09.440323Z"
    }
   },
   "outputs": [],
   "source": [
    "classify_dict = {}\n",
    "classify_dict['labels']=labels\n",
    "classify_dict['texts']=texts"
   ]
  },
  {
   "cell_type": "code",
   "execution_count": 26,
   "metadata": {
    "ExecuteTime": {
     "end_time": "2021-12-16T14:26:10.320736Z",
     "start_time": "2021-12-16T14:26:10.309453Z"
    }
   },
   "outputs": [],
   "source": [
    "classify_df = pd.DataFrame(classify_dict)"
   ]
  },
  {
   "cell_type": "code",
   "execution_count": 27,
   "metadata": {
    "ExecuteTime": {
     "end_time": "2021-12-16T14:26:12.116249Z",
     "start_time": "2021-12-16T14:26:12.099557Z"
    }
   },
   "outputs": [
    {
     "data": {
      "text/html": [
       "<div>\n",
       "<style scoped>\n",
       "    .dataframe tbody tr th:only-of-type {\n",
       "        vertical-align: middle;\n",
       "    }\n",
       "\n",
       "    .dataframe tbody tr th {\n",
       "        vertical-align: top;\n",
       "    }\n",
       "\n",
       "    .dataframe thead th {\n",
       "        text-align: right;\n",
       "    }\n",
       "</style>\n",
       "<table border=\"1\" class=\"dataframe\">\n",
       "  <thead>\n",
       "    <tr style=\"text-align: right;\">\n",
       "      <th></th>\n",
       "      <th>labels</th>\n",
       "      <th>texts</th>\n",
       "    </tr>\n",
       "  </thead>\n",
       "  <tbody>\n",
       "    <tr>\n",
       "      <th>0</th>\n",
       "      <td>飞行器</td>\n",
       "      <td>歼-20(J-20)，绰号“威龙”，北约代号“火牙”（FIRE FANG）。是成都飞机工业集...</td>\n",
       "    </tr>\n",
       "    <tr>\n",
       "      <th>1</th>\n",
       "      <td>飞行器</td>\n",
       "      <td>三角翼翼下吊挂四台涡轮喷气式发动机无水平尾翼细长的尖头机身机身下的大有效钱荷荚舱。康维尔公司...</td>\n",
       "    </tr>\n",
       "    <tr>\n",
       "      <th>2</th>\n",
       "      <td>飞行器</td>\n",
       "      <td>沃特公司的新“海盗”是基于O2U观察机通用机的成功发展出来的，它和O2U的机型十分相似，变种...</td>\n",
       "    </tr>\n",
       "    <tr>\n",
       "      <th>3</th>\n",
       "      <td>飞行器</td>\n",
       "      <td>单翼收放式起落架被整流罩严密包裹的星形发动机固定尾轮。数十年来仅被当作“驾驶员制造者”的AT...</td>\n",
       "    </tr>\n",
       "    <tr>\n",
       "      <th>4</th>\n",
       "      <td>飞行器</td>\n",
       "      <td>单翼收放式起落架被整流罩严密包裹的两台联装的星形发动机双尾翼。1940年，“北极星”首次吸引...</td>\n",
       "    </tr>\n",
       "  </tbody>\n",
       "</table>\n",
       "</div>"
      ],
      "text/plain": [
       "  labels                                              texts\n",
       "0    飞行器  歼-20(J-20)，绰号“威龙”，北约代号“火牙”（FIRE FANG）。是成都飞机工业集...\n",
       "1    飞行器  三角翼翼下吊挂四台涡轮喷气式发动机无水平尾翼细长的尖头机身机身下的大有效钱荷荚舱。康维尔公司...\n",
       "2    飞行器  沃特公司的新“海盗”是基于O2U观察机通用机的成功发展出来的，它和O2U的机型十分相似，变种...\n",
       "3    飞行器  单翼收放式起落架被整流罩严密包裹的星形发动机固定尾轮。数十年来仅被当作“驾驶员制造者”的AT...\n",
       "4    飞行器  单翼收放式起落架被整流罩严密包裹的两台联装的星形发动机双尾翼。1940年，“北极星”首次吸引..."
      ]
     },
     "execution_count": 27,
     "metadata": {},
     "output_type": "execute_result"
    }
   ],
   "source": [
    "classify_df.head()"
   ]
  },
  {
   "cell_type": "code",
   "execution_count": 28,
   "metadata": {
    "ExecuteTime": {
     "end_time": "2021-12-16T14:26:22.124981Z",
     "start_time": "2021-12-16T14:26:19.063756Z"
    },
    "scrolled": false
   },
   "outputs": [
    {
     "name": "stderr",
     "output_type": "stream",
     "text": [
      "Matplotlib created a temporary config/cache directory at /tmp/matplotlib-igs2aa7_ because the default path (/home/lengyue/.cache/matplotlib) is not a writable directory; it is highly recommended to set the MPLCONFIGDIR environment variable to a writable directory, in particular to speed up the import of Matplotlib and to better support multiprocessing.\n"
     ]
    },
    {
     "data": {
      "text/plain": [
       "([<matplotlib.axis.XTick at 0x7fb946ffbd00>,\n",
       "  <matplotlib.axis.XTick at 0x7fb946ffbcd0>,\n",
       "  <matplotlib.axis.XTick at 0x7fb946fee820>,\n",
       "  <matplotlib.axis.XTick at 0x7fb946870d90>,\n",
       "  <matplotlib.axis.XTick at 0x7fb9468832e0>,\n",
       "  <matplotlib.axis.XTick at 0x7fb9468837f0>,\n",
       "  <matplotlib.axis.XTick at 0x7fb946883d00>,\n",
       "  <matplotlib.axis.XTick at 0x7fb946883e50>],\n",
       " [Text(0, 0, '飞行器'),\n",
       "  Text(1, 0, '舰船舰艇'),\n",
       "  Text(2, 0, '枪械与单兵'),\n",
       "  Text(3, 0, '坦克装甲车辆'),\n",
       "  Text(4, 0, '火炮'),\n",
       "  Text(5, 0, '爆炸物'),\n",
       "  Text(6, 0, '导弹武器'),\n",
       "  Text(7, 0, '太空装备')])"
      ]
     },
     "execution_count": 28,
     "metadata": {},
     "output_type": "execute_result"
    },
    {
     "name": "stderr",
     "output_type": "stream",
     "text": [
      "findfont: Font family ['simhei'] not found. Falling back to DejaVu Sans.\n",
      "findfont: Font family ['simhei'] not found. Falling back to DejaVu Sans.\n",
      "findfont: Font family ['simhei'] not found. Falling back to DejaVu Sans.\n"
     ]
    },
    {
     "data": {
      "image/png": "[encoded data removed]",
      "text/plain": [
       "<Figure size 432x288 with 1 Axes>"
      ]
     },
     "metadata": {},
     "output_type": "display_data"
    }
   ],
   "source": [
    "import matplotlib as mpl\n",
    "mpl.rcParams['font.sans-serif'] = ['simhei']\n",
    "mpl.rcParams['font.serif'] = ['simhei']\n",
    "\n",
    "mpl.rcParams['axes.unicode_minus'] = False  # 解决保存图像是负号'-'显示为方块的问题\n",
    "\n",
    "import seaborn as sns\n",
    "import matplotlib.pyplot as plt\n",
    "from matplotlib.font_manager import FontProperties\n",
    "import matplotlib.pyplot as plt\n",
    "import numpy as np\n",
    "myfont =  FontProperties(fname='/usr/share/fonts/truetype/arphic/uming.ttc',size=20)\n",
    "sns.set_style(\"darkgrid\",{\"font.sans-serif\":['Arial','simhei','Droid Sans Fallback']})\n",
    "sns.set(font='simhei')  # 解决Seaborn中文显示问题\n",
    "\n",
    "sns.countplot(x=\"labels\", data=classify_df)\n",
    "# sns.countplot(x=\"deck\", data=titanic, palette=\"Reds_d\", ax=axes[0])\n",
    "plt.xlabel('labels',size = 14)\n",
    "# plt.ylabel('Predicted label',size = 14)\n",
    "plt.xticks(np.arange(8),count.index,fontproperties=myfont,size = 12,rotation=-45)"
   ]
  },
  {
   "cell_type": "code",
   "execution_count": 29,
   "metadata": {
    "ExecuteTime": {
     "end_time": "2021-12-16T14:26:37.872180Z",
     "start_time": "2021-12-16T14:26:37.866663Z"
    }
   },
   "outputs": [],
   "source": [
    "from collections import Counter"
   ]
  },
  {
   "cell_type": "code",
   "execution_count": 30,
   "metadata": {
    "ExecuteTime": {
     "end_time": "2021-12-16T14:26:38.335165Z",
     "start_time": "2021-12-16T14:26:38.320351Z"
    }
   },
   "outputs": [],
   "source": [
    "texts_len=[]\n",
    "for t in texts:\n",
    "    texts_len.append(len(t))"
   ]
  },
  {
   "cell_type": "code",
   "execution_count": 31,
   "metadata": {
    "ExecuteTime": {
     "end_time": "2021-12-16T14:26:39.113009Z",
     "start_time": "2021-12-16T14:26:38.868837Z"
    }
   },
   "outputs": [
    {
     "name": "stderr",
     "output_type": "stream",
     "text": [
      "/home/lengyue/anaconda3/envs/tf/lib/python3.8/site-packages/seaborn/distributions.py:2557: FutureWarning: `distplot` is a deprecated function and will be removed in a future version. Please adapt your code to use either `displot` (a figure-level function with similar flexibility) or `histplot` (an axes-level function for histograms).\n",
      "  warnings.warn(msg, FutureWarning)\n"
     ]
    },
    {
     "data": {
      "text/plain": [
       "<AxesSubplot:>"
      ]
     },
     "execution_count": 31,
     "metadata": {},
     "output_type": "execute_result"
    },
    {
     "data": {
      "image/png": "[encoded data removed]",
      "text/plain": [
       "<Figure size 432x288 with 1 Axes>"
      ]
     },
     "metadata": {},
     "output_type": "display_data"
    }
   ],
   "source": [
    "sns.distplot(texts_len,kde=False)"
   ]
  },
  {
   "cell_type": "markdown",
   "metadata": {},
   "source": [
    "# 移除特殊字符"
   ]
  },
  {
   "cell_type": "code",
   "execution_count": 32,
   "metadata": {
    "ExecuteTime": {
     "end_time": "2021-12-16T14:26:42.360444Z",
     "start_time": "2021-12-16T14:26:42.355525Z"
    }
   },
   "outputs": [],
   "source": [
    "# import re\n",
    "# #去除文本中的表情字符（只保留中英文和数字）\n",
    "# def clear_character(sentence):\n",
    "#     pattern1= '\\[.*?\\]'     \n",
    "#     pattern2 = re.compile('[^\\u4e00-\\u9fa5^a-z^A-Z^0-9]')   \n",
    "#     line1=re.sub(pattern1,'',sentence)\n",
    "#     line2=re.sub(pattern2,'',line1)   \n",
    "#     new_sentence=''.join(line2.split()) #去除空白\n",
    "#     return new_sentence\n",
    "# train_text=list(map(lambda s: clear_character(s), train_contents))\n",
    "# test_text=list(map(lambda s: clear_character(s), test_contents))\n"
   ]
  },
  {
   "cell_type": "markdown",
   "metadata": {},
   "source": [
    "# 分词"
   ]
  },
  {
   "cell_type": "code",
   "execution_count": 33,
   "metadata": {
    "ExecuteTime": {
     "end_time": "2021-12-16T14:26:51.189617Z",
     "start_time": "2021-12-16T14:26:42.831161Z"
    }
   },
   "outputs": [
    {
     "name": "stderr",
     "output_type": "stream",
     "text": [
      "Building prefix dict from the default dictionary ...\n",
      "Dumping model to file cache /tmp/jieba.cache\n",
      "Loading model cost 0.711 seconds.\n",
      "Prefix dict has been built successfully.\n"
     ]
    }
   ],
   "source": [
    "import jieba\n",
    "seg_texts=list(map(lambda s: jieba.lcut(s), texts))\n",
    "# test_seg_text=list(map(lambda s: jieba.lcut(s), texts))\n"
   ]
  },
  {
   "cell_type": "code",
   "execution_count": 34,
   "metadata": {
    "ExecuteTime": {
     "end_time": "2021-12-16T14:26:53.908313Z",
     "start_time": "2021-12-16T14:26:53.900091Z"
    }
   },
   "outputs": [
    {
     "data": {
      "text/plain": [
       "'歼-20(J-20)，绰号“威龙”，北约代号“火牙”（FIRE FANG）。是成都飞机工业集团为中国人民解放军研制的最新一代（欧美旧标准为第四代，新标准以及俄罗斯标准为第五代）双发重型隐形战斗机，用于接替歼10、歼11等第三代空中优势/多用途歼击机的未来重型歼击机型号，该机将担负我军未来对空、对海的主权维护任务。预计歼-20将在20172019年间投入使用，2020年后逐步形成战斗力。首架原型机于2011年1月11日在成都实现首飞。歼-20采用了单座、双发、全动双垂尾、DSI鼓包式进气道、上反鸭翼带尖拱边条的鸭式气动布局。机头、机身呈菱形，垂直尾翼向外倾斜，起落架舱门为锯齿边设计，机身以墨绿色涂装，远观近似于黑色。侧弹舱采用创新结构，可将导弹发射挂架预先封闭于外侧，同时配备国内最先进的新型格斗导弹。用于接替歼10、歼11等第三代空中优势/多用途歼击机的未来重型歼击机型号，该机将担负我军未来对空、对海的主权维护任务。2011号歼20也已飞离成都前往其他地区进行更多试验。'"
      ]
     },
     "execution_count": 34,
     "metadata": {},
     "output_type": "execute_result"
    }
   ],
   "source": [
    "texts[0]"
   ]
  },
  {
   "cell_type": "code",
   "execution_count": 36,
   "metadata": {
    "ExecuteTime": {
     "end_time": "2021-12-16T14:27:11.453714Z",
     "start_time": "2021-12-16T14:27:11.446378Z"
    }
   },
   "outputs": [
    {
     "name": "stdout",
     "output_type": "stream",
     "text": [
      "歼 - 20 ( J - 20 ) ， 绰号 “ 威龙 ” ， 北约 代号 “ 火牙 ” （ FIRE   FANG ） 。 是 成都 飞机 工业 集团 为 中国人民解放军 研制 的 最新 一代 （ 欧美 旧 标准 为 第四代 ， 新 标准 以及 俄罗斯 标准 为 第五代 ） 双发 重型 隐形 战斗机 ， 用于 接替 歼 10 、 歼 11 等 第三代 空中 优势 / 多用途 歼击机 的 未来 重型 歼击机 型号 ， 该机 将 担负 我军 未来 对空 、 对海 的 主权 维护 任务 。 预计 歼 - 20 将 在 20172019 年间 投入使用 ， 2020 年 后 逐步形成 战斗力 。 首架 原型机 于 2011 年 1 月 11 日 在 成都 实现 首飞 。 歼 - 20 采用 了 单座 、 双发 、 全动 双垂尾 、 DSI 鼓包 式 进气道 、 上 反鸭翼 带 尖 拱 边条 的 鸭式 气动 布局 。 机头 、 机身 呈 菱形 ， 垂直 尾翼 向外 倾斜 ， 起落架 舱门 为 锯齿 边 设计 ， 机身 以 墨绿色 涂装 ， 远观 近似于 黑色 。 侧弹 舱 采用 创新 结构 ， 可 将 导弹 发射 挂架 预先 封闭 于 外侧 ， 同时 配备 国内 最 先进 的 新型 格斗 导弹 。 用于 接替 歼 10 、 歼 11 等 第三代 空中 优势 / 多用途 歼击机 的 未来 重型 歼击机 型号 ， 该机 将 担负 我军 未来 对空 、 对海 的 主权 维护 任务 。 2011 号 歼 20 也 已 飞离 成都 前往 其他 地区 进行 更 多 试验 。\n"
     ]
    }
   ],
   "source": [
    "print(' '.join(seg_texts[0]))"
   ]
  },
  {
   "cell_type": "markdown",
   "metadata": {},
   "source": [
    "## 词典"
   ]
  },
  {
   "cell_type": "code",
   "execution_count": 64,
   "metadata": {
    "ExecuteTime": {
     "end_time": "2021-12-16T16:06:51.880963Z",
     "start_time": "2021-12-16T16:06:51.873708Z"
    }
   },
   "outputs": [],
   "source": [
    "# 歼10等只在一个文本中出现，统计意义不大\n",
    "dict_name = './data/weapon_dict.txt'\n",
    "jieba.load_userdict(dict_name) "
   ]
  },
  {
   "cell_type": "code",
   "execution_count": 57,
   "metadata": {
    "ExecuteTime": {
     "end_time": "2021-12-16T14:39:13.444884Z",
     "start_time": "2021-12-16T14:39:13.435966Z"
    },
    "scrolled": true
   },
   "outputs": [
    {
     "data": {
      "text/plain": [
       "'歼-20(J-20)，绰号“威龙”，北约代号“火牙”（FIRE FANG）。是成都飞机工业集团为中国人民解放军研制的最新一代（欧美旧标准为第四代，新标准以及俄罗斯标准为第五代）双发重型隐形战斗机，用于接替歼10、歼11等第三代空中优势/多用途歼击机的未来重型歼击机型号，该机将担负我军未来对空、对海的主权维护任务。预计歼-20将在20172019年间投入使用，2020年后逐步形成战斗力。首架原型机于2011年1月11日在成都实现首飞。歼-20采用了单座、双发、全动双垂尾、DSI鼓包式进气道、上反鸭翼带尖拱边条的鸭式气动布局。机头、机身呈菱形，垂直尾翼向外倾斜，起落架舱门为锯齿边设计，机身以墨绿色涂装，远观近似于黑色。侧弹舱采用创新结构，可将导弹发射挂架预先封闭于外侧，同时配备国内最先进的新型格斗导弹。用于接替歼10、歼11等第三代空中优势/多用途歼击机的未来重型歼击机型号，该机将担负我军未来对空、对海的主权维护任务。2011号歼20也已飞离成都前往其他地区进行更多试验。'"
      ]
     },
     "execution_count": 57,
     "metadata": {},
     "output_type": "execute_result"
    }
   ],
   "source": [
    "texts[0]"
   ]
  },
  {
   "cell_type": "code",
   "execution_count": 58,
   "metadata": {
    "ExecuteTime": {
     "end_time": "2021-12-16T14:39:13.811771Z",
     "start_time": "2021-12-16T14:39:13.797397Z"
    }
   },
   "outputs": [
    {
     "name": "stdout",
     "output_type": "stream",
     "text": [
      "['歼-20', '(', 'J-20', ')', '，', '绰号', '“', '威龙', '”', '，', '北约', '代号', '“', '火牙', '”', '（', 'FIRE', ' ', 'FANG', '）', '。', '是', '成都飞机工业集团', '为', '中国人民解放军', '研制', '的', '最新', '一代', '（', '欧美', '旧', '标准', '为', '第四代', '，', '新', '标准', '以及', '俄罗斯', '标准', '为', '第五代', '）', '双发', '重型', '隐形', '战斗机', '，', '用于', '接替', '歼10', '、', '歼11', '等', '第三代', '空中', '优势', '/', '多用途', '歼击机', '的', '未来', '重型', '歼击机', '型号', '，', '该机', '将', '担负', '我军', '未来', '对空', '、', '对海', '的', '主权', '维护', '任务', '。', '预计', '歼-20', '将', '在', '20172019', '年间', '投入使用', '，', '2020', '年', '后', '逐步形成', '战斗力', '。', '首架', '原型机', '于', '2011', '年', '1', '月', '11', '日', '在', '成都', '实现', '首飞', '。', '歼-20', '采用', '了', '单座', '、', '双发', '、', '全动', '双垂尾', '、', 'DSI', '鼓包式', '进气道', '、', '上反鸭翼', '带', '尖拱边条', '的', '鸭式', '气动布局', '。', '机头', '、', '机身', '呈', '菱形', '，', '垂直', '尾翼', '向外', '倾斜', '，', '起落架', '舱门', '为', '锯齿', '边', '设计', '，', '机身', '以', '墨绿色', '涂装', '，', '远观', '近似于', '黑色', '。', '侧弹', '舱', '采用', '创新', '结构', '，', '可', '将', '导弹', '发射', '挂架', '预先', '封闭', '于', '外侧', '，', '同时', '配备', '国内', '最', '先进', '的', '新型', '格斗导弹', '。', '用于', '接替', '歼10', '、', '歼11', '等', '第三代', '空中', '优势', '/', '多用途', '歼击机', '的', '未来', '重型', '歼击机', '型号', '，', '该机', '将', '担负', '我军', '未来', '对空', '、', '对海', '的', '主权', '维护', '任务', '。', '2011', '号', '歼20', '也', '已', '飞离', '成都', '前往', '其他', '地区', '进行', '更', '多', '试验', '。']\n"
     ]
    }
   ],
   "source": [
    "print(jieba.lcut(texts[0]))"
   ]
  },
  {
   "cell_type": "markdown",
   "metadata": {},
   "source": [
    "# 去停用词"
   ]
  },
  {
   "cell_type": "code",
   "execution_count": 41,
   "metadata": {
    "ExecuteTime": {
     "end_time": "2021-03-06T02:43:13.259383Z",
     "start_time": "2021-03-06T02:43:13.235839Z"
    }
   },
   "outputs": [],
   "source": [
    "stop_words_path = \"../stopwords/百度停用词列表.txt\"\n",
    "def get_stop_words():\n",
    "    file = open(stop_words_path, 'rb').read().decode('gbk').split('\\r\\n')\n",
    "    return set(file)\n",
    "stopwords = get_stop_words()\n",
    "\n",
    "# 去掉文本中的停用词\n",
    "def drop_stopwords(line, stopwords):\n",
    "    line_clean = []\n",
    "    for word in line:\n",
    "        if word in stopwords:\n",
    "            continue\n",
    "        line_clean.append(word)\n",
    "    return line_clean"
   ]
  },
  {
   "cell_type": "code",
   "execution_count": 43,
   "metadata": {
    "ExecuteTime": {
     "end_time": "2021-03-06T02:43:25.583390Z",
     "start_time": "2021-03-06T02:43:25.396121Z"
    }
   },
   "outputs": [],
   "source": [
    "clean_text=list(map(lambda s: drop_stopwords(s,stopwords), seg_texts))"
   ]
  },
  {
   "cell_type": "code",
   "execution_count": 258,
   "metadata": {
    "ExecuteTime": {
     "end_time": "2021-03-06T19:25:27.242787Z",
     "start_time": "2021-03-06T19:25:27.179436Z"
    }
   },
   "outputs": [],
   "source": [
    "corpus=list(map(lambda s: ' '.join(s), seg_texts))\n",
    "# corpus=list(map(lambda s: ' '.join(s), clean_text))"
   ]
  },
  {
   "cell_type": "markdown",
   "metadata": {},
   "source": [
    "# Feature word extraction"
   ]
  },
  {
   "cell_type": "markdown",
   "metadata": {},
   "source": [
    "## jieba_analysis"
   ]
  },
  {
   "cell_type": "markdown",
   "metadata": {},
   "source": [
    "### extract_tags"
   ]
  },
  {
   "cell_type": "markdown",
   "metadata": {},
   "source": [
    "结巴中内嵌了词典的idf值，然后根据该值计算单条文本中词语的tfidf值，判断单词的重要性。"
   ]
  },
  {
   "cell_type": "code",
   "execution_count": 105,
   "metadata": {
    "ExecuteTime": {
     "end_time": "2021-01-09T14:35:27.992254Z",
     "start_time": "2021-01-09T14:35:27.343090Z"
    }
   },
   "outputs": [],
   "source": [
    "import jieba.analyse"
   ]
  },
  {
   "cell_type": "code",
   "execution_count": 102,
   "metadata": {
    "ExecuteTime": {
     "end_time": "2021-01-09T14:32:56.144748Z",
     "start_time": "2021-01-09T14:32:56.139649Z"
    }
   },
   "outputs": [],
   "source": [
    "topK = 20"
   ]
  },
  {
   "cell_type": "code",
   "execution_count": 109,
   "metadata": {
    "ExecuteTime": {
     "end_time": "2021-01-09T14:36:47.489412Z",
     "start_time": "2021-01-09T14:36:47.471428Z"
    }
   },
   "outputs": [
    {
     "data": {
      "text/plain": [
       "['20', '歼击机', '11', '重型', '10', '对海', '2011', '双发', '成都', '未来']"
      ]
     },
     "execution_count": 109,
     "metadata": {},
     "output_type": "execute_result"
    }
   ],
   "source": [
    "i = 0\n",
    "tags = jieba.analyse.extract_tags(corpus[i], topK=topK)\n",
    "tags"
   ]
  },
  {
   "cell_type": "markdown",
   "metadata": {
    "ExecuteTime": {
     "end_time": "2021-01-09T14:36:31.125770Z",
     "start_time": "2021-01-09T14:36:31.117721Z"
    }
   },
   "source": [
    "### textrank"
   ]
  },
  {
   "cell_type": "code",
   "execution_count": 161,
   "metadata": {
    "ExecuteTime": {
     "end_time": "2021-01-10T05:54:24.429605Z",
     "start_time": "2021-01-10T05:54:24.401927Z"
    }
   },
   "outputs": [
    {
     "name": "stdout",
     "output_type": "stream",
     "text": [
      "['轰炸机', '机身', '联队', '关闭', '宣布', '进入', '军械', '世界', '攻克', '公司', '服役', '蜂窝', '不锈钢', '中队', '巴黎', '涡轮', '战略空军', '司令部', '尖头', '装备']\n"
     ]
    }
   ],
   "source": [
    "i=1\n",
    "tags = jieba.analyse.textrank(corpus[i], topK=20, withWeight=False, allowPOS=('ns', 'n', 'vn', 'v')) \n",
    "print(tags)"
   ]
  },
  {
   "cell_type": "code",
   "execution_count": 162,
   "metadata": {
    "ExecuteTime": {
     "end_time": "2021-01-10T05:54:47.188883Z",
     "start_time": "2021-01-10T05:54:47.162833Z"
    }
   },
   "outputs": [
    {
     "name": "stdout",
     "output_type": "stream",
     "text": [
      "['轰炸机', '机身', '联队', '关闭', '宣布', '进入', '军械', '世界', '攻克', '公司', '服役', '蜂窝', '不锈钢', '中队', '巴黎', '涡轮', '战略空军', '司令部', '尖头', '装备']\n"
     ]
    }
   ],
   "source": [
    "tags = jieba.analyse.textrank(corpus[i], topK=20, withWeight=False) \n",
    "print(tags)"
   ]
  },
  {
   "cell_type": "markdown",
   "metadata": {},
   "source": [
    "## sklearn"
   ]
  },
  {
   "cell_type": "markdown",
   "metadata": {},
   "source": [
    "## 分类tfidf"
   ]
  },
  {
   "cell_type": "code",
   "execution_count": 230,
   "metadata": {
    "ExecuteTime": {
     "end_time": "2021-03-06T17:34:36.695695Z",
     "start_time": "2021-03-06T17:34:36.681349Z"
    }
   },
   "outputs": [],
   "source": [
    "count= df['catalog'].value_counts()\n",
    "categories = count.index\n",
    "cat_to_id = dict(zip(categories, range(len(categories))))\n",
    "id_to_cat = dict(zip(range(len(categories)),categories))"
   ]
  },
  {
   "cell_type": "code",
   "execution_count": 233,
   "metadata": {
    "ExecuteTime": {
     "end_time": "2021-03-06T17:35:22.580359Z",
     "start_time": "2021-03-06T17:35:22.427342Z"
    }
   },
   "outputs": [],
   "source": [
    "corpus_lab = ['']*8\n",
    "for i in range(len(corpus)):\n",
    "    corpus_lab[label_id[i]] += corpus[i]"
   ]
  },
  {
   "cell_type": "code",
   "execution_count": 234,
   "metadata": {
    "ExecuteTime": {
     "end_time": "2021-03-06T17:35:23.429537Z",
     "start_time": "2021-03-06T17:35:23.424229Z"
    }
   },
   "outputs": [],
   "source": [
    "from sklearn.feature_extraction.text import TfidfTransformer\n",
    "from sklearn.feature_extraction.text import CountVectorizer"
   ]
  },
  {
   "cell_type": "code",
   "execution_count": 235,
   "metadata": {
    "ExecuteTime": {
     "end_time": "2021-03-06T17:35:36.565212Z",
     "start_time": "2021-03-06T17:35:36.000465Z"
    }
   },
   "outputs": [
    {
     "name": "stdout",
     "output_type": "stream",
     "text": [
      "[[ 0 30  0 ...  2  1  1]\n",
      " [ 1 28  0 ... 28  0  0]\n",
      " [ 3 19  0 ...  0  0  0]\n",
      " ...\n",
      " [ 0  9  1 ...  0  0  0]\n",
      " [ 0  7  0 ...  0  0  0]\n",
      " [ 7  4  0 ...  0  0  0]]\n"
     ]
    }
   ],
   "source": [
    "# 词袋模型\n",
    "vectorizer=CountVectorizer()\n",
    "count = vectorizer.fit_transform(corpus_lab)\n",
    "count_matrix = count.toarray() #才会变成矩阵的形式\n",
    "print(count_matrix) #词袋模型特征：行数是文章数量，列数是字典size，每个元素代表该文章中该词出现的次数"
   ]
  },
  {
   "cell_type": "code",
   "execution_count": 236,
   "metadata": {
    "ExecuteTime": {
     "end_time": "2021-03-06T17:35:38.465371Z",
     "start_time": "2021-03-06T17:35:38.425290Z"
    }
   },
   "outputs": [
    {
     "name": "stdout",
     "output_type": "stream",
     "text": [
      "[[0.         0.00517214 0.         ... 0.00072362 0.00043171 0.00043171]\n",
      " [0.00028614 0.00442425 0.         ... 0.00928479 0.         0.        ]\n",
      " [0.00092851 0.00324726 0.         ... 0.         0.         0.        ]\n",
      " ...\n",
      " [0.         0.00531237 0.00147806 ... 0.         0.         0.        ]\n",
      " [0.         0.0021826  0.         ... 0.         0.         0.        ]\n",
      " [0.00476268 0.00150284 0.         ... 0.         0.         0.        ]]\n"
     ]
    }
   ],
   "source": [
    "# TF-IDF特征\n",
    "transformer = TfidfTransformer()\n",
    "tfidf = transformer.fit_transform(count_matrix)\n",
    "tfidf_matrix = tfidf.toarray() # TF-IDF特征：行数是文章数量，列数是字典size，每个元素代表改文章中该词的TF-IDF权重\n",
    "print(tfidf_matrix)"
   ]
  },
  {
   "cell_type": "code",
   "execution_count": 238,
   "metadata": {
    "ExecuteTime": {
     "end_time": "2021-03-06T17:37:38.405120Z",
     "start_time": "2021-03-06T17:36:54.543616Z"
    }
   },
   "outputs": [
    {
     "name": "stdout",
     "output_type": "stream",
     "text": [
      "label: 飞行器, label_id: 0\n",
      "飞机, 发动机, 机身, 起落架, 战斗机, 公司, 生产, 设计, 美国, 原型机, 轰炸机, 机型, 海军, 采用, 首飞, 掠式, 单翼, 桨叶, 教练机, 直升机, 机翼, 安装, 尾翼, 空军, 飞行, 研制, 收放, 试飞, 水平尾翼, 涡轮, 服役, 两台, 该机, 螺旋桨, 20, 航空, 第一架, 12, 10, 制造, 一架, 三点式, 驾驶舱, 垂直, 座舱, 米格, 美国空军, 性能, 苏联, 雅克, 系统, 年代, 尾桨, 一种, 空中, 用于, 机头, 无人机, 交付, 星形, 计划, 日本, 11, 下置, 侦察机, 击落, 雷达, 战机, 飞行员, 装备, 双翼, 中国, 一个, 风扇, 波音, 战争, 双座, 攻击机, 双发, 作战, 中队, 发展, 背鳍, 整流罩, 运输机, 命名, 攻击, 单台, 涡轮轴发, 直线, 部队, 执行, 陆军, 成功, 单座, 型飞机, 美国陆军, 喷气式, 形下, 旋翼, 格鲁曼, 罗尔斯, 15, 包括, 进气口, 首次, 法国, 世纪, 罗伊斯, 轰炸, 引擎, 动机, 客机, 生产型, 浮筒, 型号, 改进, 取代, 结构, 英国, 起飞, 翼尖, 侦察, 掠翼, 购买, 机体, 技术, 航空母舰, 24, 马力, 单翼机, 德国, 布局, 订购, 30, 首架, 29, 50, 开发, 起降, 17, 能力, 配备, 寇蒂斯, 机枪, 两架, 速度, 提供, 舰载, 基础, 两侧, 俯冲, 16, 位于, 目标, 系列, 包裹, 国家, 武器, 美军, 严密, 活塞, 大型, 油箱, 莱卡, 先进, 训练, 机种, 订单, 运输, 轻型, 全金属, 炸弹, 25, 驾驶, 空战, 固定, 正式, 直翼, 道格拉斯, 研发, 设计局, 21, 俄罗斯, 试验, 设备, 1945, dc, 期间, 舷窗, 测试, 导弹, 最终, 18, 地面, 22, 14, 蒙皮, 一款, 最初, \n",
      "label: 舰船舰艇, label_id: 1\n",
      "海军, 上层建筑, 建造, 位于, 烟囱, 潜艇, 航空母舰, 舰桥, 护卫舰, 驱逐舰, 设计, 甲板, 下水, 舰队, 该级, 服役, 造船厂, 美国, 主桅, 导弹, 战列舰, 舰体, 日本, 舰首, 舰炮, 航母, 雷达, 12, 安装, 巡洋舰, 开工, 毫米, 10, 鱼雷, 装备, 顶部, 作战, 反潜, 改装, 海战, 系统, 一艘, 装有, 防空, 位置, 中国, 采用, 后方, 桅杆, 11, 舰尾, 护航, 反舰导弹, 船厂, 计划, 大型, 退役, 攻击, 主甲板, 首舰, 军舰, 舰艇, 两艘, 美军, 后缘, 能力, 发射装置, 后甲板, 主炮, 参加, 高大, 围壳, 核潜艇, 年代, 20, 排水量, 飞行, 参与, 海上, 英国, 直升机, 机库, 击沉, 编队, 该舰, 苏联, 法国, 前方, 旗舰, 航行, 英寸, 命名, 30, 第一艘, 正式, 改建, 研制, 前缘, 1942, 该艇, 指挥塔, 沪东, 空搜索, 登陆舰, 低矮, 短小, 艇体, 执行, 25, 炮塔, 北海舰队, 巡逻舰, 天线, 德国, 海域, 装甲, 火控, 倾斜, 改进, 船体, 沉没, 战舰, 15, 框架, 贯通, 岛形, 飞机, 一个, 船坞, 本级, 轻巡洋舰, 南海舰队, 常规, 干舷, 动力, 公司, 武器, 首艇, 完工, 封闭式, 现代化, 编入, 登陆艇, 期间, 搭载, 设备, 航速, 华盛顿, 结构, 青岛, class, 1944, 对海, 战队, 战列, 水雷, 70, 用于, 包括, 双联, 战争, 水下, 舰长, 发射管, 建成, 右舷, 16, 中国海, 备注, 除籍, 声纳, 造船, 埃塞克斯, 发射, 战役, 1943, 改为, 隶属于, 三艘, 补给舰, 整流罩, 14, 之间, 技术, 第二艘, 俄罗斯, 后桅, 该级艇, 拥有, 中途岛, 战后, 垂直, 增加, cv, 舰上, 核动力, 28, 二战, 醒目, 40, \n",
      "label: 枪械与单兵, label_id: 2\n",
      "枪管, 手枪, 步枪, 弹匣, 该枪, 枪机, 机匣, 扳机, 枪托, 冲锋枪, 采用, 毫米, 握把, 设计, 射击, 枪弹, 生产, 保险, 套筒, 公司, 装备, 狙击步枪, 闭锁, 发射, 枪身, 武器, 自动步枪, 迷彩服, 枪口, 机枪, 左侧, 军队, 标于, 位于, 霰弹枪, 准星, 研制, 枪膛, 转轮, 美国, 一个, 口径, 一种, 迷彩, 年代, 瞄准镜, 型号, 轻机枪, 扣动, 照门, 转轮手枪, 导气, 双动, 安装, 击锤, 部队, 手枪弹, 柯尔特, 制式, 改进, 机构, 系统, 铭文, 保险装置, 拉机, 勃朗宁, 突击, ak, 序列号, 快慢, 左图, 子弹, 连发, 自动, 国家, 战争, 半自动, 供弹, 脚架, 此枪, m16, 德国, 瞄具, 系列, 警察, 击针, 用于, 英寸, 枪栓, 20, 待击, 结构, 伪装, 后坐, 消声器, 复进簧, 表尺, 原理, 方式, 上方, 推出, 56, 卡宾枪, 击发, 苏联, 制造, 伯莱塔, 固定, 手动, 全枪, 装置, 退弹, 取代, 右侧, 陆军, 瞄准, 弹壳, 韦森, fn, 抛壳口, 特种部队, 刺刀, 史密斯, 62, 中国, 枪械, 标准, 卸下, 射手, 包括, 瞄准具, 活塞, 机柄, 护圈, 英国, 命名, 后方, 工作, 位置, 12, 所示, 世纪, 弹药, 瓦尔特, 导轨, 松开, 操作, 期间, 一款, 机框, 退壳, 林地, 威力, 提供, 正式, 后拉, 性能, 二战, 狙击手, hk, 试验, 精度, 基础, fal, 45, 美军, 雷明顿, 护木, 版本, 重机枪, 称为, 单发, 两种, 卡笋, 过程, 斯太尔, 科赫, 状态, 作用, 更换, 退出, 贝鲁姆, aug, 军用, 机械, 光学, 火力, 长度, spas, 阻铁, 折叠, 特种, 模式, 后部, 通用, 司登, ar, 增加, 制成, 作战, \n",
      "label: 坦克装甲车辆, label_id: 3\n",
      "车体, 坦克, 装甲, 炮塔, 该车, 毫米, 驾驶员, 生产, 战车, 公司, 样车, 车长, 载员舱, 装备, 车顶, 安装, 位于, 采用, 机枪, 车型, 步兵, 设计, 研制, 两侧, 装甲车, 系统, 车尾, 火炮, 负重, 射孔, 陆军, 后部, 装有, 舱盖, 装置, 左侧, 车辆, 前部, 输送车, 轮式, 武器, 发动机, 主战, 右侧, 各有, 动力舱, 侦察车, 人员, 竖直, 底盘, 苏联, 车身, 侧面, 能力, 履带, 轻型坦克, 车前, 两个, 主动轮, 倾斜, 车门, 一个, 运输车, 潜望镜, 年代, 62, 包括, 前上, 水平, 第一辆, 一种, 反坦克, 改进, 车轮, 车后, 射击, 12, 两栖, 履带式, 美国, 托带, 20, 英国, 制造, 乘员, 研发, 用于, 火力, 焊接, is, 后置, 正面, 法国, 系列, 防浪板, 发射, 防护, 德国, 重型, 顶部, 自行火炮, 诱导, 部队, 上部, 炮长, 中国, 原型车, 导弹, ba, 44, 裙板, kv, 迫击炮, 基础, 服役, 前置, 自行, 动力, bt, 作战, lt, 10, 试验, 烟幕弹, 90, 上方, 指挥塔, bmp, 新型, 结构, 发展, 设备, 性能, 轻型, 驾驶舱, 旋转, 主炮, 世纪, 每侧, 地面, 榴弹炮, 内倾, 观察窗, 悬挂, 60, 轮胎, 美军, 中央, 抢救, 观察镜, btr, 定型, 30, 35, 变速箱, 80, 提高, 行驶, brdm, 机动性, amx, 居中, 引擎, 防弹, 一挺, 取代, 挡风玻璃, 马力, 第一批, 提供, 中型, 俄罗斯, 后门, 柴油机, 位置, 较大, 战争, 指挥车, 发射器, 国家, 标准, 计划, 越野, 炮弹, mm, 装填, lav, 88, 单扇, 俯仰, 量产, 称为, 开发, 观察, 型号, 正式, 德军, 二战, 40, 中部, \n",
      "label: 火炮, label_id: 4\n",
      "毫米, 榴弹炮, 迫击炮, 火炮, 该炮, 研制, 装备, 射击, 采用, 炮架, 口径, 身管, 系统, 装置, 炮身, 高射炮, 发射, 用于, 自行, 射程, 机炮, 公司, 炮塔, 火箭炮, 炮口, 炮闩, 底盘, 装有, 年代, 炮弹, 制退器, 生产, 吊舱, 结构, 设计, 目标, 弹药, 自行火炮, 射速, 车体, 155, 装甲, 供弹, 陆军, 安装, 部队, 炮管, 液压, 美国, 20, 楔式, 大架, 机枪, 牵引式, 高低, 火力, 武器, 自动, 加农炮, 行军, 榴弹, 定型, 一种, 步兵, 方向机, 瞄准, 后坐, 122, 苏联, 坦克, 改进, 作战, 60, 地面, 配用, 摇架, 炮尾, 30, 反坦克炮, 出口, 舰炮, 加榴炮, 防空, 能力, 火控系统, 装填, 击发, 牵引, 野战, 双管, 退机, 支援, 轻型, 直升机, 12, 杀伤, 火箭, 工作, 中国, 基础, 世纪, 样炮, 40, 法国, 操作, 日军, 威力, 国家, 攻击, 瞄准镜, 提供, 平衡机, 新型, 制造, 装弹, 美军, 该型, 山炮, 上架, 初速, 压制, 炮兵, 75, 航空, 雷达, 履带式, 弹膛, 全炮, 加农, 方式, 飞机, 两个, 机构, 德国, 炮车, 战车, 配有, 年式, 程弹, 试验, 机动性, 服役, 性能, 63, 70, m110, 普赖, 默斯, 提高, 一个, 英国, 取代, 半自动, 10, 此炮, 开闩, 射程远, 后部, 80, 技术, 单筒, 步兵师, 自行式, 仿制, 全重, 包括, 90, 射界, 第一门, 公里, 重量, 千米, 固定, m109, 坦克炮, 重型, 定向, 单管, 50, 发展, 战场, 100, 批量生产, 机动, 联队, 抽气, 自动机, 野炮, 火箭弹, 瞄准具, 多种, 方向, 120, 而成, 日本, 兵工厂, 炮兵部队, 投入, 战争, 两侧, \n",
      "label: 爆炸物, label_id: 5\n",
      "手榴弹, 炸弹, 水雷, 引信, 鱼雷, 弹体, 该弹, 研制, 采用, 装备, 飞机, 沉底, 美国, 杀伤, 系列, 年代, 破片, 用于, 攻击, 反潜, 目标, 保险, 装置, 雷体, 海军, 公司, 爆炸, 触发, 一种, 延期, 潜艇, 结构, 生产, 低阻, 水面舰艇, 地雷, 雷管, 子母, 设计, 作战, 炸药, 发展, 外形, 制导, 航空, 服役, 一个, mk80, 布放, 反坦克, 发火, 减速, 布设, 装药, 该雷, 空军, 80, 性能, 爆破, 中国, 战斗部, 火箭弹, 苏联, 系统, 子母弹, 锚雷, 木柄, 布雷, 发射, 时间, 尾翼, 新型, 预制, 投掷, 口径, 尾部, 钢珠, 高速, 火箭, 塑料, 水面, 毫米, 质量, 投弹, 发烟, 舰船, 催泪, 轰炸, 20, 圆柱形, 体内, 降落伞, 投放, 武器, gl, 起爆, 磁感应, 战术, 控制, 头部, 该子母, 雷壳, 作用, 威力, 能力, 直径, 装有, 改进, 试验, 基础, 法国, 击针, 通用, 引爆, 部队, 导弹, 意大利, 稳定, 内装, 自导, 防御型, 激光制导, 水下, 阻力, 第二次世界大战, 保险机构, 60, 距离, 型号, blu, mk82, 手柄, 突防, 投雷, 声导, 半径, 定型, 制成, 70, 机构, 制造, 方式, 直升机, 导引头, 箱内, 国家, 50, 有生, 气动, 技术, 世纪, 延时, 装定, 定时, 卵形, 该雷于, 加装, 中期, ss, 固体, 携带, 发动机, 模块化, 小型, 16, 被动, 投布, 联合, 提高, 实施, 燃烧, 速度, 飞行, 训练, 包括, 英国, 100, 水声, 外挂, tnt, 击发, 40, 固定, 外壳, 握片, mk60, cbu, 套筒, 全弹, 水深, 保证, 轻型, 反舰, 火药, 海湾战争, 仿制, 壳体, 提供, 公斤, 而成, \n",
      "label: 导弹武器, label_id: 6\n",
      "导弹, 采用, 发射, 研制, 目标, 防空, 弹体, 雷达, 该弹, 系统, 制导, 装备, 导引头, 空空导弹, 射程, 发动机, 反舰导弹, 美国, 弹道导弹, 攻击, 反坦克, 战斗部, 试验, 武器, 弹翼, 飞行, 能力, 巡航导弹, aim, 一种, 红旗, 火箭, 作战, 公司, 用于, 控制, 发展, 生产, 年代, 苏联, 飞机, 中国, 海军, 气动, 10, 红外, 设计, 公里, 型号, 萨姆, 服役, 半主动, 布局, 技术, 固体, 外形, 部队, 弹头, 计划, 引信, 导弹系统, 位于, 机动, 东风, sa, 性能, 方式, 鹰击, 首次, 千米, 舵面, 一个, 直升机, 地空导弹, 12, 空地导弹, 海鹰, 烈火, agm, 空军, 20, 提高, 基础, 空射, 试射, 尾翼, 低空, 结构, 尾部, 成功, 工作, 中程, 跟踪, 拦截, 代号, 制导系统, 法国, 英国, 战斗机, 改进, 空对空, 飞毛腿, 命中, 安装, 11, 主动, 打击, 15, 装有, 距离, 携带, 战略, 先进, 俄罗斯, 远程, aam, 便携式, 编号, 指令, 精度, 核弹头, 头部, 包括, 杀伤, aa, 推力, 系列, 地面, 猎犬, 千克, 米卡, 霹雳, 30, 新型, 三角形, 轰炸机, 部署, 战术, 改进型, 世纪, 定型, 抗干扰能力, 重量, 80, 正常式, df, 天弓, 鸭式, 空中, 增加, 米格, 近程, 击落, 战斧, 惯性, 舰载, 近炸, 无线电, ss, 对付, 德国, 公斤, 助推器, 激光, 自行, hs, 单级, 21, 装置, 中距, 响尾蛇, 搜索, 两种, 研发, 国家, 载机, 90, 成像, 60, 日本, 被动, 毫米, 设备, 提供, kh, 上游, 装甲, 巴基斯坦, 超音速, 我国, 命名, 北约, 高度, 取代, 末段, 单兵, 驱逐舰, 发射架, 稳定, 正式, \n",
      "label: 太空装备, label_id: 7\n",
      "卫星, 发射, 轨道, 飞船, 地球, 运载火箭, 颗卫星, 月球, 太阳能, 火箭, 神舟, 一个, 提供, 系统, 载人, 太阳, 公司, 设计, 探测器, 太空, nasa, 中国, 空间, 运行, 10, 航天, 有效载荷, 观测, 波段, 计划, 火星, 飞行器, 轨道舱, 服务, 12, 研制, 望远镜, 航天员, 系列, 成功, 英尺, 设备, 飞行, 宇宙, 研究, 金星, 电池板, x射线, 帆板, 用于, 技术, 包括, 发动机, 美国, 装备, 11, 数据, 发射场, 天线, 这颗, 公里, 通信卫星, 第一颗, 一号, 遥感, 两颗, 转发器, 一颗, 对接, 英里, 探测, 分辨率, 返回舱, 交会, 大气, 通信, 装有, 开发, 时间, 星体, 制造, 长征, 嫦娥, 试验, 工作, 同步, 升空, 第一次, 电池, 航天飞机, 送入, 控制, 图像, 测量, 寿命, 搭载, 科学, 三号, 天宫, 酒泉卫星发射中心, 国家, 电力, 气象卫星, 彗星, 广播, 卫星平台, 两个, 长征二号, 中心, 15, 20, 地面, 仪器, 推进舱, 欧洲, 空间站, 用来, 稳定, 成像, 飞越, 长征四号, 欧洲航天局, 东方红, 基于, 覆盖, 负责, 第一级, 日本, 千瓦, 三轴, 小行星, 返回, 平台, 失败, 2007, 发射台, 燃料, 风云, 月球车, 中国航天科技集团公司, 捆绑式, 实验, 能力, 这次, 四号, 安装, 环境, 全球, 首次, 天文, 商业, 恒星, wise, 工程, 木星, 实验室, 距离, 近地, 阿丽亚娜, 导弹, 推进, 德尔塔, 快车, 拍摄, 第二级, 千克, 2006, 我国, 俄罗斯, 航天器, 航天技术, 宇宙飞船, 辐射, 科学研究, ku, 宇航员, 降落, 表面, 14, 旋转, 目标, 测试, 地区, 着陆, 土星, 云层, 粒子, 航天中心, 助推器, 30, 改进, 国际, 世界, 小型, 直径, 资源, 大气层, 联盟, 赤道, 太阳风, \n"
     ]
    }
   ],
   "source": [
    "for lab in id_to_cat.keys():\n",
    "    tfidf_topk = np.argsort(-tfidf_matrix[lab])[:200]\n",
    "    print('label: {}, label_id: {}'.format(id_to_cat[lab],lab))\n",
    "    for w in tfidf_topk:\n",
    "        print(vectorizer.get_feature_names()[w],end=', ')\n",
    "    print()"
   ]
  },
  {
   "cell_type": "markdown",
   "metadata": {
    "ExecuteTime": {
     "end_time": "2021-01-09T03:17:28.838019Z",
     "start_time": "2021-01-09T03:17:28.722877Z"
    }
   },
   "source": [
    " 采用互信息来对特征进行选择，全部特征可以是Count矩阵也可以是TF-IDF矩阵，被选择的特征指的是字典里的词，只有当该词大于一定的互信息时才会保留下来。互信息衡量的是“该词在各篇文章中TF-IDF值组成的向量”与“各篇文章的类别”的相关程度，互信息越大越好。互信息筛选用的是sklearn.metrics.mutual_info_score(labels, x)，也可以用特征选择里的sklearn.feature_selection.mutual_info_classif(X, y）。"
   ]
  },
  {
   "cell_type": "code",
   "execution_count": 259,
   "metadata": {
    "ExecuteTime": {
     "end_time": "2021-03-06T19:25:53.826027Z",
     "start_time": "2021-03-06T19:25:53.820531Z"
    }
   },
   "outputs": [],
   "source": [
    "from sklearn.feature_extraction.text import TfidfTransformer\n",
    "from sklearn.feature_extraction.text import CountVectorizer"
   ]
  },
  {
   "cell_type": "code",
   "execution_count": 260,
   "metadata": {
    "ExecuteTime": {
     "end_time": "2021-03-06T19:25:56.487596Z",
     "start_time": "2021-03-06T19:25:55.444255Z"
    },
    "scrolled": true
   },
   "outputs": [
    {
     "name": "stdout",
     "output_type": "stream",
     "text": [
      "[[0 0 0 ... 0 0 0]\n",
      " [0 0 0 ... 0 0 0]\n",
      " [0 0 0 ... 0 0 0]\n",
      " ...\n",
      " [0 0 0 ... 0 0 0]\n",
      " [0 0 0 ... 0 0 0]\n",
      " [0 0 0 ... 0 0 0]]\n"
     ]
    }
   ],
   "source": [
    "# 词袋模型\n",
    "vectorizer=CountVectorizer()\n",
    "count = vectorizer.fit_transform(corpus)\n",
    "count_matrix = count.toarray() #才会变成矩阵的形式\n",
    "print(count_matrix) #词袋模型特征：行数是文章数量，列数是字典size，每个元素代表该文章中该词出现的次数"
   ]
  },
  {
   "cell_type": "code",
   "execution_count": 261,
   "metadata": {
    "ExecuteTime": {
     "end_time": "2021-03-06T19:25:56.675092Z",
     "start_time": "2021-03-06T19:25:56.670623Z"
    }
   },
   "outputs": [],
   "source": [
    "# vocab = vectorizer.get_feature_names()#字典\n",
    "# for i in range(len(count_matrix)):#打印每篇文章中字典各词出现的次数，第一个for遍历所有文章，第二个for遍历字典各词\n",
    "#     print(u\"-------这里输出第\",i,u\"篇文章中字典各词的词频------\")\n",
    "#     for j in range(len(vocab)):\n",
    "#         print(vocab[j], count_matrix[i][j])\n",
    " "
   ]
  },
  {
   "cell_type": "code",
   "execution_count": 262,
   "metadata": {
    "ExecuteTime": {
     "end_time": "2021-03-06T19:26:03.848085Z",
     "start_time": "2021-03-06T19:25:58.030940Z"
    }
   },
   "outputs": [
    {
     "name": "stdout",
     "output_type": "stream",
     "text": [
      "[[0. 0. 0. ... 0. 0. 0.]\n",
      " [0. 0. 0. ... 0. 0. 0.]\n",
      " [0. 0. 0. ... 0. 0. 0.]\n",
      " ...\n",
      " [0. 0. 0. ... 0. 0. 0.]\n",
      " [0. 0. 0. ... 0. 0. 0.]\n",
      " [0. 0. 0. ... 0. 0. 0.]]\n"
     ]
    }
   ],
   "source": [
    "# TF-IDF特征\n",
    "transformer = TfidfTransformer()\n",
    "tfidf = transformer.fit_transform(count_matrix)\n",
    "tfidf_matrix = tfidf.toarray() # TF-IDF特征：行数是文章数量，列数是字典size，每个元素代表改文章中该词的TF-IDF权重\n",
    "print(tfidf_matrix)\n",
    "# for i in range(len(tfidf_matrix)):\n",
    "#     print(u\"-------这里输出第\",i,u\"篇文章中字典各词的TF-IDF权重------\")\n",
    "#     for j in range(len(vocab)):\n",
    "#         print(vocab[j], tfidf_matrix[i][j])\n",
    " "
   ]
  },
  {
   "cell_type": "markdown",
   "metadata": {},
   "source": [
    "### tfidf直接提取"
   ]
  },
  {
   "cell_type": "code",
   "execution_count": 52,
   "metadata": {
    "ExecuteTime": {
     "end_time": "2021-03-06T02:47:10.476610Z",
     "start_time": "2021-03-06T02:47:10.468977Z"
    }
   },
   "outputs": [
    {
     "data": {
      "text/plain": [
       "numpy.ndarray"
      ]
     },
     "execution_count": 52,
     "metadata": {},
     "output_type": "execute_result"
    }
   ],
   "source": [
    "type(tfidf_matrix)"
   ]
  },
  {
   "cell_type": "code",
   "execution_count": 53,
   "metadata": {
    "ExecuteTime": {
     "end_time": "2021-03-06T02:47:11.409663Z",
     "start_time": "2021-03-06T02:47:11.401838Z"
    }
   },
   "outputs": [
    {
     "data": {
      "text/plain": [
       "array([0., 0., 0., ..., 0., 0., 0.])"
      ]
     },
     "execution_count": 53,
     "metadata": {},
     "output_type": "execute_result"
    }
   ],
   "source": [
    "tfidf_matrix[0]"
   ]
  },
  {
   "cell_type": "markdown",
   "metadata": {},
   "source": [
    "#### 全排序"
   ]
  },
  {
   "cell_type": "code",
   "execution_count": 54,
   "metadata": {
    "ExecuteTime": {
     "end_time": "2021-03-06T02:47:17.432001Z",
     "start_time": "2021-03-06T02:47:17.420211Z"
    }
   },
   "outputs": [
    {
     "data": {
      "text/plain": [
       "array([0.33638896, 0.25465119, 0.24468057, 0.19654366, 0.17025321,\n",
       "       0.15816958, 0.15287356, 0.13854759, 0.13722982, 0.13706954])"
      ]
     },
     "execution_count": 54,
     "metadata": {},
     "output_type": "execute_result"
    }
   ],
   "source": [
    "tfidf_matrix[0][np.argsort(-tfidf_matrix[0])[:10]]"
   ]
  },
  {
   "cell_type": "code",
   "execution_count": 55,
   "metadata": {
    "ExecuteTime": {
     "end_time": "2021-03-06T02:47:18.655800Z",
     "start_time": "2021-03-06T02:47:18.648201Z"
    }
   },
   "outputs": [],
   "source": [
    "tfidf_topk = np.argsort(-tfidf_matrix[0])[:50]"
   ]
  },
  {
   "cell_type": "code",
   "execution_count": 56,
   "metadata": {
    "ExecuteTime": {
     "end_time": "2021-03-06T02:47:21.211374Z",
     "start_time": "2021-03-06T02:47:19.609515Z"
    }
   },
   "outputs": [
    {
     "name": "stdout",
     "output_type": "stream",
     "text": [
      "歼击机, 成都, 未来, 主权, 20, 重型, 接替, 担负, 我军, 标准, 对空, 第三代, 优势, 维护, 双发, 对海, 2011, 11, 多用途, 侧弹, 反鸭翼, 威龙, 20172019, 远观, fang, 火牙, 该机, 逐步形成, dsi, 鼓包, fire, 墨绿色, 空中, 近似于, 菱形, 锯齿, 飞离, 欧美, 全动, 边条, 第五代, 双垂尾, 创新, 预先, 2020, 机身, 型号, 一代, 向外, 涂装, "
     ]
    }
   ],
   "source": [
    "for w in tfidf_topk:\n",
    "    print(vectorizer.get_feature_names()[w],end=', ')"
   ]
  },
  {
   "cell_type": "code",
   "execution_count": 57,
   "metadata": {
    "ExecuteTime": {
     "end_time": "2021-03-06T02:47:23.198992Z",
     "start_time": "2021-03-06T02:47:23.191528Z"
    }
   },
   "outputs": [
    {
     "data": {
      "text/plain": [
       "'歼 - 20 ( J - 20 ) ， 绰号 威龙 ， 北约 代号 火牙 （ FIRE FANG ） 。 成都 飞机 工业 集团 中国人民解放军 研制 最新 一代 （ 欧美 旧 标准 第四代 ， 新 标准 俄罗斯 标准 第五代 ） 双发 重型 隐形 战斗机 ， 用于 接替 歼 10 、 歼 11 第三代 空中 优势 / 多用途 歼击机 未来 重型 歼击机 型号 ， 该机 担负 我军 未来 对空 、 对海 主权 维护 。 预计 歼 - 20 20172019 年间 投入使用 ， 2020 年 后 逐步形成 战斗力 。 首架 原型机 2011 年 1 月 11 日 成都 首飞 。 歼 - 20 采用 单座 、 双发 、 全动 双垂尾 、 DSI 鼓包 式 进气道 、 上 反鸭翼 带 尖 拱 边条 鸭式 气动 布局 。 机头 、 机身 呈 菱形 ， 垂直 尾翼 向外 倾斜 ， 起落架 舱门 锯齿 设计 ， 机身 墨绿色 涂装 ， 远观 近似于 黑色 。 侧弹 舱 采用 创新 结构 ， 导弹 发射 挂架 预先 封闭 外侧 ， 配备 国内 最 先进 新型 格斗 导弹 。 用于 接替 歼 10 、 歼 11 第三代 空中 优势 / 多用途 歼击机 未来 重型 歼击机 型号 ， 该机 担负 我军 未来 对空 、 对海 主权 维护 。 2011 号 歼 20 已 飞离 成都 前往 地区 更 试验 。'"
      ]
     },
     "execution_count": 57,
     "metadata": {},
     "output_type": "execute_result"
    }
   ],
   "source": [
    "corpus[0]"
   ]
  },
  {
   "cell_type": "markdown",
   "metadata": {},
   "source": [
    "#### 部分排序"
   ]
  },
  {
   "cell_type": "code",
   "execution_count": 58,
   "metadata": {
    "ExecuteTime": {
     "end_time": "2021-03-06T02:47:44.133485Z",
     "start_time": "2021-03-06T02:47:44.125931Z"
    }
   },
   "outputs": [
    {
     "data": {
      "text/plain": [
       "array([32773, 27272, 31276, 13854,  1210, 44249, 28772, 28148, 27280,\n",
       "       32031, 24228, 37874, 15112, 38948, 19708, 24221,  1248,   314,\n",
       "       22810, 15701, 19898, 23630,  1256, 43562,  6006, 34752, 41918,\n",
       "       43837,  5603, 47141,  6084, 22433, 37526, 43342, 40724, 44763,\n",
       "       46364, 32600, 16405, 43136, 37961, 19714, 17879, 46180,  1261,\n",
       "       31520, 22101, 12021, 20945, 34172])"
      ]
     },
     "execution_count": 58,
     "metadata": {},
     "output_type": "execute_result"
    }
   ],
   "source": [
    "tfidf_topk"
   ]
  },
  {
   "cell_type": "code",
   "execution_count": 59,
   "metadata": {
    "ExecuteTime": {
     "end_time": "2021-03-06T02:47:44.692021Z",
     "start_time": "2021-03-06T02:47:44.686506Z"
    }
   },
   "outputs": [],
   "source": [
    "topk_ind = np.argpartition(tfidf_matrix[0], -50)[-50:]"
   ]
  },
  {
   "cell_type": "code",
   "execution_count": 60,
   "metadata": {
    "ExecuteTime": {
     "end_time": "2021-03-06T02:47:45.238753Z",
     "start_time": "2021-03-06T02:47:45.234031Z"
    }
   },
   "outputs": [],
   "source": [
    "topk_value = tfidf_matrix[0][topk_ind]"
   ]
  },
  {
   "cell_type": "code",
   "execution_count": 61,
   "metadata": {
    "ExecuteTime": {
     "end_time": "2021-03-06T02:47:45.835438Z",
     "start_time": "2021-03-06T02:47:45.826946Z"
    }
   },
   "outputs": [],
   "source": [
    "zipped = zip(topk_ind,-topk_value)\n",
    "sort_zipped = sorted(zipped,key=lambda x:(x[1],x[0]))\n",
    "result = zip(*sort_zipped)\n",
    "topk_ind_sorted, topk_value_sorted = [list(x) for x in result]"
   ]
  },
  {
   "cell_type": "code",
   "execution_count": 62,
   "metadata": {
    "ExecuteTime": {
     "end_time": "2021-03-06T02:47:46.412922Z",
     "start_time": "2021-03-06T02:47:46.406732Z"
    }
   },
   "outputs": [
    {
     "name": "stdout",
     "output_type": "stream",
     "text": [
      "[32773, 27272, 31276, 13854, 1210, 44249, 28772, 28148, 27280, 32031, 24228, 37874, 15112, 19708, 38948, 24221, 1248, 314, 22810, 1256, 6006, 15701, 19898, 23630, 34752, 43562, 41918, 5603, 43837, 47141, 6084, 22433, 37526, 40724, 43342, 44763, 32600, 46364, 16405, 43136, 37961, 19714, 17879, 1261, 46180, 31520, 22101, 12021, 20945, 34172]\n"
     ]
    }
   ],
   "source": [
    "print(topk_ind_sorted)"
   ]
  },
  {
   "cell_type": "markdown",
   "metadata": {},
   "source": [
    "### 基于tfidf的互信息"
   ]
  },
  {
   "cell_type": "code",
   "execution_count": 65,
   "metadata": {
    "ExecuteTime": {
     "end_time": "2021-03-06T02:49:15.357140Z",
     "start_time": "2021-03-06T02:47:49.423611Z"
    },
    "scrolled": true
   },
   "outputs": [],
   "source": [
    "# 用互信息进行特征选择\n",
    "X_MI = {}  # 用于存储X_matrix特征与label之间的互信息值\n",
    "from sklearn import metrics as mr\n",
    "import numpy as np\n",
    "# X_labels = np.array([1,1,2,3]) # 假设四篇文章分别对应这三种类型\n",
    "tfidf_matrix_T = tfidf_matrix.T # 让每一行变成是字典里的某一个词在各篇文章中的tf-idf值，通过计算每行(4个元素）与文章类型（4个元素）的互信息，来决定要不要该词（也即特征）\n",
    "for i in range(tfidf_matrix_T.shape[0]):\n",
    "    X_MI[i] = mr.mutual_info_score(label_id, tfidf_matrix_T[i])"
   ]
  },
  {
   "cell_type": "code",
   "execution_count": 66,
   "metadata": {
    "ExecuteTime": {
     "end_time": "2021-03-06T03:01:36.515045Z",
     "start_time": "2021-03-06T02:49:15.359734Z"
    }
   },
   "outputs": [],
   "source": [
    "# # 筛选特征，根据互信息的大小进行从大到小排序，留下互信息前10的词（特征）\n",
    "X_MI_filtered = [word for word in X_MI if X_MI[word] >= sorted(X_MI.values(),reverse=True)[10]]\n",
    "# print(u'选择的特征对应列序号：', X_MI_filtered)"
   ]
  },
  {
   "cell_type": "code",
   "execution_count": 67,
   "metadata": {
    "ExecuteTime": {
     "end_time": "2021-03-06T03:01:36.525549Z",
     "start_time": "2021-03-06T03:01:36.518351Z"
    }
   },
   "outputs": [
    {
     "name": "stdout",
     "output_type": "stream",
     "text": [
      "经过互信息筛选过的词组成的TF-IDF矩阵:\n",
      " [[0.         0.         0.03267674 ... 0.         0.02616821 0.05017636]\n",
      " [0.05315845 0.01830178 0.         ... 0.05013075 0.01562143 0.01497669]\n",
      " [0.04745978 0.04901939 0.         ... 0.         0.         0.04011348]\n",
      " ...\n",
      " [0.         0.05462446 0.         ... 0.         0.         0.        ]\n",
      " [0.05726552 0.01971579 0.         ... 0.0180013  0.         0.        ]\n",
      " [0.0703474  0.03632957 0.         ... 0.03317034 0.03100899 0.02972917]]\n"
     ]
    }
   ],
   "source": [
    "tfidf_matrix_filtered_by_mutualinfo_T = [tfidf_matrix_T[word] for word in X_MI_filtered]\n",
    "tfidf_matrix_filtered_by_mutualinfo = np.array(tfidf_matrix_filtered_by_mutualinfo_T).T\n",
    "print(u\"经过互信息筛选过的词组成的TF-IDF矩阵:\\n\", tfidf_matrix_filtered_by_mutualinfo)"
   ]
  },
  {
   "cell_type": "code",
   "execution_count": 68,
   "metadata": {
    "ExecuteTime": {
     "end_time": "2021-03-06T03:01:36.548742Z",
     "start_time": "2021-03-06T03:01:36.527259Z"
    }
   },
   "outputs": [],
   "source": [
    "xmi_sorted = sorted(X_MI.values(),reverse=True)"
   ]
  },
  {
   "cell_type": "code",
   "execution_count": 69,
   "metadata": {
    "ExecuteTime": {
     "end_time": "2021-03-06T03:01:36.559663Z",
     "start_time": "2021-03-06T03:01:36.550254Z"
    }
   },
   "outputs": [],
   "source": [
    "X_MI_filtered = [word for word in X_MI if X_MI[word] >= xmi_sorted[100]]"
   ]
  },
  {
   "cell_type": "code",
   "execution_count": 70,
   "metadata": {
    "ExecuteTime": {
     "end_time": "2021-03-06T03:01:36.565374Z",
     "start_time": "2021-03-06T03:01:36.561097Z"
    }
   },
   "outputs": [],
   "source": [
    "xmi_filtered = [X_MI[word] for word in X_MI_filtered]"
   ]
  },
  {
   "cell_type": "code",
   "execution_count": 71,
   "metadata": {
    "ExecuteTime": {
     "end_time": "2021-03-06T03:01:36.573844Z",
     "start_time": "2021-03-06T03:01:36.566746Z"
    }
   },
   "outputs": [],
   "source": [
    "zipped = zip(X_MI_filtered,xmi_filtered)\n",
    "sort_zipped = sorted(zipped,key=lambda x:(x[1],x[0]))\n",
    "result = zip(*sort_zipped)\n",
    "X_MI_filtered_sorted, xmi_filtered_sorted = [list(x) for x in result]"
   ]
  },
  {
   "cell_type": "code",
   "execution_count": 72,
   "metadata": {
    "ExecuteTime": {
     "end_time": "2021-03-06T03:01:38.819480Z",
     "start_time": "2021-03-06T03:01:36.575502Z"
    },
    "scrolled": false
   },
   "outputs": [
    {
     "name": "stdout",
     "output_type": "stream",
     "text": [
      "自动, 战斗机, 60, 水平, 防空, 战争, 称为, 开发, 坦克, 顶部, 地面, 射程, 德国, 提高, 80, 起落架, 日本, 卫星, 火炮, 机枪, 大型, 成功, 垂直, 英国, 15, 位置, 外形, 控制, 正式, 首次, 机身, 设备, 新型, 陆军, 火箭, 尾翼, 两侧, 后部, 工作, 车体, 试验, 取代, 命名, 两个, 炮塔, 国家, 技术, 30, 型号, 11, 系列, 世纪, 口径, 射击, 苏联, 发展, 建造, 基础, 中国, 提供, 雷达, 性能, 计划, 飞行, 攻击, 装甲, 部队, 制造, 改进, 目标, 包括, 装置, 能力, 作战, 结构, 装有, 武器, 10, 20, 12, 一个, 飞机, 位于, 一种, 导弹, 年代, 服役, 用于, 海军, 安装, 系统, 美国, 毫米, 发射, 发动机, 生产, 公司, 研制, 装备, 设计, 采用, "
     ]
    }
   ],
   "source": [
    "for w in X_MI_filtered_sorted:\n",
    "    print(vectorizer.get_feature_names()[w],end=', ')"
   ]
  },
  {
   "cell_type": "markdown",
   "metadata": {},
   "source": [
    "### chi2"
   ]
  },
  {
   "cell_type": "code",
   "execution_count": 263,
   "metadata": {
    "ExecuteTime": {
     "end_time": "2021-03-06T19:26:23.742156Z",
     "start_time": "2021-03-06T19:26:23.736910Z"
    }
   },
   "outputs": [],
   "source": [
    "from sklearn.feature_selection import SelectKBest\n",
    "from sklearn.feature_selection import chi2\n",
    "# X_new = SelectKBest(chi2, k=50).fit_transform(tfidf_matrix, label_id)"
   ]
  },
  {
   "cell_type": "code",
   "execution_count": 264,
   "metadata": {
    "ExecuteTime": {
     "end_time": "2021-03-06T19:26:26.338996Z",
     "start_time": "2021-03-06T19:26:25.155891Z"
    }
   },
   "outputs": [],
   "source": [
    "model = SelectKBest(chi2, k=50)#选择k个最佳特征\n",
    "X_new = model.fit_transform(tfidf_matrix, label_id)\n",
    "#feature_data是特征数据，label_data是标签数据，该函数可以选择出k个特征 \n",
    "\n",
    "scores = model.scores_\n",
    "# print('model scores:', scores)  # 得分越高，特征越重要\n",
    "\n",
    "p_values = model.pvalues_\n",
    "# print('model p-values', p_values)  # p-values 越小，置信度越高，特征越重要\n",
    "\n",
    "# 按重要性排序，选出最重要的 k 个\n",
    "indices = np.argsort(scores)[::-1]\n",
    "# k_best_features = list(tfidf_matrix.columns.values[indices[0:2]])\n",
    "\n"
   ]
  },
  {
   "cell_type": "code",
   "execution_count": 265,
   "metadata": {
    "ExecuteTime": {
     "end_time": "2021-03-06T19:26:38.548292Z",
     "start_time": "2021-03-06T19:26:37.943367Z"
    }
   },
   "outputs": [],
   "source": [
    "chi_max = model.score_func(tfidf_matrix, label_id)"
   ]
  },
  {
   "cell_type": "code",
   "execution_count": 271,
   "metadata": {
    "ExecuteTime": {
     "end_time": "2021-03-06T19:27:43.222250Z",
     "start_time": "2021-03-06T19:27:43.214098Z"
    }
   },
   "outputs": [
    {
     "data": {
      "text/plain": [
       "array([3.9281172 , 0.69656088, 0.71029206, ..., 6.25093457, 0.43957184,\n",
       "       0.31130656])"
      ]
     },
     "execution_count": 271,
     "metadata": {},
     "output_type": "execute_result"
    }
   ],
   "source": [
    "chi_max[0]"
   ]
  },
  {
   "cell_type": "code",
   "execution_count": 272,
   "metadata": {
    "ExecuteTime": {
     "end_time": "2021-03-06T19:27:49.240036Z",
     "start_time": "2021-03-06T19:27:49.231441Z"
    }
   },
   "outputs": [
    {
     "data": {
      "text/plain": [
       "array([0.78801872, 0.99836202, 0.9982554 , ..., 0.51077373, 0.99963905,\n",
       "       0.99988663])"
      ]
     },
     "execution_count": 272,
     "metadata": {},
     "output_type": "execute_result"
    }
   ],
   "source": [
    "chi_max[1]"
   ]
  },
  {
   "cell_type": "code",
   "execution_count": 256,
   "metadata": {
    "ExecuteTime": {
     "end_time": "2021-03-06T19:20:47.095455Z",
     "start_time": "2021-03-06T19:20:47.088490Z"
    }
   },
   "outputs": [
    {
     "name": "stdout",
     "output_type": "stream",
     "text": [
      "Help on function chi2 in module sklearn.feature_selection._univariate_selection:\n",
      "\n",
      "chi2(X, y)\n",
      "    Compute chi-squared stats between each non-negative feature and class.\n",
      "    \n",
      "    This score can be used to select the n_features features with the\n",
      "    highest values for the test chi-squared statistic from X, which must\n",
      "    contain only non-negative features such as booleans or frequencies\n",
      "    (e.g., term counts in document classification), relative to the classes.\n",
      "    \n",
      "    Recall that the chi-square test measures dependence between stochastic\n",
      "    variables, so using this function \"weeds out\" the features that are the\n",
      "    most likely to be independent of class and therefore irrelevant for\n",
      "    classification.\n",
      "    \n",
      "    Read more in the :ref:`User Guide <univariate_feature_selection>`.\n",
      "    \n",
      "    Parameters\n",
      "    ----------\n",
      "    X : {array-like, sparse matrix} of shape (n_samples, n_features)\n",
      "        Sample vectors.\n",
      "    \n",
      "    y : array-like of shape (n_samples,)\n",
      "        Target vector (class labels).\n",
      "    \n",
      "    Returns\n",
      "    -------\n",
      "    chi2 : array, shape = (n_features,)\n",
      "        chi2 statistics of each feature.\n",
      "    pval : array, shape = (n_features,)\n",
      "        p-values of each feature.\n",
      "    \n",
      "    Notes\n",
      "    -----\n",
      "    Complexity of this algorithm is O(n_classes * n_features).\n",
      "    \n",
      "    See also\n",
      "    --------\n",
      "    f_classif: ANOVA F-value between label/feature for classification tasks.\n",
      "    f_regression: F-value between label/feature for regression tasks.\n",
      "\n"
     ]
    }
   ],
   "source": [
    "help(model.score_func)"
   ]
  },
  {
   "cell_type": "code",
   "execution_count": 135,
   "metadata": {
    "ExecuteTime": {
     "end_time": "2021-03-06T10:22:02.990058Z",
     "start_time": "2021-03-06T10:21:53.104704Z"
    }
   },
   "outputs": [],
   "source": [
    "topn_words = []\n",
    "topn_scores = []\n",
    "for w in indices[:500]:\n",
    "    topn_words.append(vectorizer.get_feature_names()[w])\n",
    "    topn_scores.append(scores[w])\n",
    "#     print(vectorizer.get_feature_names()[w],end=', ')"
   ]
  },
  {
   "cell_type": "markdown",
   "metadata": {},
   "source": [
    "### 词云"
   ]
  },
  {
   "cell_type": "code",
   "execution_count": 201,
   "metadata": {
    "ExecuteTime": {
     "end_time": "2021-03-06T17:10:55.665950Z",
     "start_time": "2021-03-06T17:10:55.660690Z"
    }
   },
   "outputs": [],
   "source": [
    "import pyecharts\n",
    "from pyecharts.charts import WordCloud\n",
    "from pyecharts import options as opts"
   ]
  },
  {
   "cell_type": "code",
   "execution_count": 204,
   "metadata": {
    "ExecuteTime": {
     "end_time": "2021-03-06T17:11:46.113559Z",
     "start_time": "2021-03-06T17:11:46.058309Z"
    }
   },
   "outputs": [
    {
     "data": {
      "text/plain": [
       "'/home/lengyue/Desktop/learning/chinese_text_classification_ly/weapon_classy/worldcloud.html'"
      ]
     },
     "execution_count": 204,
     "metadata": {},
     "output_type": "execute_result"
    }
   ],
   "source": [
    "data = list(zip(topn_words,topn_scores))\n",
    "c = WordCloud()\n",
    "c.add(series_name=\"\",data_pair=data,mask_image='tanke3.png',word_gap=2,word_size_range=list(range(7,200,30)),rotate_step=10)\n",
    "# 设置标题\n",
    "c.set_global_opts(title_opts=opts.TitleOpts(\"词云\"))\n",
    "# 展示图片\n",
    "c.render('worldcloud.html')"
   ]
  },
  {
   "cell_type": "code",
   "execution_count": 103,
   "metadata": {
    "ExecuteTime": {
     "end_time": "2021-03-06T09:50:09.092179Z",
     "start_time": "2021-03-06T09:50:09.087146Z"
    }
   },
   "outputs": [],
   "source": [
    "# c.set_global_opts(\n",
    "#     title_opts=opts.TitleOpts(\n",
    "#         title=\"高频词条\", title_textstyle_opts=opts.TextStyleOpts(font_size=23)\n",
    "#     ),\n",
    "#     tooltip_opts=opts.TooltipOpts(is_show=True),\n",
    "# )\n",
    "# from snapshot_selenium import snapshot\n",
    "# from pyecharts.render import make_snapshot\n",
    "\n",
    "# make_snapshot(snapshot, WordCloud().render(), \"词云图2.png\")# 保存为图片"
   ]
  },
  {
   "cell_type": "code",
   "execution_count": 168,
   "metadata": {
    "ExecuteTime": {
     "end_time": "2021-03-06T10:41:18.201567Z",
     "start_time": "2021-03-06T10:41:18.194867Z"
    }
   },
   "outputs": [],
   "source": [
    "keywords={}\n",
    "for tup in data[:500]:\n",
    "    keywords[tup[0]] = tup[1]"
   ]
  },
  {
   "cell_type": "code",
   "execution_count": 178,
   "metadata": {
    "ExecuteTime": {
     "end_time": "2021-03-06T10:42:15.727705Z",
     "start_time": "2021-03-06T10:42:15.698475Z"
    }
   },
   "outputs": [],
   "source": [
    "import matplotlib.pyplot as plt\n",
    "from wordcloud import WordCloud,ImageColorGenerator\n",
    "# from scipy.misc import imread\n",
    "from imageio import imread\n",
    " \n",
    "img=imread('tanke3.png')\n",
    " \n",
    "#设置词云\n",
    "wc = WordCloud(background_color = \"white\", #设置背景颜色\n",
    "               mask = img,  #设置背景图片\n",
    "               max_words = 200, #设置最大显示的字数\n",
    "#                stopwords = open('stopwords.txt'), #设置停用词\n",
    "#                font_path = \"C:\\Windows\\Fonts\\simkai.ttf\",  # 设置为楷体 常规\n",
    "               font_path = '/usr/share/fonts/truetype/arphic/uming.ttc',\n",
    "        #设置中文字体，使得词云可以显示（词云默认字体是“DroidSansMono.ttf字体库”，不支持中文）\n",
    "               max_font_size = 25,  #设置字体最大值\n",
    "               random_state=42\n",
    "    )\n",
    "image_colors = ImageColorGenerator(img)"
   ]
  },
  {
   "cell_type": "code",
   "execution_count": 179,
   "metadata": {
    "ExecuteTime": {
     "end_time": "2021-03-06T10:42:16.913207Z",
     "start_time": "2021-03-06T10:42:16.336069Z"
    }
   },
   "outputs": [],
   "source": [
    "myword=wc.generate_from_frequencies(keywords)"
   ]
  },
  {
   "cell_type": "code",
   "execution_count": 180,
   "metadata": {
    "ExecuteTime": {
     "end_time": "2021-03-06T10:42:17.627111Z",
     "start_time": "2021-03-06T10:42:16.931048Z"
    }
   },
   "outputs": [
    {
     "data": {
      "text/plain": [
       "<wordcloud.wordcloud.WordCloud at 0x7fdd0c5dad90>"
      ]
     },
     "execution_count": 180,
     "metadata": {},
     "output_type": "execute_result"
    },
    {
     "data": {
      "image/png": "[encoded data removed]",
      "text/plain": [
       "<Figure size 432x288 with 1 Axes>"
      ]
     },
     "metadata": {},
     "output_type": "display_data"
    },
    {
     "data": {
      "text/plain": [
       "<Figure size 432x288 with 0 Axes>"
      ]
     },
     "metadata": {},
     "output_type": "display_data"
    }
   ],
   "source": [
    "#展示词云图\n",
    "plt.imshow(myword.recolor(color_func=image_colors))\n",
    "plt.axis(\"off\")\n",
    "plt.figure()\n",
    "wc.to_file('IG.png')"
   ]
  },
  {
   "cell_type": "markdown",
   "metadata": {},
   "source": [
    "### lda"
   ]
  },
  {
   "cell_type": "code",
   "execution_count": 76,
   "metadata": {
    "ExecuteTime": {
     "end_time": "2021-03-06T03:01:42.491856Z",
     "start_time": "2021-03-06T03:01:41.894053Z"
    },
    "scrolled": true
   },
   "outputs": [],
   "source": [
    "tf_vectorizer = CountVectorizer(max_df=0.95, min_df=2,\n",
    "                                stop_words='english')\n",
    "tf = tf_vectorizer.fit_transform(corpus)"
   ]
  },
  {
   "cell_type": "code",
   "execution_count": 77,
   "metadata": {
    "ExecuteTime": {
     "end_time": "2021-03-06T03:01:42.496398Z",
     "start_time": "2021-03-06T03:01:42.493511Z"
    }
   },
   "outputs": [],
   "source": [
    "n_topics=9"
   ]
  },
  {
   "cell_type": "code",
   "execution_count": 78,
   "metadata": {
    "ExecuteTime": {
     "end_time": "2021-03-06T03:01:42.501606Z",
     "start_time": "2021-03-06T03:01:42.497788Z"
    }
   },
   "outputs": [],
   "source": [
    "from sklearn.decomposition import LatentDirichletAllocation"
   ]
  },
  {
   "cell_type": "markdown",
   "metadata": {},
   "source": [
    "#### 无标签"
   ]
  },
  {
   "cell_type": "code",
   "execution_count": 173,
   "metadata": {
    "ExecuteTime": {
     "end_time": "2021-01-10T17:30:12.707868Z",
     "start_time": "2021-01-10T17:29:55.333692Z"
    }
   },
   "outputs": [
    {
     "data": {
      "text/plain": [
       "LatentDirichletAllocation(learning_method='online', learning_offset=50.0,\n",
       "                          max_iter=5, n_components=9, random_state=0)"
      ]
     },
     "execution_count": 173,
     "metadata": {},
     "output_type": "execute_result"
    }
   ],
   "source": [
    "lda = LatentDirichletAllocation(n_components =n_topics, max_iter=5,\n",
    "                                learning_method='online',\n",
    "                                learning_offset=50.,\n",
    "                                random_state=0)\n",
    "\n",
    "lda.fit(tf)"
   ]
  },
  {
   "cell_type": "code",
   "execution_count": 175,
   "metadata": {
    "ExecuteTime": {
     "end_time": "2021-01-10T17:32:58.560021Z",
     "start_time": "2021-01-10T17:32:58.554779Z"
    }
   },
   "outputs": [],
   "source": [
    "n_top_words=20"
   ]
  },
  {
   "cell_type": "code",
   "execution_count": 182,
   "metadata": {
    "ExecuteTime": {
     "end_time": "2021-03-06T10:44:36.847796Z",
     "start_time": "2021-03-06T10:44:36.840924Z"
    }
   },
   "outputs": [
    {
     "data": {
      "text/plain": [
       "8"
      ]
     },
     "execution_count": 182,
     "metadata": {},
     "output_type": "execute_result"
    }
   ],
   "source": [
    "topic_idx"
   ]
  },
  {
   "cell_type": "code",
   "execution_count": 239,
   "metadata": {
    "ExecuteTime": {
     "end_time": "2021-03-06T18:32:49.232542Z",
     "start_time": "2021-03-06T18:32:49.173980Z"
    },
    "scrolled": true
   },
   "outputs": [
    {
     "name": "stdout",
     "output_type": "stream",
     "text": [
      "飞行器\n",
      "Topic #0:\n",
      "导弹 设计 采用 研制 位于 装备 系统 雷达 年代 直升机 美国 苏联 公司 潜艇 作战 中国 海军 目标 服役 能力\n",
      "舰船舰艇\n",
      "Topic #1:\n",
      "发动机 飞机 战斗机 机身 公司 起落架 轰炸机 生产 尾翼 机型 机翼 原型机 单翼 螺旋桨 掠式 涡轮 空军 首飞 两台 安装\n",
      "枪械与单兵\n",
      "Topic #2:\n",
      "毫米 坦克 装甲 车体 炮塔 装备 火炮 生产 机枪 采用 公司 安装 研制 战车 装置 步兵 驾驶员 陆军 装有 位于\n",
      "坦克装甲车辆\n",
      "Topic #3:\n",
      "迷彩 迷彩服 伪装 左图 林地 江湖 配发 所示 导弹艇 07 87 数码 舰炮 巡逻艇 推出 烈火 中国人民解放军 图案 颜色 部队\n",
      "火炮\n",
      "Topic #4:\n",
      "海军 建造 上层建筑 日本 甲板 美国 航空母舰 服役 驱逐舰 护卫舰 舰队 战列舰 烟囱 下水 造船厂 舰桥 巡洋舰 航母 改装 12\n",
      "爆炸物\n",
      "Topic #5:\n",
      "伪装 云雀 ba sass aip mg pc mh 狙击手 森林 点击 vii 314 斯帕德 哥特 ck 法国 25t 查看 覆盖\n",
      "导弹武器\n",
      "Topic #6:\n",
      "卫星 轨道 系统 发射 提供 飞船 设备 地球 一个 无人机 运行 空间 通信 飞行器 设计 10 数据 探测器 飞行 观测\n",
      "太空装备\n",
      "Topic #7:\n",
      "手枪 步枪 枪管 采用 弹匣 毫米 该枪 枪机 射击 设计 握把 扳机 机匣 保险 冲锋枪 生产 套筒 枪弹 枪托 公司\n"
     ]
    },
    {
     "ename": "KeyError",
     "evalue": "8",
     "output_type": "error",
     "traceback": [
      "\u001b[0;31m---------------------------------------------------------------------------\u001b[0m",
      "\u001b[0;31mKeyError\u001b[0m                                  Traceback (most recent call last)",
      "\u001b[0;32m<ipython-input-239-2c8e74185eec>\u001b[0m in \u001b[0;36m<module>\u001b[0;34m\u001b[0m\n\u001b[1;32m      2\u001b[0m \u001b[0mtf_feature_names\u001b[0m \u001b[0;34m=\u001b[0m \u001b[0mtf_vectorizer\u001b[0m\u001b[0;34m.\u001b[0m\u001b[0mget_feature_names\u001b[0m\u001b[0;34m(\u001b[0m\u001b[0;34m)\u001b[0m\u001b[0;34m\u001b[0m\u001b[0;34m\u001b[0m\u001b[0m\n\u001b[1;32m      3\u001b[0m \u001b[0;32mfor\u001b[0m \u001b[0mtopic_idx\u001b[0m\u001b[0;34m,\u001b[0m \u001b[0mtopic\u001b[0m \u001b[0;32min\u001b[0m \u001b[0menumerate\u001b[0m\u001b[0;34m(\u001b[0m\u001b[0mlda\u001b[0m\u001b[0;34m.\u001b[0m\u001b[0mcomponents_\u001b[0m\u001b[0;34m)\u001b[0m\u001b[0;34m:\u001b[0m\u001b[0;34m\u001b[0m\u001b[0;34m\u001b[0m\u001b[0m\n\u001b[0;32m----> 4\u001b[0;31m     \u001b[0mprint\u001b[0m\u001b[0;34m(\u001b[0m\u001b[0mid_to_cat\u001b[0m\u001b[0;34m[\u001b[0m\u001b[0mtopic_idx\u001b[0m\u001b[0;34m]\u001b[0m\u001b[0;34m)\u001b[0m\u001b[0;34m\u001b[0m\u001b[0;34m\u001b[0m\u001b[0m\n\u001b[0m\u001b[1;32m      5\u001b[0m     \u001b[0mprint\u001b[0m\u001b[0;34m(\u001b[0m\u001b[0;34m\"Topic #%d:\"\u001b[0m \u001b[0;34m%\u001b[0m \u001b[0mtopic_idx\u001b[0m\u001b[0;34m)\u001b[0m\u001b[0;34m\u001b[0m\u001b[0;34m\u001b[0m\u001b[0m\n\u001b[1;32m      6\u001b[0m     print(\" \".join([tf_feature_names[i]\n",
      "\u001b[0;31mKeyError\u001b[0m: 8"
     ]
    }
   ],
   "source": [
    "#print trained topic model\n",
    "tf_feature_names = tf_vectorizer.get_feature_names()\n",
    "for topic_idx, topic in enumerate(lda.components_):\n",
    "    print(id_to_cat[topic_idx])\n",
    "    print(\"Topic #%d:\" % topic_idx)\n",
    "    print(\" \".join([tf_feature_names[i]\n",
    "                    for i in topic.argsort()[:-n_top_words - 1:-1]]))"
   ]
  },
  {
   "cell_type": "markdown",
   "metadata": {},
   "source": [
    "#### 加标签"
   ]
  },
  {
   "cell_type": "code",
   "execution_count": 79,
   "metadata": {
    "ExecuteTime": {
     "end_time": "2021-03-06T03:01:42.507574Z",
     "start_time": "2021-03-06T03:01:42.502977Z"
    }
   },
   "outputs": [],
   "source": [
    "def print_top_words(model, feature_names, n_top_words):\n",
    "    for topic_idx, topic in enumerate(model.components_):\n",
    "        message = \"Topic #%d: \" % topic_idx\n",
    "        message += \" \".join([feature_names[i]\n",
    "                             for i in topic.argsort()[:-n_top_words - 1:-1]])\n",
    "        print(message)\n",
    "    print()\n"
   ]
  },
  {
   "cell_type": "code",
   "execution_count": 80,
   "metadata": {
    "ExecuteTime": {
     "end_time": "2021-03-06T03:01:56.243825Z",
     "start_time": "2021-03-06T03:01:42.508961Z"
    }
   },
   "outputs": [],
   "source": [
    "lda = LatentDirichletAllocation(n_components =n_topics, max_iter=5,\n",
    "                                learning_method='online',\n",
    "                                learning_offset=50.,\n",
    "                                random_state=0)\n",
    "\n",
    "lda.fit(tf,label_id)\n",
    "n_top_words=20"
   ]
  },
  {
   "cell_type": "code",
   "execution_count": 191,
   "metadata": {
    "ExecuteTime": {
     "end_time": "2021-03-06T10:50:34.730561Z",
     "start_time": "2021-03-06T10:50:34.716008Z"
    }
   },
   "outputs": [
    {
     "name": "stdout",
     "output_type": "stream",
     "text": [
      "Help on LatentDirichletAllocation in module sklearn.decomposition._lda object:\n",
      "\n",
      "class LatentDirichletAllocation(sklearn.base.TransformerMixin, sklearn.base.BaseEstimator)\n",
      " |  LatentDirichletAllocation(n_components=10, *, doc_topic_prior=None, topic_word_prior=None, learning_method='batch', learning_decay=0.7, learning_offset=10.0, max_iter=10, batch_size=128, evaluate_every=-1, total_samples=1000000.0, perp_tol=0.1, mean_change_tol=0.001, max_doc_update_iter=100, n_jobs=None, verbose=0, random_state=None)\n",
      " |  \n",
      " |  Latent Dirichlet Allocation with online variational Bayes algorithm\n",
      " |  \n",
      " |  .. versionadded:: 0.17\n",
      " |  \n",
      " |  Read more in the :ref:`User Guide <LatentDirichletAllocation>`.\n",
      " |  \n",
      " |  Parameters\n",
      " |  ----------\n",
      " |  n_components : int, optional (default=10)\n",
      " |      Number of topics.\n",
      " |  \n",
      " |      .. versionchanged:: 0.19\n",
      " |          ``n_topics `` was renamed to ``n_components``\n",
      " |  \n",
      " |  doc_topic_prior : float, optional (default=None)\n",
      " |      Prior of document topic distribution `theta`. If the value is None,\n",
      " |      defaults to `1 / n_components`.\n",
      " |      In [1]_, this is called `alpha`.\n",
      " |  \n",
      " |  topic_word_prior : float, optional (default=None)\n",
      " |      Prior of topic word distribution `beta`. If the value is None, defaults\n",
      " |      to `1 / n_components`.\n",
      " |      In [1]_, this is called `eta`.\n",
      " |  \n",
      " |  learning_method : 'batch' | 'online', default='batch'\n",
      " |      Method used to update `_component`. Only used in :meth:`fit` method.\n",
      " |      In general, if the data size is large, the online update will be much\n",
      " |      faster than the batch update.\n",
      " |  \n",
      " |      Valid options::\n",
      " |  \n",
      " |          'batch': Batch variational Bayes method. Use all training data in\n",
      " |              each EM update.\n",
      " |              Old `components_` will be overwritten in each iteration.\n",
      " |          'online': Online variational Bayes method. In each EM update, use\n",
      " |              mini-batch of training data to update the ``components_``\n",
      " |              variable incrementally. The learning rate is controlled by the\n",
      " |              ``learning_decay`` and the ``learning_offset`` parameters.\n",
      " |  \n",
      " |      .. versionchanged:: 0.20\n",
      " |          The default learning method is now ``\"batch\"``.\n",
      " |  \n",
      " |  learning_decay : float, optional (default=0.7)\n",
      " |      It is a parameter that control learning rate in the online learning\n",
      " |      method. The value should be set between (0.5, 1.0] to guarantee\n",
      " |      asymptotic convergence. When the value is 0.0 and batch_size is\n",
      " |      ``n_samples``, the update method is same as batch learning. In the\n",
      " |      literature, this is called kappa.\n",
      " |  \n",
      " |  learning_offset : float, optional (default=10.)\n",
      " |      A (positive) parameter that downweights early iterations in online\n",
      " |      learning.  It should be greater than 1.0. In the literature, this is\n",
      " |      called tau_0.\n",
      " |  \n",
      " |  max_iter : integer, optional (default=10)\n",
      " |      The maximum number of iterations.\n",
      " |  \n",
      " |  batch_size : int, optional (default=128)\n",
      " |      Number of documents to use in each EM iteration. Only used in online\n",
      " |      learning.\n",
      " |  \n",
      " |  evaluate_every : int, optional (default=0)\n",
      " |      How often to evaluate perplexity. Only used in `fit` method.\n",
      " |      set it to 0 or negative number to not evaluate perplexity in\n",
      " |      training at all. Evaluating perplexity can help you check convergence\n",
      " |      in training process, but it will also increase total training time.\n",
      " |      Evaluating perplexity in every iteration might increase training time\n",
      " |      up to two-fold.\n",
      " |  \n",
      " |  total_samples : int, optional (default=1e6)\n",
      " |      Total number of documents. Only used in the :meth:`partial_fit` method.\n",
      " |  \n",
      " |  perp_tol : float, optional (default=1e-1)\n",
      " |      Perplexity tolerance in batch learning. Only used when\n",
      " |      ``evaluate_every`` is greater than 0.\n",
      " |  \n",
      " |  mean_change_tol : float, optional (default=1e-3)\n",
      " |      Stopping tolerance for updating document topic distribution in E-step.\n",
      " |  \n",
      " |  max_doc_update_iter : int (default=100)\n",
      " |      Max number of iterations for updating document topic distribution in\n",
      " |      the E-step.\n",
      " |  \n",
      " |  n_jobs : int or None, optional (default=None)\n",
      " |      The number of jobs to use in the E-step.\n",
      " |      ``None`` means 1 unless in a :obj:`joblib.parallel_backend` context.\n",
      " |      ``-1`` means using all processors. See :term:`Glossary <n_jobs>`\n",
      " |      for more details.\n",
      " |  \n",
      " |  verbose : int, optional (default=0)\n",
      " |      Verbosity level.\n",
      " |  \n",
      " |  random_state : int, RandomState instance, default=None\n",
      " |      Pass an int for reproducible results across multiple function calls.\n",
      " |      See :term:`Glossary <random_state>`.\n",
      " |  \n",
      " |  Attributes\n",
      " |  ----------\n",
      " |  components_ : array, [n_components, n_features]\n",
      " |      Variational parameters for topic word distribution. Since the complete\n",
      " |      conditional for topic word distribution is a Dirichlet,\n",
      " |      ``components_[i, j]`` can be viewed as pseudocount that represents the\n",
      " |      number of times word `j` was assigned to topic `i`.\n",
      " |      It can also be viewed as distribution over the words for each topic\n",
      " |      after normalization:\n",
      " |      ``model.components_ / model.components_.sum(axis=1)[:, np.newaxis]``.\n",
      " |  \n",
      " |  n_batch_iter_ : int\n",
      " |      Number of iterations of the EM step.\n",
      " |  \n",
      " |  n_iter_ : int\n",
      " |      Number of passes over the dataset.\n",
      " |  \n",
      " |  bound_ : float\n",
      " |      Final perplexity score on training set.\n",
      " |  \n",
      " |  doc_topic_prior_ : float\n",
      " |      Prior of document topic distribution `theta`. If the value is None,\n",
      " |      it is `1 / n_components`.\n",
      " |  \n",
      " |  topic_word_prior_ : float\n",
      " |      Prior of topic word distribution `beta`. If the value is None, it is\n",
      " |      `1 / n_components`.\n",
      " |  \n",
      " |  Examples\n",
      " |  --------\n",
      " |  >>> from sklearn.decomposition import LatentDirichletAllocation\n",
      " |  >>> from sklearn.datasets import make_multilabel_classification\n",
      " |  >>> # This produces a feature matrix of token counts, similar to what\n",
      " |  >>> # CountVectorizer would produce on text.\n",
      " |  >>> X, _ = make_multilabel_classification(random_state=0)\n",
      " |  >>> lda = LatentDirichletAllocation(n_components=5,\n",
      " |  ...     random_state=0)\n",
      " |  >>> lda.fit(X)\n",
      " |  LatentDirichletAllocation(...)\n",
      " |  >>> # get topics for some given samples:\n",
      " |  >>> lda.transform(X[-2:])\n",
      " |  array([[0.00360392, 0.25499205, 0.0036211 , 0.64236448, 0.09541846],\n",
      " |         [0.15297572, 0.00362644, 0.44412786, 0.39568399, 0.003586  ]])\n",
      " |  \n",
      " |  References\n",
      " |  ----------\n",
      " |  .. [1] \"Online Learning for Latent Dirichlet Allocation\", Matthew D.\n",
      " |      Hoffman, David M. Blei, Francis Bach, 2010\n",
      " |  \n",
      " |  [2] \"Stochastic Variational Inference\", Matthew D. Hoffman, David M. Blei,\n",
      " |      Chong Wang, John Paisley, 2013\n",
      " |  \n",
      " |  [3] Matthew D. Hoffman's onlineldavb code. Link:\n",
      " |      https://github.com/blei-lab/onlineldavb\n",
      " |  \n",
      " |  Method resolution order:\n",
      " |      LatentDirichletAllocation\n",
      " |      sklearn.base.TransformerMixin\n",
      " |      sklearn.base.BaseEstimator\n",
      " |      builtins.object\n",
      " |  \n",
      " |  Methods defined here:\n",
      " |  \n",
      " |  __init__(self, n_components=10, *, doc_topic_prior=None, topic_word_prior=None, learning_method='batch', learning_decay=0.7, learning_offset=10.0, max_iter=10, batch_size=128, evaluate_every=-1, total_samples=1000000.0, perp_tol=0.1, mean_change_tol=0.001, max_doc_update_iter=100, n_jobs=None, verbose=0, random_state=None)\n",
      " |      Initialize self.  See help(type(self)) for accurate signature.\n",
      " |  \n",
      " |  fit(self, X, y=None)\n",
      " |      Learn model for the data X with variational Bayes method.\n",
      " |      \n",
      " |      When `learning_method` is 'online', use mini-batch update.\n",
      " |      Otherwise, use batch update.\n",
      " |      \n",
      " |      Parameters\n",
      " |      ----------\n",
      " |      X : array-like or sparse matrix, shape=(n_samples, n_features)\n",
      " |          Document word matrix.\n",
      " |      \n",
      " |      y : Ignored\n",
      " |      \n",
      " |      Returns\n",
      " |      -------\n",
      " |      self\n",
      " |  \n",
      " |  partial_fit(self, X, y=None)\n",
      " |      Online VB with Mini-Batch update.\n",
      " |      \n",
      " |      Parameters\n",
      " |      ----------\n",
      " |      X : array-like or sparse matrix, shape=(n_samples, n_features)\n",
      " |          Document word matrix.\n",
      " |      \n",
      " |      y : Ignored\n",
      " |      \n",
      " |      Returns\n",
      " |      -------\n",
      " |      self\n",
      " |  \n",
      " |  perplexity(self, X, sub_sampling=False)\n",
      " |      Calculate approximate perplexity for data X.\n",
      " |      \n",
      " |      Perplexity is defined as exp(-1. * log-likelihood per word)\n",
      " |      \n",
      " |      .. versionchanged:: 0.19\n",
      " |         *doc_topic_distr* argument has been deprecated and is ignored\n",
      " |         because user no longer has access to unnormalized distribution\n",
      " |      \n",
      " |      Parameters\n",
      " |      ----------\n",
      " |      X : array-like or sparse matrix, [n_samples, n_features]\n",
      " |          Document word matrix.\n",
      " |      \n",
      " |      sub_sampling : bool\n",
      " |          Do sub-sampling or not.\n",
      " |      \n",
      " |      Returns\n",
      " |      -------\n",
      " |      score : float\n",
      " |          Perplexity score.\n",
      " |  \n",
      " |  score(self, X, y=None)\n",
      " |      Calculate approximate log-likelihood as score.\n",
      " |      \n",
      " |      Parameters\n",
      " |      ----------\n",
      " |      X : array-like or sparse matrix, shape=(n_samples, n_features)\n",
      " |          Document word matrix.\n",
      " |      \n",
      " |      y : Ignored\n",
      " |      \n",
      " |      Returns\n",
      " |      -------\n",
      " |      score : float\n",
      " |          Use approximate bound as score.\n",
      " |  \n",
      " |  transform(self, X)\n",
      " |      Transform data X according to the fitted model.\n",
      " |      \n",
      " |         .. versionchanged:: 0.18\n",
      " |            *doc_topic_distr* is now normalized\n",
      " |      \n",
      " |      Parameters\n",
      " |      ----------\n",
      " |      X : array-like or sparse matrix, shape=(n_samples, n_features)\n",
      " |          Document word matrix.\n",
      " |      \n",
      " |      Returns\n",
      " |      -------\n",
      " |      doc_topic_distr : shape=(n_samples, n_components)\n",
      " |          Document topic distribution for X.\n",
      " |  \n",
      " |  ----------------------------------------------------------------------\n",
      " |  Methods inherited from sklearn.base.TransformerMixin:\n",
      " |  \n",
      " |  fit_transform(self, X, y=None, **fit_params)\n",
      " |      Fit to data, then transform it.\n",
      " |      \n",
      " |      Fits transformer to X and y with optional parameters fit_params\n",
      " |      and returns a transformed version of X.\n",
      " |      \n",
      " |      Parameters\n",
      " |      ----------\n",
      " |      X : {array-like, sparse matrix, dataframe} of shape                 (n_samples, n_features)\n",
      " |      \n",
      " |      y : ndarray of shape (n_samples,), default=None\n",
      " |          Target values.\n",
      " |      \n",
      " |      **fit_params : dict\n",
      " |          Additional fit parameters.\n",
      " |      \n",
      " |      Returns\n",
      " |      -------\n",
      " |      X_new : ndarray array of shape (n_samples, n_features_new)\n",
      " |          Transformed array.\n",
      " |  \n",
      " |  ----------------------------------------------------------------------\n",
      " |  Data descriptors inherited from sklearn.base.TransformerMixin:\n",
      " |  \n",
      " |  __dict__\n",
      " |      dictionary for instance variables (if defined)\n",
      " |  \n",
      " |  __weakref__\n",
      " |      list of weak references to the object (if defined)\n",
      " |  \n",
      " |  ----------------------------------------------------------------------\n",
      " |  Methods inherited from sklearn.base.BaseEstimator:\n",
      " |  \n",
      " |  __getstate__(self)\n",
      " |  \n",
      " |  __repr__(self, N_CHAR_MAX=700)\n",
      " |      Return repr(self).\n",
      " |  \n",
      " |  __setstate__(self, state)\n",
      " |  \n",
      " |  get_params(self, deep=True)\n",
      " |      Get parameters for this estimator.\n",
      " |      \n",
      " |      Parameters\n",
      " |      ----------\n",
      " |      deep : bool, default=True\n",
      " |          If True, will return the parameters for this estimator and\n",
      " |          contained subobjects that are estimators.\n",
      " |      \n",
      " |      Returns\n",
      " |      -------\n",
      " |      params : mapping of string to any\n",
      " |          Parameter names mapped to their values.\n",
      " |  \n",
      " |  set_params(self, **params)\n",
      " |      Set the parameters of this estimator.\n",
      " |      \n",
      " |      The method works on simple estimators as well as on nested objects\n",
      " |      (such as pipelines). The latter have parameters of the form\n",
      " |      ``<component>__<parameter>`` so that it's possible to update each\n",
      " |      component of a nested object.\n",
      " |      \n",
      " |      Parameters\n",
      " |      ----------\n",
      " |      **params : dict\n",
      " |          Estimator parameters.\n",
      " |      \n",
      " |      Returns\n",
      " |      -------\n",
      " |      self : object\n",
      " |          Estimator instance.\n",
      "\n"
     ]
    }
   ],
   "source": [
    "help(lda)"
   ]
  },
  {
   "cell_type": "code",
   "execution_count": 81,
   "metadata": {
    "ExecuteTime": {
     "end_time": "2021-03-06T03:01:56.278150Z",
     "start_time": "2021-03-06T03:01:56.246030Z"
    }
   },
   "outputs": [
    {
     "name": "stdout",
     "output_type": "stream",
     "text": [
      "Topic #0:\n",
      "导弹 设计 采用 研制 位于 装备 系统 雷达 年代 直升机 美国 苏联 公司 潜艇 作战 中国 海军 目标 服役 能力\n",
      "Topic #1:\n",
      "发动机 飞机 战斗机 机身 公司 起落架 轰炸机 生产 尾翼 机型 机翼 原型机 单翼 螺旋桨 掠式 涡轮 空军 首飞 两台 安装\n",
      "Topic #2:\n",
      "毫米 坦克 装甲 车体 炮塔 装备 火炮 生产 机枪 采用 公司 安装 研制 战车 装置 步兵 驾驶员 陆军 装有 位于\n",
      "Topic #3:\n",
      "迷彩 迷彩服 伪装 左图 林地 江湖 配发 所示 导弹艇 07 87 数码 舰炮 巡逻艇 推出 烈火 中国人民解放军 图案 颜色 部队\n",
      "Topic #4:\n",
      "海军 建造 上层建筑 日本 甲板 美国 航空母舰 服役 驱逐舰 护卫舰 舰队 战列舰 烟囱 下水 造船厂 舰桥 巡洋舰 航母 改装 12\n",
      "Topic #5:\n",
      "伪装 云雀 ba sass aip mg pc mh 狙击手 森林 点击 vii 314 斯帕德 哥特 ck 法国 25t 查看 覆盖\n",
      "Topic #6:\n",
      "卫星 轨道 系统 发射 提供 飞船 设备 地球 一个 无人机 运行 空间 通信 飞行器 设计 10 数据 探测器 飞行 观测\n",
      "Topic #7:\n",
      "手枪 步枪 枪管 采用 弹匣 毫米 该枪 枪机 射击 设计 握把 扳机 机匣 保险 冲锋枪 生产 套筒 枪弹 枪托 公司\n",
      "Topic #8:\n",
      "发射 火箭 手榴弹 运载火箭 卫星 引信 中国 一个 研制 弹体 波音 11 轨道 设计 一号 用于 10 月球 成功 质量\n"
     ]
    }
   ],
   "source": [
    "#print trained topic model\n",
    "tf_feature_names = tf_vectorizer.get_feature_names()\n",
    "for topic_idx, topic in enumerate(lda.components_):\n",
    "    print(\"Topic #%d:\" % topic_idx)\n",
    "    print(\" \".join([tf_feature_names[i]\n",
    "                    for i in topic.argsort()[:-n_top_words - 1:-1]]))"
   ]
  },
  {
   "cell_type": "code",
   "execution_count": 184,
   "metadata": {
    "ExecuteTime": {
     "end_time": "2021-03-06T10:45:47.276235Z",
     "start_time": "2021-03-06T10:45:47.244064Z"
    }
   },
   "outputs": [
    {
     "data": {
      "text/plain": [
       "['飞行器',\n",
       " '飞行器',\n",
       " '飞行器',\n",
       " '飞行器',\n",
       " '飞行器',\n",
       " '飞行器',\n",
       " '飞行器',\n",
       " '飞行器',\n",
       " '飞行器',\n",
       " '飞行器',\n",
       " '枪械与单兵',\n",
       " '坦克装甲车辆',\n",
       " '火炮',\n",
       " '导弹武器',\n",
       " '太空装备',\n",
       " '爆炸物',\n",
       " '爆炸物',\n",
       " '爆炸物',\n",
       " '太空装备',\n",
       " '太空装备',\n",
       " '太空装备',\n",
       " '太空装备',\n",
       " '太空装备',\n",
       " '导弹武器',\n",
       " '火炮',\n",
       " '火炮',\n",
       " '火炮',\n",
       " '火炮',\n",
       " '火炮',\n",
       " '火炮',\n",
       " '火炮',\n",
       " '火炮',\n",
       " '火炮',\n",
       " '火炮',\n",
       " '火炮',\n",
       " '坦克装甲车辆',\n",
       " '坦克装甲车辆',\n",
       " '坦克装甲车辆',\n",
       " '坦克装甲车辆',\n",
       " '坦克装甲车辆',\n",
       " '坦克装甲车辆',\n",
       " '枪械与单兵',\n",
       " '枪械与单兵',\n",
       " '枪械与单兵',\n",
       " '枪械与单兵',\n",
       " '枪械与单兵',\n",
       " '舰船舰艇',\n",
       " '舰船舰艇',\n",
       " '舰船舰艇',\n",
       " '飞行器',\n",
       " '飞行器',\n",
       " '飞行器',\n",
       " '飞行器',\n",
       " '飞行器',\n",
       " '飞行器',\n",
       " '飞行器',\n",
       " '飞行器',\n",
       " '飞行器',\n",
       " '飞行器',\n",
       " '飞行器',\n",
       " '飞行器',\n",
       " '飞行器',\n",
       " '飞行器',\n",
       " '飞行器',\n",
       " '飞行器',\n",
       " '飞行器',\n",
       " '飞行器',\n",
       " '飞行器',\n",
       " '飞行器',\n",
       " '飞行器',\n",
       " '飞行器',\n",
       " '飞行器',\n",
       " '飞行器',\n",
       " '飞行器',\n",
       " '飞行器',\n",
       " '飞行器',\n",
       " '飞行器',\n",
       " '飞行器',\n",
       " '飞行器',\n",
       " '飞行器',\n",
       " '飞行器',\n",
       " '飞行器',\n",
       " '飞行器',\n",
       " '飞行器',\n",
       " '飞行器',\n",
       " '飞行器',\n",
       " '飞行器',\n",
       " '飞行器',\n",
       " '飞行器',\n",
       " '飞行器',\n",
       " '飞行器',\n",
       " '飞行器',\n",
       " '飞行器',\n",
       " '飞行器',\n",
       " '飞行器',\n",
       " '飞行器',\n",
       " '飞行器',\n",
       " '飞行器',\n",
       " '飞行器',\n",
       " '飞行器',\n",
       " '飞行器',\n",
       " '飞行器',\n",
       " '飞行器',\n",
       " '飞行器',\n",
       " '飞行器',\n",
       " '飞行器',\n",
       " '飞行器',\n",
       " '飞行器',\n",
       " '飞行器',\n",
       " '飞行器',\n",
       " '飞行器',\n",
       " '飞行器',\n",
       " '飞行器',\n",
       " '飞行器',\n",
       " '飞行器',\n",
       " '飞行器',\n",
       " '飞行器',\n",
       " '飞行器',\n",
       " '飞行器',\n",
       " '飞行器',\n",
       " '飞行器',\n",
       " '飞行器',\n",
       " '飞行器',\n",
       " '飞行器',\n",
       " '飞行器',\n",
       " '飞行器',\n",
       " '飞行器',\n",
       " '飞行器',\n",
       " '飞行器',\n",
       " '飞行器',\n",
       " '飞行器',\n",
       " '飞行器',\n",
       " '飞行器',\n",
       " '飞行器',\n",
       " '飞行器',\n",
       " '飞行器',\n",
       " '飞行器',\n",
       " '飞行器',\n",
       " '飞行器',\n",
       " '飞行器',\n",
       " '飞行器',\n",
       " '飞行器',\n",
       " '飞行器',\n",
       " '飞行器',\n",
       " '飞行器',\n",
       " '飞行器',\n",
       " '飞行器',\n",
       " '飞行器',\n",
       " '飞行器',\n",
       " '飞行器',\n",
       " '飞行器',\n",
       " '飞行器',\n",
       " '飞行器',\n",
       " '飞行器',\n",
       " '飞行器',\n",
       " '飞行器',\n",
       " '爆炸物',\n",
       " '爆炸物',\n",
       " '爆炸物',\n",
       " '爆炸物',\n",
       " '爆炸物',\n",
       " '爆炸物',\n",
       " '爆炸物',\n",
       " '爆炸物',\n",
       " '爆炸物',\n",
       " '爆炸物',\n",
       " '爆炸物',\n",
       " '爆炸物',\n",
       " '爆炸物',\n",
       " '爆炸物',\n",
       " '爆炸物',\n",
       " '爆炸物',\n",
       " '爆炸物',\n",
       " '爆炸物',\n",
       " '爆炸物',\n",
       " '爆炸物',\n",
       " '爆炸物',\n",
       " '爆炸物',\n",
       " '爆炸物',\n",
       " '爆炸物',\n",
       " '爆炸物',\n",
       " '爆炸物',\n",
       " '爆炸物',\n",
       " '爆炸物',\n",
       " '爆炸物',\n",
       " '爆炸物',\n",
       " '爆炸物',\n",
       " '爆炸物',\n",
       " '爆炸物',\n",
       " '爆炸物',\n",
       " '爆炸物',\n",
       " '爆炸物',\n",
       " '爆炸物',\n",
       " '爆炸物',\n",
       " '爆炸物',\n",
       " '爆炸物',\n",
       " '爆炸物',\n",
       " '爆炸物',\n",
       " '爆炸物',\n",
       " '爆炸物',\n",
       " '爆炸物',\n",
       " '爆炸物',\n",
       " '爆炸物',\n",
       " '爆炸物',\n",
       " '爆炸物',\n",
       " '爆炸物',\n",
       " '爆炸物',\n",
       " '爆炸物',\n",
       " '爆炸物',\n",
       " '爆炸物',\n",
       " '爆炸物',\n",
       " '爆炸物',\n",
       " '爆炸物',\n",
       " '爆炸物',\n",
       " '爆炸物',\n",
       " '爆炸物',\n",
       " '爆炸物',\n",
       " '爆炸物',\n",
       " '爆炸物',\n",
       " '爆炸物',\n",
       " '爆炸物',\n",
       " '爆炸物',\n",
       " '爆炸物',\n",
       " '爆炸物',\n",
       " '爆炸物',\n",
       " '爆炸物',\n",
       " '爆炸物',\n",
       " '爆炸物',\n",
       " '爆炸物',\n",
       " '爆炸物',\n",
       " '爆炸物',\n",
       " '爆炸物',\n",
       " '爆炸物',\n",
       " '爆炸物',\n",
       " '爆炸物',\n",
       " '爆炸物',\n",
       " '舰船舰艇',\n",
       " '爆炸物',\n",
       " '爆炸物',\n",
       " '爆炸物',\n",
       " '爆炸物',\n",
       " '爆炸物',\n",
       " '爆炸物',\n",
       " '爆炸物',\n",
       " '爆炸物',\n",
       " '爆炸物',\n",
       " '爆炸物',\n",
       " '爆炸物',\n",
       " '爆炸物',\n",
       " '爆炸物',\n",
       " '爆炸物',\n",
       " '爆炸物',\n",
       " '爆炸物',\n",
       " '爆炸物',\n",
       " '爆炸物',\n",
       " '爆炸物',\n",
       " '爆炸物',\n",
       " '爆炸物',\n",
       " '爆炸物',\n",
       " '爆炸物',\n",
       " '爆炸物',\n",
       " '爆炸物',\n",
       " '爆炸物',\n",
       " '爆炸物',\n",
       " '爆炸物',\n",
       " '爆炸物',\n",
       " '爆炸物',\n",
       " '爆炸物',\n",
       " '爆炸物',\n",
       " '爆炸物',\n",
       " '爆炸物',\n",
       " '爆炸物',\n",
       " '爆炸物',\n",
       " '爆炸物',\n",
       " '爆炸物',\n",
       " '爆炸物',\n",
       " '爆炸物',\n",
       " '爆炸物',\n",
       " '爆炸物',\n",
       " '爆炸物',\n",
       " '爆炸物',\n",
       " '爆炸物',\n",
       " '爆炸物',\n",
       " '爆炸物',\n",
       " '爆炸物',\n",
       " '爆炸物',\n",
       " '爆炸物',\n",
       " '爆炸物',\n",
       " '爆炸物',\n",
       " '爆炸物',\n",
       " '爆炸物',\n",
       " '爆炸物',\n",
       " '爆炸物',\n",
       " '爆炸物',\n",
       " '爆炸物',\n",
       " '爆炸物',\n",
       " '爆炸物',\n",
       " '爆炸物',\n",
       " '爆炸物',\n",
       " '爆炸物',\n",
       " '爆炸物',\n",
       " '爆炸物',\n",
       " '爆炸物',\n",
       " '爆炸物',\n",
       " '爆炸物',\n",
       " '爆炸物',\n",
       " '爆炸物',\n",
       " '爆炸物',\n",
       " '爆炸物',\n",
       " '爆炸物',\n",
       " '爆炸物',\n",
       " '爆炸物',\n",
       " '爆炸物',\n",
       " '爆炸物',\n",
       " '爆炸物',\n",
       " '爆炸物',\n",
       " '爆炸物',\n",
       " '爆炸物',\n",
       " '爆炸物',\n",
       " '爆炸物',\n",
       " '爆炸物',\n",
       " '爆炸物',\n",
       " '爆炸物',\n",
       " '爆炸物',\n",
       " '爆炸物',\n",
       " '爆炸物',\n",
       " '爆炸物',\n",
       " '飞行器',\n",
       " '爆炸物',\n",
       " '爆炸物',\n",
       " '爆炸物',\n",
       " '爆炸物',\n",
       " '爆炸物',\n",
       " '爆炸物',\n",
       " '爆炸物',\n",
       " '爆炸物',\n",
       " '爆炸物',\n",
       " '爆炸物',\n",
       " '爆炸物',\n",
       " '爆炸物',\n",
       " '爆炸物',\n",
       " '爆炸物',\n",
       " '爆炸物',\n",
       " '爆炸物',\n",
       " '爆炸物',\n",
       " '爆炸物',\n",
       " '爆炸物',\n",
       " '爆炸物',\n",
       " '爆炸物',\n",
       " '爆炸物',\n",
       " '爆炸物',\n",
       " '爆炸物',\n",
       " '爆炸物',\n",
       " '爆炸物',\n",
       " '爆炸物',\n",
       " '爆炸物',\n",
       " '爆炸物',\n",
       " '爆炸物',\n",
       " '爆炸物',\n",
       " '爆炸物',\n",
       " '爆炸物',\n",
       " '爆炸物',\n",
       " '爆炸物',\n",
       " '爆炸物',\n",
       " '爆炸物',\n",
       " '爆炸物',\n",
       " '爆炸物',\n",
       " '爆炸物',\n",
       " '爆炸物',\n",
       " '爆炸物',\n",
       " '爆炸物',\n",
       " '爆炸物',\n",
       " '爆炸物',\n",
       " '爆炸物',\n",
       " '爆炸物',\n",
       " '爆炸物',\n",
       " '爆炸物',\n",
       " '爆炸物',\n",
       " '爆炸物',\n",
       " '爆炸物',\n",
       " '爆炸物',\n",
       " '爆炸物',\n",
       " '爆炸物',\n",
       " '爆炸物',\n",
       " '爆炸物',\n",
       " '爆炸物',\n",
       " '爆炸物',\n",
       " '爆炸物',\n",
       " '爆炸物',\n",
       " '爆炸物',\n",
       " '爆炸物',\n",
       " '爆炸物',\n",
       " '爆炸物',\n",
       " '爆炸物',\n",
       " '爆炸物',\n",
       " '爆炸物',\n",
       " '爆炸物',\n",
       " '爆炸物',\n",
       " '爆炸物',\n",
       " '爆炸物',\n",
       " '爆炸物',\n",
       " '爆炸物',\n",
       " '爆炸物',\n",
       " '爆炸物',\n",
       " '爆炸物',\n",
       " '爆炸物',\n",
       " '爆炸物',\n",
       " '爆炸物',\n",
       " '爆炸物',\n",
       " '爆炸物',\n",
       " '爆炸物',\n",
       " '爆炸物',\n",
       " '爆炸物',\n",
       " '爆炸物',\n",
       " '爆炸物',\n",
       " '爆炸物',\n",
       " '爆炸物',\n",
       " '爆炸物',\n",
       " '爆炸物',\n",
       " '爆炸物',\n",
       " '爆炸物',\n",
       " '爆炸物',\n",
       " '爆炸物',\n",
       " '爆炸物',\n",
       " '爆炸物',\n",
       " '爆炸物',\n",
       " '爆炸物',\n",
       " '爆炸物',\n",
       " '爆炸物',\n",
       " '爆炸物',\n",
       " '爆炸物',\n",
       " '爆炸物',\n",
       " '爆炸物',\n",
       " '爆炸物',\n",
       " '爆炸物',\n",
       " '爆炸物',\n",
       " '爆炸物',\n",
       " '爆炸物',\n",
       " '爆炸物',\n",
       " '爆炸物',\n",
       " '爆炸物',\n",
       " '爆炸物',\n",
       " '爆炸物',\n",
       " '爆炸物',\n",
       " '爆炸物',\n",
       " '爆炸物',\n",
       " '爆炸物',\n",
       " '爆炸物',\n",
       " '爆炸物',\n",
       " '爆炸物',\n",
       " '爆炸物',\n",
       " '爆炸物',\n",
       " '爆炸物',\n",
       " '爆炸物',\n",
       " '爆炸物',\n",
       " '爆炸物',\n",
       " '爆炸物',\n",
       " '爆炸物',\n",
       " '爆炸物',\n",
       " '爆炸物',\n",
       " '爆炸物',\n",
       " '爆炸物',\n",
       " '爆炸物',\n",
       " '爆炸物',\n",
       " '爆炸物',\n",
       " '爆炸物',\n",
       " '爆炸物',\n",
       " '爆炸物',\n",
       " '爆炸物',\n",
       " '爆炸物',\n",
       " '爆炸物',\n",
       " '爆炸物',\n",
       " '爆炸物',\n",
       " '爆炸物',\n",
       " '爆炸物',\n",
       " '爆炸物',\n",
       " '爆炸物',\n",
       " '爆炸物',\n",
       " '爆炸物',\n",
       " '爆炸物',\n",
       " '爆炸物',\n",
       " '爆炸物',\n",
       " '爆炸物',\n",
       " '爆炸物',\n",
       " '爆炸物',\n",
       " '爆炸物',\n",
       " '爆炸物',\n",
       " '爆炸物',\n",
       " '爆炸物',\n",
       " '爆炸物',\n",
       " '爆炸物',\n",
       " '爆炸物',\n",
       " '爆炸物',\n",
       " '爆炸物',\n",
       " '爆炸物',\n",
       " '爆炸物',\n",
       " '爆炸物',\n",
       " '爆炸物',\n",
       " '爆炸物',\n",
       " '爆炸物',\n",
       " '爆炸物',\n",
       " '爆炸物',\n",
       " '爆炸物',\n",
       " '爆炸物',\n",
       " '爆炸物',\n",
       " '爆炸物',\n",
       " '爆炸物',\n",
       " '爆炸物',\n",
       " '爆炸物',\n",
       " '爆炸物',\n",
       " '爆炸物',\n",
       " '爆炸物',\n",
       " '爆炸物',\n",
       " '爆炸物',\n",
       " '爆炸物',\n",
       " '爆炸物',\n",
       " '爆炸物',\n",
       " '爆炸物',\n",
       " '爆炸物',\n",
       " '爆炸物',\n",
       " '爆炸物',\n",
       " '爆炸物',\n",
       " '爆炸物',\n",
       " '爆炸物',\n",
       " '爆炸物',\n",
       " '爆炸物',\n",
       " '爆炸物',\n",
       " '爆炸物',\n",
       " '爆炸物',\n",
       " '爆炸物',\n",
       " '爆炸物',\n",
       " '爆炸物',\n",
       " '爆炸物',\n",
       " '爆炸物',\n",
       " '爆炸物',\n",
       " '爆炸物',\n",
       " '爆炸物',\n",
       " '爆炸物',\n",
       " '爆炸物',\n",
       " '爆炸物',\n",
       " '爆炸物',\n",
       " '爆炸物',\n",
       " '爆炸物',\n",
       " '爆炸物',\n",
       " '爆炸物',\n",
       " '爆炸物',\n",
       " '爆炸物',\n",
       " '爆炸物',\n",
       " '爆炸物',\n",
       " '爆炸物',\n",
       " '爆炸物',\n",
       " '爆炸物',\n",
       " '爆炸物',\n",
       " '爆炸物',\n",
       " '爆炸物',\n",
       " '爆炸物',\n",
       " '爆炸物',\n",
       " '爆炸物',\n",
       " '爆炸物',\n",
       " '爆炸物',\n",
       " '爆炸物',\n",
       " '爆炸物',\n",
       " '爆炸物',\n",
       " '爆炸物',\n",
       " '爆炸物',\n",
       " '爆炸物',\n",
       " '爆炸物',\n",
       " '爆炸物',\n",
       " '爆炸物',\n",
       " '爆炸物',\n",
       " '爆炸物',\n",
       " '爆炸物',\n",
       " '爆炸物',\n",
       " '爆炸物',\n",
       " '爆炸物',\n",
       " '爆炸物',\n",
       " '爆炸物',\n",
       " '爆炸物',\n",
       " '爆炸物',\n",
       " '爆炸物',\n",
       " '爆炸物',\n",
       " '爆炸物',\n",
       " '爆炸物',\n",
       " '太空装备',\n",
       " '太空装备',\n",
       " '太空装备',\n",
       " '太空装备',\n",
       " '太空装备',\n",
       " '太空装备',\n",
       " '太空装备',\n",
       " '太空装备',\n",
       " '太空装备',\n",
       " '爆炸物',\n",
       " '太空装备',\n",
       " '太空装备',\n",
       " '太空装备',\n",
       " '太空装备',\n",
       " '太空装备',\n",
       " '太空装备',\n",
       " '太空装备',\n",
       " '太空装备',\n",
       " '太空装备',\n",
       " '太空装备',\n",
       " '太空装备',\n",
       " '太空装备',\n",
       " '太空装备',\n",
       " '太空装备',\n",
       " '太空装备',\n",
       " '太空装备',\n",
       " '太空装备',\n",
       " '太空装备',\n",
       " '太空装备',\n",
       " '太空装备',\n",
       " '太空装备',\n",
       " '太空装备',\n",
       " '太空装备',\n",
       " '太空装备',\n",
       " '太空装备',\n",
       " '太空装备',\n",
       " '太空装备',\n",
       " '太空装备',\n",
       " '太空装备',\n",
       " '太空装备',\n",
       " '太空装备',\n",
       " '太空装备',\n",
       " '太空装备',\n",
       " '太空装备',\n",
       " '太空装备',\n",
       " '太空装备',\n",
       " '太空装备',\n",
       " '太空装备',\n",
       " '太空装备',\n",
       " '太空装备',\n",
       " '太空装备',\n",
       " '太空装备',\n",
       " '太空装备',\n",
       " '太空装备',\n",
       " '太空装备',\n",
       " '太空装备',\n",
       " '太空装备',\n",
       " '太空装备',\n",
       " '太空装备',\n",
       " '太空装备',\n",
       " '太空装备',\n",
       " '太空装备',\n",
       " '太空装备',\n",
       " '太空装备',\n",
       " '太空装备',\n",
       " '太空装备',\n",
       " '太空装备',\n",
       " '太空装备',\n",
       " '太空装备',\n",
       " '太空装备',\n",
       " '太空装备',\n",
       " '太空装备',\n",
       " '太空装备',\n",
       " '太空装备',\n",
       " '太空装备',\n",
       " '太空装备',\n",
       " '爆炸物',\n",
       " '太空装备',\n",
       " '太空装备',\n",
       " '太空装备',\n",
       " '太空装备',\n",
       " '太空装备',\n",
       " '太空装备',\n",
       " '太空装备',\n",
       " '太空装备',\n",
       " '太空装备',\n",
       " '爆炸物',\n",
       " '太空装备',\n",
       " '太空装备',\n",
       " '太空装备',\n",
       " '太空装备',\n",
       " '太空装备',\n",
       " '太空装备',\n",
       " '太空装备',\n",
       " '太空装备',\n",
       " '太空装备',\n",
       " '太空装备',\n",
       " '太空装备',\n",
       " '太空装备',\n",
       " '太空装备',\n",
       " '太空装备',\n",
       " '太空装备',\n",
       " '太空装备',\n",
       " '太空装备',\n",
       " '太空装备',\n",
       " '太空装备',\n",
       " '太空装备',\n",
       " '太空装备',\n",
       " '太空装备',\n",
       " '太空装备',\n",
       " '太空装备',\n",
       " '太空装备',\n",
       " '太空装备',\n",
       " '太空装备',\n",
       " '太空装备',\n",
       " '太空装备',\n",
       " '太空装备',\n",
       " '太空装备',\n",
       " '爆炸物',\n",
       " '爆炸物',\n",
       " '爆炸物',\n",
       " '爆炸物',\n",
       " '爆炸物',\n",
       " '爆炸物',\n",
       " '爆炸物',\n",
       " '爆炸物',\n",
       " '爆炸物',\n",
       " '爆炸物',\n",
       " '爆炸物',\n",
       " '爆炸物',\n",
       " '爆炸物',\n",
       " '爆炸物',\n",
       " '爆炸物',\n",
       " '爆炸物',\n",
       " '爆炸物',\n",
       " '爆炸物',\n",
       " '爆炸物',\n",
       " '爆炸物',\n",
       " '爆炸物',\n",
       " '爆炸物',\n",
       " '太空装备',\n",
       " '太空装备',\n",
       " '太空装备',\n",
       " '太空装备',\n",
       " '太空装备',\n",
       " '太空装备',\n",
       " '太空装备',\n",
       " '太空装备',\n",
       " '太空装备',\n",
       " '太空装备',\n",
       " '爆炸物',\n",
       " '太空装备',\n",
       " '太空装备',\n",
       " '太空装备',\n",
       " '太空装备',\n",
       " '太空装备',\n",
       " '太空装备',\n",
       " '太空装备',\n",
       " '太空装备',\n",
       " '太空装备',\n",
       " '太空装备',\n",
       " '太空装备',\n",
       " '太空装备',\n",
       " '太空装备',\n",
       " '太空装备',\n",
       " '太空装备',\n",
       " '太空装备',\n",
       " '太空装备',\n",
       " '太空装备',\n",
       " '太空装备',\n",
       " '太空装备',\n",
       " '太空装备',\n",
       " '太空装备',\n",
       " '太空装备',\n",
       " '太空装备',\n",
       " '太空装备',\n",
       " '太空装备',\n",
       " '太空装备',\n",
       " '太空装备',\n",
       " '太空装备',\n",
       " '太空装备',\n",
       " '太空装备',\n",
       " '太空装备',\n",
       " '太空装备',\n",
       " '太空装备',\n",
       " '太空装备',\n",
       " '太空装备',\n",
       " '太空装备',\n",
       " '太空装备',\n",
       " '太空装备',\n",
       " '太空装备',\n",
       " '太空装备',\n",
       " '太空装备',\n",
       " '太空装备',\n",
       " '太空装备',\n",
       " '太空装备',\n",
       " '太空装备',\n",
       " '太空装备',\n",
       " '太空装备',\n",
       " '太空装备',\n",
       " '太空装备',\n",
       " '太空装备',\n",
       " '太空装备',\n",
       " '太空装备',\n",
       " '太空装备',\n",
       " '太空装备',\n",
       " '太空装备',\n",
       " '太空装备',\n",
       " '太空装备',\n",
       " '太空装备',\n",
       " '太空装备',\n",
       " '太空装备',\n",
       " '太空装备',\n",
       " '太空装备',\n",
       " '太空装备',\n",
       " '太空装备',\n",
       " '太空装备',\n",
       " '太空装备',\n",
       " '太空装备',\n",
       " '太空装备',\n",
       " '太空装备',\n",
       " '太空装备',\n",
       " '太空装备',\n",
       " '太空装备',\n",
       " '太空装备',\n",
       " '太空装备',\n",
       " '太空装备',\n",
       " '太空装备',\n",
       " '太空装备',\n",
       " '太空装备',\n",
       " '太空装备',\n",
       " '太空装备',\n",
       " '太空装备',\n",
       " '太空装备',\n",
       " '太空装备',\n",
       " '太空装备',\n",
       " '太空装备',\n",
       " '太空装备',\n",
       " '太空装备',\n",
       " '太空装备',\n",
       " '太空装备',\n",
       " '太空装备',\n",
       " '太空装备',\n",
       " '太空装备',\n",
       " '太空装备',\n",
       " '太空装备',\n",
       " '太空装备',\n",
       " '太空装备',\n",
       " '太空装备',\n",
       " '太空装备',\n",
       " '太空装备',\n",
       " '太空装备',\n",
       " '太空装备',\n",
       " '太空装备',\n",
       " '太空装备',\n",
       " '太空装备',\n",
       " '太空装备',\n",
       " '太空装备',\n",
       " '太空装备',\n",
       " '太空装备',\n",
       " '太空装备',\n",
       " '太空装备',\n",
       " '太空装备',\n",
       " '太空装备',\n",
       " '太空装备',\n",
       " '太空装备',\n",
       " '太空装备',\n",
       " '太空装备',\n",
       " '太空装备',\n",
       " '太空装备',\n",
       " '太空装备',\n",
       " '太空装备',\n",
       " '太空装备',\n",
       " '太空装备',\n",
       " '太空装备',\n",
       " '太空装备',\n",
       " '太空装备',\n",
       " '太空装备',\n",
       " '太空装备',\n",
       " '太空装备',\n",
       " '太空装备',\n",
       " '太空装备',\n",
       " '太空装备',\n",
       " '太空装备',\n",
       " '太空装备',\n",
       " '太空装备',\n",
       " '太空装备',\n",
       " '太空装备',\n",
       " '太空装备',\n",
       " '太空装备',\n",
       " '导弹武器',\n",
       " '导弹武器',\n",
       " '导弹武器',\n",
       " '导弹武器',\n",
       " '导弹武器',\n",
       " '导弹武器',\n",
       " '导弹武器',\n",
       " '导弹武器',\n",
       " '导弹武器',\n",
       " '导弹武器',\n",
       " '导弹武器',\n",
       " '导弹武器',\n",
       " '导弹武器',\n",
       " '导弹武器',\n",
       " '导弹武器',\n",
       " '导弹武器',\n",
       " '导弹武器',\n",
       " '导弹武器',\n",
       " '导弹武器',\n",
       " '导弹武器',\n",
       " '导弹武器',\n",
       " '导弹武器',\n",
       " '导弹武器',\n",
       " '导弹武器',\n",
       " '导弹武器',\n",
       " '导弹武器',\n",
       " '导弹武器',\n",
       " '导弹武器',\n",
       " '导弹武器',\n",
       " '导弹武器',\n",
       " '导弹武器',\n",
       " '导弹武器',\n",
       " '导弹武器',\n",
       " '导弹武器',\n",
       " '导弹武器',\n",
       " '导弹武器',\n",
       " '导弹武器',\n",
       " '导弹武器',\n",
       " '导弹武器',\n",
       " '导弹武器',\n",
       " '导弹武器',\n",
       " '导弹武器',\n",
       " '导弹武器',\n",
       " '导弹武器',\n",
       " '导弹武器',\n",
       " '导弹武器',\n",
       " '导弹武器',\n",
       " '太空装备',\n",
       " '太空装备',\n",
       " '太空装备',\n",
       " '太空装备',\n",
       " '太空装备',\n",
       " '太空装备',\n",
       " '太空装备',\n",
       " '太空装备',\n",
       " '太空装备',\n",
       " '太空装备',\n",
       " '太空装备',\n",
       " '太空装备',\n",
       " '太空装备',\n",
       " '太空装备',\n",
       " '太空装备',\n",
       " '太空装备',\n",
       " '太空装备',\n",
       " '太空装备',\n",
       " '太空装备',\n",
       " '太空装备',\n",
       " '太空装备',\n",
       " '太空装备',\n",
       " '太空装备',\n",
       " '太空装备',\n",
       " '太空装备',\n",
       " '太空装备',\n",
       " '太空装备',\n",
       " '太空装备',\n",
       " '太空装备',\n",
       " '太空装备',\n",
       " '太空装备',\n",
       " '太空装备',\n",
       " '太空装备',\n",
       " '太空装备',\n",
       " '太空装备',\n",
       " '太空装备',\n",
       " '太空装备',\n",
       " '太空装备',\n",
       " '太空装备',\n",
       " '太空装备',\n",
       " '太空装备',\n",
       " '太空装备',\n",
       " '太空装备',\n",
       " '太空装备',\n",
       " '太空装备',\n",
       " '太空装备',\n",
       " '太空装备',\n",
       " '太空装备',\n",
       " '太空装备',\n",
       " '太空装备',\n",
       " '太空装备',\n",
       " '太空装备',\n",
       " '太空装备',\n",
       " '太空装备',\n",
       " '太空装备',\n",
       " '太空装备',\n",
       " '太空装备',\n",
       " '太空装备',\n",
       " '太空装备',\n",
       " '太空装备',\n",
       " '太空装备',\n",
       " '太空装备',\n",
       " '太空装备',\n",
       " '太空装备',\n",
       " '太空装备',\n",
       " '太空装备',\n",
       " '太空装备',\n",
       " '太空装备',\n",
       " '太空装备',\n",
       " '太空装备',\n",
       " '太空装备',\n",
       " '太空装备',\n",
       " '太空装备',\n",
       " '太空装备',\n",
       " '太空装备',\n",
       " '太空装备',\n",
       " '太空装备',\n",
       " '太空装备',\n",
       " '太空装备',\n",
       " '太空装备',\n",
       " ...]"
      ]
     },
     "execution_count": 184,
     "metadata": {},
     "output_type": "execute_result"
    }
   ],
   "source": [
    "labels"
   ]
  },
  {
   "cell_type": "markdown",
   "metadata": {},
   "source": [
    "### nmf"
   ]
  },
  {
   "cell_type": "markdown",
   "metadata": {},
   "source": [
    "#### 无标签"
   ]
  },
  {
   "cell_type": "code",
   "execution_count": 193,
   "metadata": {
    "ExecuteTime": {
     "end_time": "2021-03-06T10:52:46.571606Z",
     "start_time": "2021-03-06T10:52:46.566591Z"
    }
   },
   "outputs": [],
   "source": [
    "from sklearn.decomposition import NMF"
   ]
  },
  {
   "cell_type": "code",
   "execution_count": 195,
   "metadata": {
    "ExecuteTime": {
     "end_time": "2021-03-06T10:52:57.138759Z",
     "start_time": "2021-03-06T10:52:57.133970Z"
    }
   },
   "outputs": [],
   "source": [
    "n_components=9"
   ]
  },
  {
   "cell_type": "code",
   "execution_count": 193,
   "metadata": {
    "ExecuteTime": {
     "end_time": "2021-01-10T17:49:20.701716Z",
     "start_time": "2021-01-10T17:49:08.277056Z"
    }
   },
   "outputs": [
    {
     "name": "stdout",
     "output_type": "stream",
     "text": [
      "\n",
      "Topics in NMF model (Frobenius norm):\n"
     ]
    }
   ],
   "source": [
    "nmf = NMF(n_components=n_components, random_state=1,\n",
    "          alpha=.1, l1_ratio=.5).fit(tfidf_matrix)\n",
    "\n",
    "print(\"\\nTopics in NMF model (Frobenius norm):\")"
   ]
  },
  {
   "cell_type": "code",
   "execution_count": 194,
   "metadata": {
    "ExecuteTime": {
     "end_time": "2021-01-10T17:49:20.748092Z",
     "start_time": "2021-01-10T17:49:20.703532Z"
    },
    "scrolled": true
   },
   "outputs": [
    {
     "name": "stdout",
     "output_type": "stream",
     "text": [
      "Topic #0: 飞机 战斗机 海军 美国 公司 设计 发动机 生产 轰炸机 服役 开始 日本 航空母舰 进行 使用 直升机 空军 12 任务 机身\n",
      "Topic #1: 掠式 尾翼 桨叶 水平尾翼 螺旋桨 发动机 垂直 涡轮 两台 直线 单翼 下置 机身 背鳍 起落架 形下 风扇 安装 舷窗 机型\n",
      "Topic #2: 坦克 车体 炮塔 毫米 装甲 火炮 驾驶员 战车 该车 步兵 两侧 机枪 装置 装备 前部 车长 榴弹炮 后部 车顶 负重\n",
      "Topic #3: 位于 上层建筑 甲板 顶部 烟囱 舰桥 主桅 护卫舰 发射装置 后方 位置 舰炮 雷达 后缘 装有 海军 高大 桅杆 前方 安装\n",
      "Topic #4: 手枪 弹匣 套筒 枪管 该枪 保险 扳机 握把 步枪 毫米 枪弹 枪机 射击 左侧 机匣 冲锋枪 采用 标于 使用 枪托\n",
      "Topic #5: 导弹 发射 防空 制导 目标 雷达 采用 弹体 反坦克 系统 研制 射程 战斗部 弹道导弹 火箭 导引头 装备 该弹 红旗 反舰导弹\n",
      "Topic #6: 卫星 轨道 发射 运载火箭 地球 火箭 颗卫星 能够 提供 运行 系统 有效载荷 波段 太阳能 数据 进行 一个 服务 任务 空间\n",
      "Topic #7: 潜艇 常规 鱼雷 动力 攻击 水雷 建造 围壳 核潜艇 中国 反潜 海军 研制 035 设计 指挥塔 水下 039 远征 北约\n",
      "Topic #8: 炸弹 弹体 手榴弹 该弹 低阻 引信 系列 爆破 子母 减速 飞机 外形 气动 杀伤 mk80 攻击 头部 阻力 高速 制导\n",
      "\n"
     ]
    }
   ],
   "source": [
    "tfidf_feature_names = vectorizer.get_feature_names()\n",
    "print_top_words(nmf, tfidf_feature_names, n_top_words)"
   ]
  },
  {
   "cell_type": "markdown",
   "metadata": {},
   "source": [
    "#### 加标签"
   ]
  },
  {
   "cell_type": "code",
   "execution_count": 196,
   "metadata": {
    "ExecuteTime": {
     "end_time": "2021-03-06T10:53:14.620563Z",
     "start_time": "2021-03-06T10:53:03.010143Z"
    }
   },
   "outputs": [
    {
     "name": "stdout",
     "output_type": "stream",
     "text": [
      "\n",
      "Topics in NMF model (Frobenius norm):\n",
      "Topic #0: 导弹 发射 防空 制导 目标 雷达 采用 弹体 反坦克 系统 研制 射程 战斗部 火箭 弹道导弹 装备 导引头 该弹 武器 红旗\n",
      "Topic #1: 掠式 尾翼 桨叶 水平尾翼 螺旋桨 发动机 垂直 涡轮 两台 直线 单翼 下置 机身 背鳍 起落架 形下 风扇 安装 舷窗 机型\n",
      "Topic #2: 坦克 车体 炮塔 毫米 装甲 火炮 战车 驾驶员 该车 步兵 两侧 机枪 装置 装备 榴弹炮 前部 车长 后部 生产 车顶\n",
      "Topic #3: 位于 上层建筑 甲板 顶部 烟囱 舰桥 主桅 护卫舰 后方 发射装置 位置 舰炮 雷达 后缘 装有 海军 高大 桅杆 前方 安装\n",
      "Topic #4: 手枪 弹匣 套筒 枪管 该枪 保险 扳机 握把 步枪 毫米 枪弹 枪机 射击 左侧 机匣 采用 冲锋枪 标于 枪托 位于\n",
      "Topic #5: 飞机 战斗机 海军 美国 公司 发动机 生产 轰炸机 设计 服役 航空母舰 日本 空军 机身 直升机 战列舰 原型机 12 飞行 航空\n",
      "Topic #6: 卫星 轨道 发射 运载火箭 地球 火箭 颗卫星 提供 运行 系统 有效载荷 波段 太阳能 数据 一个 服务 空间 通信 太阳 英尺\n",
      "Topic #7: 潜艇 常规 鱼雷 动力 攻击 水雷 建造 围壳 核潜艇 中国 海军 反潜 研制 设计 035 水下 指挥塔 039 远征 服役\n",
      "Topic #8: 炸弹 弹体 低阻 手榴弹 该弹 引信 系列 爆破 子母 减速 飞机 外形 杀伤 气动 mk80 攻击 阻力 头部 高速 制导\n",
      "\n"
     ]
    }
   ],
   "source": [
    "nmf = NMF(n_components=n_components, random_state=1,\n",
    "          alpha=.1, l1_ratio=.5).fit(tfidf_matrix,label_id)\n",
    "\n",
    "print(\"\\nTopics in NMF model (Frobenius norm):\")\n",
    "tfidf_feature_names = vectorizer.get_feature_names()\n",
    "print_top_words(nmf, tfidf_feature_names, n_top_words)"
   ]
  },
  {
   "cell_type": "code",
   "execution_count": 197,
   "metadata": {
    "ExecuteTime": {
     "end_time": "2021-03-06T10:53:33.617094Z",
     "start_time": "2021-03-06T10:53:22.082656Z"
    }
   },
   "outputs": [
    {
     "name": "stdout",
     "output_type": "stream",
     "text": [
      "\n",
      "Topics in NMF model (Frobenius norm):\n",
      "Topic #0: 导弹 发射 防空 制导 目标 雷达 采用 弹体 反坦克 系统 研制 射程 战斗部 火箭 弹道导弹 装备 导引头 该弹 武器 红旗\n",
      "Topic #1: 掠式 尾翼 桨叶 水平尾翼 螺旋桨 发动机 垂直 涡轮 两台 直线 单翼 下置 机身 背鳍 起落架 形下 风扇 安装 舷窗 机型\n",
      "Topic #2: 坦克 车体 炮塔 毫米 装甲 火炮 战车 驾驶员 该车 步兵 两侧 机枪 装置 装备 榴弹炮 前部 车长 后部 生产 车顶\n",
      "Topic #3: 位于 上层建筑 甲板 顶部 烟囱 舰桥 主桅 护卫舰 后方 发射装置 位置 舰炮 雷达 后缘 装有 海军 高大 桅杆 前方 安装\n",
      "Topic #4: 手枪 弹匣 套筒 枪管 该枪 保险 扳机 握把 步枪 毫米 枪弹 枪机 射击 左侧 机匣 采用 冲锋枪 标于 枪托 位于\n",
      "Topic #5: 飞机 战斗机 海军 美国 公司 发动机 生产 轰炸机 设计 服役 航空母舰 日本 空军 机身 直升机 战列舰 原型机 12 飞行 航空\n",
      "Topic #6: 卫星 轨道 发射 运载火箭 地球 火箭 颗卫星 提供 运行 系统 有效载荷 波段 太阳能 数据 一个 服务 空间 通信 太阳 英尺\n",
      "Topic #7: 潜艇 常规 鱼雷 动力 攻击 水雷 建造 围壳 核潜艇 中国 海军 反潜 研制 设计 035 水下 指挥塔 039 远征 服役\n",
      "Topic #8: 炸弹 弹体 低阻 手榴弹 该弹 引信 系列 爆破 子母 减速 飞机 外形 杀伤 气动 mk80 攻击 阻力 头部 高速 制导\n",
      "\n"
     ]
    }
   ],
   "source": [
    "nmf = NMF(n_components=n_components, random_state=1,\n",
    "          alpha=.1, l1_ratio=.5)\n",
    "nmf_matrix = nmf.fit_transform(tfidf_matrix,label_id)\n",
    "\n",
    "print(\"\\nTopics in NMF model (Frobenius norm):\")\n",
    "tfidf_feature_names = vectorizer.get_feature_names()\n",
    "print_top_words(nmf, tfidf_feature_names, n_top_words)"
   ]
  },
  {
   "cell_type": "markdown",
   "metadata": {},
   "source": [
    "# preprocess"
   ]
  },
  {
   "cell_type": "code",
   "execution_count": 34,
   "metadata": {
    "ExecuteTime": {
     "end_time": "2021-01-08T18:03:42.316838Z",
     "start_time": "2021-01-08T18:03:42.205118Z"
    }
   },
   "outputs": [],
   "source": [
    "all_data = []\n",
    "for content in texts:\n",
    "    all_data.extend(content)"
   ]
  },
  {
   "cell_type": "code",
   "execution_count": 35,
   "metadata": {
    "ExecuteTime": {
     "end_time": "2021-01-08T18:03:42.523425Z",
     "start_time": "2021-01-08T18:03:42.318384Z"
    }
   },
   "outputs": [],
   "source": [
    "counter = Counter(all_data)"
   ]
  },
  {
   "cell_type": "code",
   "execution_count": 36,
   "metadata": {
    "ExecuteTime": {
     "end_time": "2021-01-08T18:03:42.531519Z",
     "start_time": "2021-01-08T18:03:42.525196Z"
    },
    "scrolled": true
   },
   "outputs": [
    {
     "data": {
      "text/plain": [
       "[('，', 68702),\n",
       " ('的', 48210),\n",
       " ('。', 42395),\n",
       " ('1', 36958),\n",
       " ('0', 28022),\n",
       " ('2', 21620),\n",
       " ('机', 21558),\n",
       " ('9', 21375),\n",
       " ('年', 16603),\n",
       " ('-', 15646)]"
      ]
     },
     "execution_count": 36,
     "metadata": {},
     "output_type": "execute_result"
    }
   ],
   "source": [
    "counter.most_common(10)"
   ]
  },
  {
   "cell_type": "code",
   "execution_count": 37,
   "metadata": {
    "ExecuteTime": {
     "end_time": "2021-01-08T18:03:42.537101Z",
     "start_time": "2021-01-08T18:03:42.532907Z"
    }
   },
   "outputs": [],
   "source": [
    "vocab_size = 5000"
   ]
  },
  {
   "cell_type": "code",
   "execution_count": 38,
   "metadata": {
    "ExecuteTime": {
     "end_time": "2021-01-08T18:03:42.666231Z",
     "start_time": "2021-01-08T18:03:42.539312Z"
    }
   },
   "outputs": [],
   "source": [
    "count_pairs = counter.most_common(vocab_size - 1)\n",
    "words, _ = list(zip(*count_pairs))\n",
    "# 添加一个 <PAD> 来将所有文本pad为同一长度\n",
    "words = ['<PAD>'] + list(words)"
   ]
  },
  {
   "cell_type": "code",
   "execution_count": 39,
   "metadata": {
    "ExecuteTime": {
     "end_time": "2021-01-08T18:03:42.674485Z",
     "start_time": "2021-01-08T18:03:42.667718Z"
    }
   },
   "outputs": [],
   "source": [
    "word_to_id = dict(zip(words, range(len(words))))"
   ]
  },
  {
   "cell_type": "code",
   "execution_count": 40,
   "metadata": {
    "ExecuteTime": {
     "end_time": "2021-01-08T18:03:42.680367Z",
     "start_time": "2021-01-08T18:03:42.675921Z"
    }
   },
   "outputs": [],
   "source": [
    "categories = count.index"
   ]
  },
  {
   "cell_type": "code",
   "execution_count": 41,
   "metadata": {
    "ExecuteTime": {
     "end_time": "2021-01-08T18:03:42.685904Z",
     "start_time": "2021-01-08T18:03:42.682487Z"
    }
   },
   "outputs": [],
   "source": [
    "cat_to_id = dict(zip(categories, range(len(categories))))"
   ]
  },
  {
   "cell_type": "code",
   "execution_count": 42,
   "metadata": {
    "ExecuteTime": {
     "end_time": "2021-01-08T18:03:42.695032Z",
     "start_time": "2021-01-08T18:03:42.688341Z"
    }
   },
   "outputs": [
    {
     "data": {
      "text/plain": [
       "{'飞行器': 0,\n",
       " '舰船舰艇': 1,\n",
       " '枪械与单兵': 2,\n",
       " '坦克装甲车辆': 3,\n",
       " '火炮': 4,\n",
       " '爆炸物': 5,\n",
       " '导弹武器': 6,\n",
       " '太空装备': 7}"
      ]
     },
     "execution_count": 42,
     "metadata": {},
     "output_type": "execute_result"
    }
   ],
   "source": [
    "cat_to_id"
   ]
  },
  {
   "cell_type": "code",
   "execution_count": 43,
   "metadata": {
    "ExecuteTime": {
     "end_time": "2021-01-08T18:03:44.071874Z",
     "start_time": "2021-01-08T18:03:42.697534Z"
    }
   },
   "outputs": [],
   "source": [
    "from tensorflow import keras as kr"
   ]
  },
  {
   "cell_type": "code",
   "execution_count": 44,
   "metadata": {
    "ExecuteTime": {
     "end_time": "2021-01-08T18:03:44.080031Z",
     "start_time": "2021-01-08T18:03:44.074218Z"
    }
   },
   "outputs": [],
   "source": [
    "def process_file(texts,labels, word_to_id, cat_to_id, max_length=600):\n",
    "    \"\"\"将文件转换为id表示\"\"\"\n",
    "    contents, labels = texts, labels\n",
    "\n",
    "    data_id, label_id = [], []\n",
    "    for i in range(len(contents)):\n",
    "        data_id.append([word_to_id[x] for x in contents[i] if x in word_to_id])\n",
    "        label_id.append(cat_to_id[labels[i]])\n",
    "\n",
    "    # 使用keras提供的pad_sequences来将文本pad为固定长度\n",
    "    x_pad = kr.preprocessing.sequence.pad_sequences(data_id, max_length)\n",
    "    y_pad = kr.utils.to_categorical(label_id, num_classes=len(cat_to_id))  # 将标签转换为one-hot表示\n",
    "\n",
    "    return x_pad, y_pad\n"
   ]
  },
  {
   "cell_type": "code",
   "execution_count": 45,
   "metadata": {
    "ExecuteTime": {
     "end_time": "2021-01-08T18:03:44.560719Z",
     "start_time": "2021-01-08T18:03:44.081690Z"
    }
   },
   "outputs": [],
   "source": [
    "seq_length=700\n",
    "x_data, y_data = process_file(texts, labels, word_to_id, cat_to_id, seq_length)"
   ]
  },
  {
   "cell_type": "code",
   "execution_count": 46,
   "metadata": {
    "ExecuteTime": {
     "end_time": "2021-01-08T18:03:44.603781Z",
     "start_time": "2021-01-08T18:03:44.562289Z"
    }
   },
   "outputs": [],
   "source": [
    "from sklearn.model_selection import train_test_split"
   ]
  },
  {
   "cell_type": "code",
   "execution_count": 47,
   "metadata": {
    "ExecuteTime": {
     "end_time": "2021-01-08T18:03:44.615074Z",
     "start_time": "2021-01-08T18:03:44.605398Z"
    }
   },
   "outputs": [],
   "source": [
    "X_train, X_test, y_train, y_test  = train_test_split(x_data, y_data, test_size=0.1, random_state=6, shuffle=True)"
   ]
  },
  {
   "cell_type": "code",
   "execution_count": null,
   "metadata": {},
   "outputs": [],
   "source": []
  },
  {
   "cell_type": "code",
   "execution_count": 241,
   "metadata": {
    "ExecuteTime": {
     "end_time": "2021-03-06T18:41:40.811270Z",
     "start_time": "2021-03-06T18:41:40.757956Z"
    },
    "scrolled": false
   },
   "outputs": [
    {
     "name": "stdout",
     "output_type": "stream",
     "text": [
      "col_0  count\n",
      "0           \n",
      "1点        23\n",
      "2点        20\n",
      "3点        18\n",
      "4点        19\n",
      "5点        24\n",
      "6点        16\n",
      "——————\n",
      "col_0  count\n",
      "0           \n",
      "1点        20\n",
      "2点        20\n",
      "3点        20\n",
      "4点        20\n",
      "5点        20\n",
      "6点        20\n",
      "chi_squared_stat\n",
      "col_0\n",
      "count    2.3\n",
      "dtype: float64\n"
     ]
    }
   ],
   "source": [
    "import pandas as pd \n",
    "import numpy as np \n",
    "from scipy import stats\n",
    "#创建上述表\n",
    "observed_pd = pd.DataFrame(['1点']*23+['2点']*20+['3点']*18+['4点']*19+['5点']*24+['6点']*16)\n",
    "expected_pd = pd.DataFrame(['1点']*20+['2点']*20+['3点']*20+['4点']*20+['5点']*20+['6点']*20)\n",
    "observed_table = pd.crosstab(index=observed_pd[0],columns='count')\n",
    "expected_table = pd.crosstab(index=expected_pd[0],columns='count')\n",
    "print(observed_table)\n",
    "print('——————')\n",
    "print(expected_table)\n",
    "#通过公式算出卡方值\n",
    "observed = observed_table \n",
    "expected = expected_table \n",
    "chi_squared_stat = ((observed-expected)**2/expected).sum()\n",
    "print('chi_squared_stat')\n",
    "print(chi_squared_stat)"
   ]
  },
  {
   "cell_type": "code",
   "execution_count": 244,
   "metadata": {
    "ExecuteTime": {
     "end_time": "2021-03-06T19:05:23.361303Z",
     "start_time": "2021-03-06T19:05:23.197085Z"
    }
   },
   "outputs": [
    {
     "data": {
      "text/plain": [
       "[<matplotlib.lines.Line2D at 0x7fde362eddf0>]"
      ]
     },
     "execution_count": 244,
     "metadata": {},
     "output_type": "execute_result"
    },
    {
     "data": {
      "image/png": "[encoded data removed]",
      "text/plain": [
       "<Figure size 432x288 with 1 Axes>"
      ]
     },
     "metadata": {},
     "output_type": "display_data"
    }
   ],
   "source": [
    "from scipy.stats import chi2\n",
    "import matplotlib.pyplot as plt\n",
    "fig, ax = plt.subplots(1, 1)\n",
    "\n",
    "df = 55\n",
    "mean, var, skew, kurt = chi2.stats(df, moments='mvsk')\n",
    "\n",
    "x = np.linspace(chi2.ppf(0.01, df),\n",
    "                chi2.ppf(0.99, df), 100)\n",
    "ax.plot(x, chi2.pdf(x, df),\n",
    "       'r-', lw=5, alpha=0.6, label='chi2 pdf')\n",
    "\n",
    "rv = chi2(df)\n",
    "ax.plot(x, rv.pdf(x), 'k-', lw=2, label='frozen pdf')"
   ]
  },
  {
   "cell_type": "code",
   "execution_count": 245,
   "metadata": {
    "ExecuteTime": {
     "end_time": "2021-03-06T19:05:34.725067Z",
     "start_time": "2021-03-06T19:05:34.716846Z"
    }
   },
   "outputs": [
    {
     "data": {
      "text/plain": [
       "55"
      ]
     },
     "execution_count": 245,
     "metadata": {},
     "output_type": "execute_result"
    }
   ],
   "source": [
    "df"
   ]
  },
  {
   "cell_type": "code",
   "execution_count": null,
   "metadata": {},
   "outputs": [],
   "source": [
    "\n"
   ]
  }
 ],
 "metadata": {
  "kernelspec": {
   "display_name": "tf",
   "language": "python",
   "name": "tf"
  },
  "language_info": {
   "codemirror_mode": {
    "name": "ipython",
    "version": 3
   },
   "file_extension": ".py",
   "mimetype": "text/x-python",
   "name": "python",
   "nbconvert_exporter": "python",
   "pygments_lexer": "ipython3",
   "version": "3.8.3"
  },
  "toc": {
   "base_numbering": 1,
   "nav_menu": {},
   "number_sections": true,
   "sideBar": true,
   "skip_h1_title": false,
   "title_cell": "Table of Contents",
   "title_sidebar": "Contents",
   "toc_cell": false,
   "toc_position": {
    "height": "calc(100% - 180px)",
    "left": "10px",
    "top": "150px",
    "width": "255.969px"
   },
   "toc_section_display": true,
   "toc_window_display": true
  }
 },
 "nbformat": 4,
 "nbformat_minor": 2
}
