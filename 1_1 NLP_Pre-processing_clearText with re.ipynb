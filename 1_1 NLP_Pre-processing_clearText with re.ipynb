{
 "cells": [
  {
   "cell_type": "markdown",
   "metadata": {},
   "source": [
    "[NLP]预处理--使用re正则化进行文本清理"
   ]
  },
  {
   "cell_type": "code",
   "execution_count": 2,
   "metadata": {},
   "outputs": [],
   "source": [
    "import random\n",
    "import re"
   ]
  },
  {
   "cell_type": "markdown",
   "metadata": {},
   "source": [
    "文本清理：在自然语言处理中，尽管文本清理受所做的任务影响比较大，但是有一些通用的清理流程标准是通用的，比如是否有必要替换单位、货币、数学符号、数字。可以使用正则化工具将相应内容替换为标准内容。\n",
    "\n",
    "工具：re([简介](http://python.jobbole.com/88729/)）\n",
    "\n",
    "输入：原始文本\n",
    "\n",
    "输出：干净文本\n",
    "\n",
    "代码：notebook"
   ]
  },
  {
   "cell_type": "markdown",
   "metadata": {},
   "source": [
    "## 单位替换  \n",
    "将文本中的单位替换为统一格式如：将4kgs、4kg统一替换为4 kg，将4k替换为4000，将$100或100$替换为100 dollar。"
   ]
  },
  {
   "cell_type": "code",
   "execution_count": 5,
   "metadata": {},
   "outputs": [],
   "source": [
    "text = \"I want to lose 4kgs in a month. What does 4k mean in a salary?What is the best way to make money with $100?\""
   ]
  },
  {
   "cell_type": "code",
   "execution_count": 6,
   "metadata": {},
   "outputs": [],
   "source": [
    "# 单位\n",
    "text = re.sub(r\"(\\d+)kgs \", lambda m: m.group(1) + ' kg ', text)        # e.g. 4kgs => 4 kg\n",
    "text = re.sub(r\"(\\d+)kg \", lambda m: m.group(1) + ' kg ', text)         # e.g. 4kg => 4 kg\n",
    "text = re.sub(r\"(\\d+)k \", lambda m: m.group(1) + '000 ', text)          # e.g. 4k => 4000\n",
    "text = re.sub(r\"\\$(\\d+)\", lambda m: m.group(1) + ' dollar ', text)      # e.g. $100 => 100 dollar\n",
    "text = re.sub(r\"(\\d+)\\$\", lambda m: m.group(1) + ' dollar ', text)      # e.g. 100$ => 100 dollar"
   ]
  },
  {
   "cell_type": "code",
   "execution_count": 7,
   "metadata": {},
   "outputs": [
    {
     "data": {
      "text/plain": [
       "'I want to lose 4 kg in a month. What does 4000 mean in a salary?What is the best way to make money with 100 dollar ?'"
      ]
     },
     "execution_count": 7,
     "metadata": {},
     "output_type": "execute_result"
    }
   ],
   "source": [
    "text"
   ]
  },
  {
   "cell_type": "markdown",
   "metadata": {},
   "source": [
    "## 略缩词替换\n",
    "\n",
    "将文本中首字母略缩词替换为完整单词，如can't、cannot替换为can not，'ve替换为have，c#替换为csharp等。"
   ]
  },
  {
   "cell_type": "code",
   "execution_count": 13,
   "metadata": {},
   "outputs": [],
   "source": [
    "text = \"Why India can't compete with China in manufacturing. What is the biggest scam you've ever seen? Why Should I Learn c#? \""
   ]
  },
  {
   "cell_type": "code",
   "execution_count": 14,
   "metadata": {},
   "outputs": [],
   "source": [
    "# 略缩词\n",
    "text = re.sub(r\"can\\'t\", \"can not\", text)\n",
    "text = re.sub(r\"cannot\", \"can not \", text)\n",
    "text = re.sub(r\"what\\'s\", \"what is\", text)\n",
    "text = re.sub(r\"What\\'s\", \"what is\", text)\n",
    "text = re.sub(r\"\\'ve \", \" have \", text)\n",
    "text = re.sub(r\"n\\'t\", \" not \", text)\n",
    "text = re.sub(r\"i\\'m\", \"i am \", text)\n",
    "text = re.sub(r\"I\\'m\", \"i am \", text)\n",
    "text = re.sub(r\"\\'re\", \" are \", text)\n",
    "text = re.sub(r\"\\'d\", \" would \", text)\n",
    "text = re.sub(r\"\\'ll\", \" will \", text)\n",
    "text = re.sub(r\"c\\+\\+\", \"cplusplus\", text)\n",
    "text = re.sub(r\"c \\+\\+\", \"cplusplus\", text)\n",
    "text = re.sub(r\"c \\+ \\+\", \"cplusplus\", text)\n",
    "text = re.sub(r\"c#\", \"csharp\", text)\n",
    "text = re.sub(r\"f#\", \"fsharp\", text)\n",
    "text = re.sub(r\"g#\", \"gsharp\", text)\n",
    "text = re.sub(r\" e mail \", \" email \", text)\n",
    "text = re.sub(r\" e \\- mail \", \" email \", text)\n",
    "text = re.sub(r\" e\\-mail \", \" email \", text)\n",
    "text = re.sub(r\",000\", '000', text)\n",
    "text = re.sub(r\"\\'s\", \" \", text)"
   ]
  },
  {
   "cell_type": "code",
   "execution_count": 15,
   "metadata": {},
   "outputs": [
    {
     "data": {
      "text/plain": [
       "'Why India can not compete with China in manufacturing. What is the biggest scam you have ever seen? Why Should I Learn csharp? '"
      ]
     },
     "execution_count": 15,
     "metadata": {},
     "output_type": "execute_result"
    }
   ],
   "source": [
    "text"
   ]
  },
  {
   "cell_type": "markdown",
   "metadata": {},
   "source": [
    "## 拼写校对\n",
    "\n",
    "如将ph.d、PhD替换为phd，去掉多余空格，将缩写替换为全拼、将阿拉伯数字替换为英文数字、将美元复数替换为单数等。"
   ]
  },
  {
   "cell_type": "code",
   "execution_count": 29,
   "metadata": {},
   "outputs": [],
   "source": [
    "text = \"ph.d PhD pokemons e g fb usa 1 2 3 googling rs1 dollars\""
   ]
  },
  {
   "cell_type": "code",
   "execution_count": 30,
   "metadata": {},
   "outputs": [],
   "source": [
    "# 拼写校对\n",
    "text = re.sub(r\"ph\\.d\", \"phd\", text)\n",
    "text = re.sub(r\"PhD\", \"phd\", text)\n",
    "text = re.sub(r\"pokemons\", \"pokemon\", text)\n",
    "text = re.sub(r\"pokémon\", \"pokemon\", text)\n",
    "text = re.sub(r\"pokemon go \", \"pokemon-go \", text)\n",
    "text = re.sub(r\" e g \", \" eg \", text)\n",
    "text = re.sub(r\" b g \", \" bg \", text)\n",
    "text = re.sub(r\" 9 11 \", \" 911 \", text)\n",
    "text = re.sub(r\" j k \", \" jk \", text)\n",
    "text = re.sub(r\" fb \", \" facebook \", text)\n",
    "text = re.sub(r\"facebooks\", \" facebook \", text)\n",
    "text = re.sub(r\"facebooking\", \" facebook \", text)\n",
    "text = re.sub(r\"insidefacebook\", \"inside facebook\", text)\n",
    "text = re.sub(r\"donald trump\", \"trump\", text)\n",
    "text = re.sub(r\"the big bang\", \"big-bang\", text)\n",
    "text = re.sub(r\"the european union\", \"eu\", text)\n",
    "text = re.sub(r\" usa \", \" america \", text)\n",
    "text = re.sub(r\" us \", \" america \", text)\n",
    "text = re.sub(r\" u s \", \" america \", text)\n",
    "text = re.sub(r\" U\\.S\\. \", \" america \", text)\n",
    "text = re.sub(r\" US \", \" america \", text)\n",
    "text = re.sub(r\" American \", \" america \", text)\n",
    "text = re.sub(r\" America \", \" america \", text)\n",
    "text = re.sub(r\" quaro \", \" quora \", text)\n",
    "text = re.sub(r\" mbp \", \" macbook-pro \", text)\n",
    "text = re.sub(r\" mac \", \" macbook \", text)\n",
    "text = re.sub(r\"macbook pro\", \"macbook-pro\", text)\n",
    "text = re.sub(r\"macbook-pros\", \"macbook-pro\", text)\n",
    "text = re.sub(r\" 1 \", \" one \", text)\n",
    "text = re.sub(r\" 2 \", \" two \", text)\n",
    "text = re.sub(r\" 3 \", \" three \", text)\n",
    "text = re.sub(r\" 4 \", \" four \", text)\n",
    "text = re.sub(r\" 5 \", \" five \", text)\n",
    "text = re.sub(r\" 6 \", \" six \", text)\n",
    "text = re.sub(r\" 7 \", \" seven \", text)\n",
    "text = re.sub(r\" 8 \", \" eight \", text)\n",
    "text = re.sub(r\" 9 \", \" nine \", text)\n",
    "text = re.sub(r\"googling\", \" google \", text)\n",
    "text = re.sub(r\"googled\", \" google \", text)\n",
    "text = re.sub(r\"googleable\", \" google \", text)\n",
    "text = re.sub(r\"googles\", \" google \", text)\n",
    "text = re.sub(r\" rs(\\d+)\", lambda m: ' rs ' + m.group(1), text)\n",
    "text = re.sub(r\"(\\d+)rs\", lambda m: ' rs ' + m.group(1), text)\n",
    "text = re.sub(r\"the european union\", \" eu \", text)\n",
    "text = re.sub(r\"dollars\", \" dollar \", text)\n"
   ]
  },
  {
   "cell_type": "code",
   "execution_count": 31,
   "metadata": {},
   "outputs": [
    {
     "data": {
      "text/plain": [
       "'phd phd pokemon eg facebook america one two three  google  rs 1  dollar '"
      ]
     },
     "execution_count": 31,
     "metadata": {},
     "output_type": "execute_result"
    }
   ],
   "source": [
    "text"
   ]
  },
  {
   "cell_type": "markdown",
   "metadata": {},
   "source": [
    "## 标点处理\n",
    "\n",
    "在标点两旁加上空格、去除标点'。"
   ]
  },
  {
   "cell_type": "code",
   "execution_count": 32,
   "metadata": {},
   "outputs": [],
   "source": [
    "text = \"1+1=2 What is the biggest scam you have ever seen?I am learning csharp?\""
   ]
  },
  {
   "cell_type": "code",
   "execution_count": 33,
   "metadata": {},
   "outputs": [],
   "source": [
    "# 标点处理\n",
    "text = re.sub(r\"\\+\", \" + \", text)\n",
    "text = re.sub(r\"'\", \" \", text)\n",
    "text = re.sub(r\"-\", \" - \", text)\n",
    "text = re.sub(r\"/\", \" / \", text)\n",
    "text = re.sub(r\"\\\\\", \" \\ \", text)\n",
    "text = re.sub(r\"=\", \" = \", text)\n",
    "text = re.sub(r\"\\^\", \" ^ \", text)\n",
    "text = re.sub(r\":\", \" : \", text)\n",
    "text = re.sub(r\"\\.\", \" . \", text)\n",
    "text = re.sub(r\",\", \" , \", text)\n",
    "text = re.sub(r\"\\?\", \" ? \", text)\n",
    "text = re.sub(r\"!\", \" ! \", text)\n",
    "text = re.sub(r\"\\\"\", \" \\\" \", text)\n",
    "text = re.sub(r\"&\", \" & \", text)\n",
    "text = re.sub(r\"\\|\", \" | \", text)\n",
    "text = re.sub(r\";\", \" ; \", text)\n",
    "text = re.sub(r\"\\(\", \" ( \", text)\n",
    "text = re.sub(r\"\\)\", \" ( \", text)"
   ]
  },
  {
   "cell_type": "code",
   "execution_count": 34,
   "metadata": {},
   "outputs": [
    {
     "data": {
      "text/plain": [
       "'1 + 1 = 2 What is the biggest scam you have ever seen ? I am learning csharp ? '"
      ]
     },
     "execution_count": 34,
     "metadata": {},
     "output_type": "execute_result"
    }
   ],
   "source": [
    "text"
   ]
  },
  {
   "cell_type": "markdown",
   "metadata": {},
   "source": [
    "## 符号替换\n",
    "\n",
    "将逻辑符号替换为单词。"
   ]
  },
  {
   "cell_type": "code",
   "execution_count": 49,
   "metadata": {},
   "outputs": [],
   "source": [
    "text = \"1   + 1 =   2   ₹    \""
   ]
  },
  {
   "cell_type": "code",
   "execution_count": 50,
   "metadata": {},
   "outputs": [],
   "source": [
    "# 符号替换\n",
    "text = re.sub(r\"&\", \" and \", text)\n",
    "text = re.sub(r\"\\|\", \" or \", text)\n",
    "text = re.sub(r\"=\", \" equal \", text)\n",
    "text = re.sub(r\"\\+\", \" plus \", text)\n",
    "text = re.sub(r\"₹\", \" rs \", text)      # 测试！\n",
    "text = re.sub(r\"\\$\", \" dollar \", text)"
   ]
  },
  {
   "cell_type": "code",
   "execution_count": 51,
   "metadata": {},
   "outputs": [
    {
     "data": {
      "text/plain": [
       "'1    plus  1  equal    2    rs     '"
      ]
     },
     "execution_count": 51,
     "metadata": {},
     "output_type": "execute_result"
    }
   ],
   "source": [
    "text"
   ]
  },
  {
   "cell_type": "markdown",
   "metadata": {},
   "source": [
    "## 移除多余空格"
   ]
  },
  {
   "cell_type": "code",
   "execution_count": 52,
   "metadata": {},
   "outputs": [],
   "source": [
    "# 移除多余空格\n",
    "text = ' '.join(text.split())"
   ]
  },
  {
   "cell_type": "code",
   "execution_count": 53,
   "metadata": {},
   "outputs": [
    {
     "data": {
      "text/plain": [
       "'1 plus 1 equal 2 rs'"
      ]
     },
     "execution_count": 53,
     "metadata": {},
     "output_type": "execute_result"
    }
   ],
   "source": [
    "text"
   ]
  },
  {
   "cell_type": "markdown",
   "metadata": {},
   "source": [
    "## 所有代码"
   ]
  },
  {
   "cell_type": "code",
   "execution_count": 60,
   "metadata": {},
   "outputs": [],
   "source": [
    "def clean_text(text):\n",
    "    \"\"\"\n",
    "    Clean text\n",
    "    :param text: the string of text\n",
    "    :return: text string after cleaning\n",
    "    \"\"\"\n",
    "    # unit\n",
    "    text = re.sub(r\"(\\d+)kgs \", lambda m: m.group(1) + ' kg ', text)        # e.g. 4kgs => 4 kg\n",
    "    text = re.sub(r\"(\\d+)kg \", lambda m: m.group(1) + ' kg ', text)         # e.g. 4kg => 4 kg\n",
    "    text = re.sub(r\"(\\d+)k \", lambda m: m.group(1) + '000 ', text)          # e.g. 4k => 4000\n",
    "    text = re.sub(r\"\\$(\\d+)\", lambda m: m.group(1) + ' dollar ', text)\n",
    "    text = re.sub(r\"(\\d+)\\$\", lambda m: m.group(1) + ' dollar ', text)\n",
    "\n",
    "    # acronym\n",
    "    text = re.sub(r\"can\\'t\", \"can not\", text)\n",
    "    text = re.sub(r\"cannot\", \"can not \", text)\n",
    "    text = re.sub(r\"what\\'s\", \"what is\", text)\n",
    "    text = re.sub(r\"What\\'s\", \"what is\", text)\n",
    "    text = re.sub(r\"\\'ve \", \" have \", text)\n",
    "    text = re.sub(r\"n\\'t\", \" not \", text)\n",
    "    text = re.sub(r\"i\\'m\", \"i am \", text)\n",
    "    text = re.sub(r\"I\\'m\", \"i am \", text)\n",
    "    text = re.sub(r\"\\'re\", \" are \", text)\n",
    "    text = re.sub(r\"\\'d\", \" would \", text)\n",
    "    text = re.sub(r\"\\'ll\", \" will \", text)\n",
    "    text = re.sub(r\"c\\+\\+\", \"cplusplus\", text)\n",
    "    text = re.sub(r\"c \\+\\+\", \"cplusplus\", text)\n",
    "    text = re.sub(r\"c \\+ \\+\", \"cplusplus\", text)\n",
    "    text = re.sub(r\"c#\", \"csharp\", text)\n",
    "    text = re.sub(r\"f#\", \"fsharp\", text)\n",
    "    text = re.sub(r\"g#\", \"gsharp\", text)\n",
    "    text = re.sub(r\" e mail \", \" email \", text)\n",
    "    text = re.sub(r\" e \\- mail \", \" email \", text)\n",
    "    text = re.sub(r\" e\\-mail \", \" email \", text)\n",
    "    text = re.sub(r\",000\", '000', text)\n",
    "    text = re.sub(r\"\\'s\", \" \", text)\n",
    "\n",
    "    # spelling correction\n",
    "    text = re.sub(r\"ph\\.d\", \"phd\", text)\n",
    "    text = re.sub(r\"PhD\", \"phd\", text)\n",
    "    text = re.sub(r\"pokemons\", \"pokemon\", text)\n",
    "    text = re.sub(r\"pokémon\", \"pokemon\", text)\n",
    "    text = re.sub(r\"pokemon go \", \"pokemon-go \", text)\n",
    "    text = re.sub(r\" e g \", \" eg \", text)\n",
    "    text = re.sub(r\" b g \", \" bg \", text)\n",
    "    text = re.sub(r\" 9 11 \", \" 911 \", text)\n",
    "    text = re.sub(r\" j k \", \" jk \", text)\n",
    "    text = re.sub(r\" fb \", \" facebook \", text)\n",
    "    text = re.sub(r\"facebooks\", \" facebook \", text)\n",
    "    text = re.sub(r\"facebooking\", \" facebook \", text)\n",
    "    text = re.sub(r\"insidefacebook\", \"inside facebook\", text)\n",
    "    text = re.sub(r\"donald trump\", \"trump\", text)\n",
    "    text = re.sub(r\"the big bang\", \"big-bang\", text)\n",
    "    text = re.sub(r\"the european union\", \"eu\", text)\n",
    "    text = re.sub(r\" usa \", \" america \", text)\n",
    "    text = re.sub(r\" us \", \" america \", text)\n",
    "    text = re.sub(r\" u s \", \" america \", text)\n",
    "    text = re.sub(r\" U\\.S\\. \", \" america \", text)\n",
    "    text = re.sub(r\" US \", \" america \", text)\n",
    "    text = re.sub(r\" American \", \" america \", text)\n",
    "    text = re.sub(r\" America \", \" america \", text)\n",
    "    text = re.sub(r\" quaro \", \" quora \", text)\n",
    "    text = re.sub(r\" mbp \", \" macbook-pro \", text)\n",
    "    text = re.sub(r\" mac \", \" macbook \", text)\n",
    "    text = re.sub(r\"macbook pro\", \"macbook-pro\", text)\n",
    "    text = re.sub(r\"macbook-pros\", \"macbook-pro\", text)\n",
    "    text = re.sub(r\" 1 \", \" one \", text)\n",
    "    text = re.sub(r\" 2 \", \" two \", text)\n",
    "    text = re.sub(r\" 3 \", \" three \", text)\n",
    "    text = re.sub(r\" 4 \", \" four \", text)\n",
    "    text = re.sub(r\" 5 \", \" five \", text)\n",
    "    text = re.sub(r\" 6 \", \" six \", text)\n",
    "    text = re.sub(r\" 7 \", \" seven \", text)\n",
    "    text = re.sub(r\" 8 \", \" eight \", text)\n",
    "    text = re.sub(r\" 9 \", \" nine \", text)\n",
    "    text = re.sub(r\"googling\", \" google \", text)\n",
    "    text = re.sub(r\"googled\", \" google \", text)\n",
    "    text = re.sub(r\"googleable\", \" google \", text)\n",
    "    text = re.sub(r\"googles\", \" google \", text)\n",
    "    text = re.sub(r\" rs(\\d+)\", lambda m: ' rs ' + m.group(1), text)\n",
    "    text = re.sub(r\"(\\d+)rs\", lambda m: ' rs ' + m.group(1), text)\n",
    "    text = re.sub(r\"the european union\", \" eu \", text)\n",
    "    text = re.sub(r\"dollars\", \" dollar \", text)\n",
    "\n",
    "    # punctuation\n",
    "    text = re.sub(r\"\\+\", \" + \", text)\n",
    "    text = re.sub(r\"'\", \" \", text)\n",
    "    text = re.sub(r\"-\", \" - \", text)\n",
    "    text = re.sub(r\"/\", \" / \", text)\n",
    "    text = re.sub(r\"\\\\\", \" \\ \", text)\n",
    "    text = re.sub(r\"=\", \" = \", text)\n",
    "    text = re.sub(r\"\\^\", \" ^ \", text)\n",
    "    text = re.sub(r\":\", \" : \", text)\n",
    "    text = re.sub(r\"\\.\", \" . \", text)\n",
    "    text = re.sub(r\",\", \" , \", text)\n",
    "    text = re.sub(r\"\\?\", \" ? \", text)\n",
    "    text = re.sub(r\"!\", \" ! \", text)\n",
    "    text = re.sub(r\"\\\"\", \" \\\" \", text)\n",
    "    text = re.sub(r\"&\", \" & \", text)\n",
    "    text = re.sub(r\"\\|\", \" | \", text)\n",
    "    text = re.sub(r\";\", \" ; \", text)\n",
    "    text = re.sub(r\"\\(\", \" ( \", text)\n",
    "    text = re.sub(r\"\\)\", \" ( \", text)\n",
    "\n",
    "    # symbol replacement\n",
    "    text = re.sub(r\"&\", \" and \", text)\n",
    "    text = re.sub(r\"\\|\", \" or \", text)\n",
    "    text = re.sub(r\"=\", \" equal \", text)\n",
    "    text = re.sub(r\"\\+\", \" plus \", text)\n",
    "    text = re.sub(r\"₹\", \" rs \", text)      # 测试！\n",
    "    text = re.sub(r\"\\$\", \" dollar \", text)\n",
    "\n",
    "    # remove extra space\n",
    "    text = ' '.join(text.split())\n",
    "\n",
    "    return text"
   ]
  },
  {
   "cell_type": "markdown",
   "metadata": {},
   "source": [
    "## 调用"
   ]
  },
  {
   "cell_type": "code",
   "execution_count": 64,
   "metadata": {},
   "outputs": [],
   "source": [
    "text = \"I want    to lose    4kgs in a month. What does 4k mean in a salary?What is    the best way to make money with $100? Why India can't compete with China in manufacturing. What is the biggest    scam you've ever seen? Why Should I Learn c#? ph.d PhD   pokemons e g fb usa 1 2 3 googling rs1 dollars 1   +1=  2 ₹ ₹   ₹₹₹₹\""
   ]
  },
  {
   "cell_type": "code",
   "execution_count": 65,
   "metadata": {
    "scrolled": true
   },
   "outputs": [
    {
     "data": {
      "text/plain": [
       "\"I want    to lose    4kgs in a month. What does 4k mean in a salary?What is    the best way to make money with $100? Why India can't compete with China in manufacturing. What is the biggest    scam you've ever seen? Why Should I Learn c#? ph.d PhD   pokemons e g fb usa 1 2 3 googling rs1 dollars 1   +1=  2 ₹ ₹   ₹₹₹₹\""
      ]
     },
     "execution_count": 65,
     "metadata": {},
     "output_type": "execute_result"
    }
   ],
   "source": [
    "text"
   ]
  },
  {
   "cell_type": "code",
   "execution_count": 66,
   "metadata": {
    "scrolled": true
   },
   "outputs": [
    {
     "data": {
      "text/plain": [
       "'I want to lose four kg in a month . What does 4000 mean in a salary ? What is the best way to make money with 100 dollar ? Why India can not compete with China in manufacturing . What is the biggest scam you have ever seen ? Why Should I Learn csharp ? phd phd pokemon eg facebook america one two three google rs 1 dollar one plus 1 equal two rs rs rs rs rs rs'"
      ]
     },
     "execution_count": 66,
     "metadata": {},
     "output_type": "execute_result"
    }
   ],
   "source": [
    "clean_text(text)"
   ]
  }
 ],
 "metadata": {
  "kernelspec": {
   "display_name": "Python 3",
   "language": "python",
   "name": "python3"
  },
  "language_info": {
   "codemirror_mode": {
    "name": "ipython",
    "version": 3
   },
   "file_extension": ".py",
   "mimetype": "text/x-python",
   "name": "python",
   "nbconvert_exporter": "python",
   "pygments_lexer": "ipython3",
   "version": "3.6.5"
  },
  "toc": {
   "base_numbering": 1,
   "nav_menu": {},
   "number_sections": true,
   "sideBar": true,
   "skip_h1_title": false,
   "title_cell": "Table of Contents",
   "title_sidebar": "Contents",
   "toc_cell": false,
   "toc_position": {
    "height": "calc(100% - 180px)",
    "left": "10px",
    "top": "150px",
    "width": "248.352px"
   },
   "toc_section_display": true,
   "toc_window_display": true
  }
 },
 "nbformat": 4,
 "nbformat_minor": 2
}
